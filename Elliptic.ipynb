{
 "cells": [
  {
   "cell_type": "code",
   "execution_count": 1,
   "metadata": {},
   "outputs": [
    {
     "data": {
      "text/html": [
       "<style>.container { width:50% !important; }</style>"
      ],
      "text/plain": [
       "<IPython.core.display.HTML object>"
      ]
     },
     "metadata": {},
     "output_type": "display_data"
    }
   ],
   "source": [
    "from IPython.core.display import display, HTML\n",
    "display(HTML(\"<style>.container { width:50% !important; }</style>\"))"
   ]
  },
  {
   "cell_type": "markdown",
   "metadata": {},
   "source": [
    "Definition. Let $A$ be an open subset of $\\mathbb{C}$. A function $f:A\\to\\mathbb{C}$ is *holomorphic* on $A$ if it has derivative on $A$."
   ]
  },
  {
   "cell_type": "markdown",
   "metadata": {},
   "source": [
    "Definition. Let $A$ be an open subset of $\\mathbb{C}$. A function $f:A\\to\\mathbb{C}$ is *analytic* on $A$ if it has Taylor expansion on $A$."
   ]
  },
  {
   "cell_type": "markdown",
   "metadata": {},
   "source": [
    "Claim. If $f$ is holomorphic on an open subset $A\\subseteq\\mathbb{C}$, then it is analytic on $A$."
   ]
  },
  {
   "cell_type": "markdown",
   "metadata": {},
   "source": [
    "Claim. If a complex function is holomorphic on an open subset of $\\mathbb{C}$, then it has an extension that is holomorphic on all but finite subset of $\\mathbb{C}$."
   ]
  },
  {
   "cell_type": "markdown",
   "metadata": {},
   "source": [
    "Definition. A *meromorphic* function on an open subset of $A\\subseteq\\mathbb{C}$ is a function that is holomorphic on all but finite subset of $A$."
   ]
  },
  {
   "cell_type": "markdown",
   "metadata": {},
   "source": [
    "Remark. A holomorphic or meromorphic function on an open subset of $\\mathbb{C}$ can be extended to a meromorphic function on $\\mathbb{C}$."
   ]
  },
  {
   "cell_type": "markdown",
   "metadata": {},
   "source": [
    "Liouville. If a function is holomorphic and bounded on $\\mathbb{C}$, then it is a constant."
   ]
  },
  {
   "cell_type": "markdown",
   "metadata": {},
   "source": [
    "Remark. A meromorphic function is either holomorphic on $\\mathbb{C}$ but unbounded as $z\\to\\infty$, or it has poles in $\\mathbb{C}$."
   ]
  },
  {
   "cell_type": "markdown",
   "metadata": {},
   "source": [
    "Claim. If a function $f$ is holomorphic in a domain that contains $0$ but not holomorphic at $0$, then it can be expressed as a Laurent series with finitely many negative power terms, that is, there is a positive integer $N$, such that \n",
    "$$f(z)=\\sum_{k\\ge -N}a_kz^k$$."
   ]
  },
  {
   "cell_type": "markdown",
   "metadata": {},
   "source": [
    "Claim. Let $f$ be a function holomorphic on a domain $A$. Let $C$ be a closed curve contained in $A$. Then $$\\int_C f(z) dz=0$$."
   ]
  },
  {
   "cell_type": "markdown",
   "metadata": {},
   "source": [
    "Claim. Let $C$ be a closed curve around $0$. $$\\int_C \\frac{1}{z} dz=2\\pi i$$."
   ]
  },
  {
   "cell_type": "markdown",
   "metadata": {},
   "source": [
    "Claim. Let $C$ be a closed curve around $0$. Let $k\\neq 1$ be a positive integer. $$\\int_C \\frac{1}{z^k} dz=0$$."
   ]
  },
  {
   "cell_type": "markdown",
   "metadata": {},
   "source": [
    "Remark. The function $\\sqrt{z}$ is not holomorphic on entire $\\mathbb{C}$. For $z=1$, there are two choices of $\\sqrt{z}$, either $1$ or $-1$. By choosing one value, for example $1$, there is only one way to choose values in the neighborhood of $z=1$. By piecing up such neighborhoods along a circle centered at $0$ with radius $1$, the values gradually change to near $-1$ near $z=1$ around the full circle. This means, such a choice of function value, cannot make $\\sqrt{z}$ a continuous function on entire $\\mathbb{C}$. If we cut the complex plane on positive $x$-axis (including $0$), that is, remove the subset of $\\mathbb{R}_{\\ge0}$ from $\\mathbb{C}$, then we can define (or choose) a holomorphic $\\sqrt{z}$."
   ]
  },
  {
   "cell_type": "markdown",
   "metadata": {},
   "source": [
    "Function defined by integral equation. Let $f$ be a function holomorphic in a domain $A$ that conains $0$. Let $w$ be a point in $A$. Let $C$ be a path contained in $A$ that connects $0$ and $w$. Consider the integral equation along $C$,\n",
    "$$y=\\int_0^w f(z)dz$$\n",
    "The equation defines a relation between $y$ and $w$. If we look at $y$ and $w$ in a neighborhood around $y$ and $w$, it defines a function $I:w\\mapsto y$ and the inverse function $J:y\\mapsto w$. The property of $I$ and $J$ are closely related to the property of $f$ in the domain $A$.\n",
    "\n",
    "Suppose $A$ is a domain that is homeomorphic to the unit disk. Then $I$ is well defined on $A$.\n",
    "\n",
    "Suppose $A$ is homeomorphic to a punctured disk, and $f$ has a residue at the punctured point $p$, or the coefficient $a_{-1}$ of degree $-1$ of the Laurent series is nonzero. Then $I$ is not well defined, because the integration from zero to $w$ around two paths that encloses $p$ has different values. The difference is $na_{-1}2\\pi i$, where $n$ is the winding number, the times the concatenation of the two paths wind around the punctured point $p$. But $J$ maybe well defined on a larger domain than a neighborhood around $y$. And if it's well defined, it's periodic, with period $a_{-1}2\\pi i$.\n",
    "\n",
    "In fact, the function $J$ is well defined. Consider a path from zero to $w$ with the tip of the path at $w$. Imagine the path is retractible, and we let the tip of the path gradually move away from $w$ and wrap around $p$ and approaches $w$ from another direction. During this process, the integral value, or $y$, will gradually change from the original $y$ value to $y\\pm a_{-1}2\\pi i$. This shows that for the inverse function $J$ there is a path from $y$ to $y\\pm a_{-1}2\\pi i$ such that the function $J$ is defined along a neighborhood of the path, and the function $J$ has the same value of $w$ at $y$ and $y\\pm a_{-1}2\\pi i$. So it's a periodic function."
   ]
  },
  {
   "cell_type": "markdown",
   "metadata": {},
   "source": [
    "Example. Consider a function\n",
    "$$f(z)=\\sqrt{1+z^4}$$\n",
    "The polynomial inside the square root has $4$ roots\n",
    "$$\n",
    "b_1=e^{i\\frac{1}{4}\\pi},\\,\\,\n",
    "b_2=e^{i\\frac{3}{4}\\pi},\\,\\,\n",
    "b_3=e^{i\\frac{5}{4}\\pi},\\,\\,\n",
    "b_4=e^{i\\frac{7}{4}\\pi}\n",
    "$$\n",
    "and $f(z)$ can be written as\n",
    "$$\n",
    "f(z)=\\sqrt{z-b_1}\\sqrt{z-b_2}\\sqrt{z-b_3}\\sqrt{z-b_4}\n",
    "$$\n",
    "As discussed before, square root is a multi-valued function. Strictly speaking, it is not a *function*. Or, it is not *one* function. It is, as the name says, multi-function. If a domain is defined such that a closed path can surround a single root, then by annlytic continuation along the path, a discontinuity point can form. So a domain for this function should prevent such a path from forming. \n",
    "\n",
    "One obvious solution is that we can cut the complex plane from $b_1$ to $b_2$, and cut from $b_3$ to $b_4$. cutting we mean the domain is $\\mathbb{C}$ except the two line segments.  We name this cut or domain by C1. ByOn such a domain, there are two choices of the sign for the value at $z=0$, namely, the value can either be $+1$ or $-1$. We name the choices by S1 and S2 repectively. Once we choose the value at $z=0$, the value of the function at any other point in the domain can be uniquely determined by analytic continuation, using only the requirement of continuity. In this way, we constructed two versions of the function $f(z)$ on this domain. \n",
    "\n",
    "Similarly, we can cut from $b_1$ to $b_4$, and cut from $b_2$ to $b_3$, named by C2, and construct another two versions of the function $f(z)$ on the new domain.\n",
    "\n",
    "Thus, we have constructed four versions of the function $f(z)$:\n",
    "* C1S1\n",
    "* C1S2\n",
    "* C2S1\n",
    "* C2S2\n",
    "They are all different functions, either differ by values (S1 or S2) or differ by domains (C1 or C2). But they are both holomorphic on their domains. They are all versions of $f(z)$. When we say $f(z)$, we can refer (sometimes ambiguously) any of these versions."
   ]
  },
  {
   "cell_type": "markdown",
   "metadata": {},
   "source": [
    "The relationship among versions of $f(z)$:\n",
    "* CxS1 and CxS2 are negative to each other in function values at every point in Cx.\n",
    "* on CxSx, two corresponding points $p$ and $p'$ along a cut on different sides, have function values negative to each other. And that's the reason why we cut the complex plane.\n",
    "* But CxS1(p)=CxS2(p').\n",
    "* Because the previous point, we can glue CxS1 and CxS2, so that the combined function has a domain passes the cut. What is the new object?"
   ]
  },
  {
   "cell_type": "markdown",
   "metadata": {},
   "source": [
    "Now consider integration\n",
    "$$\\oint_C \\frac{1}{f(z)} dz$$.\n",
    "We must be specific which function or which version of the function $f(z)$ we are referring to. Let's say we are doing C1S1. For the closed path $C$ we choose a path that surrounds $b_1$ and $b_2$ and leaves $b_3$ and $b_4$ outside. This is a well defined integral. We can turn the integral into an integral of real valued function. Sympy can give the result in closed form, denoted $\\alpha$:\n",
    "$$\n",
    "\\alpha = \\frac{1}{2}\\Gamma(\\frac{1}{4})^2\\sqrt{\\pi}\n",
    "\\approx 3.708\n",
    "$$\n",
    "\n",
    "Similarly we can consider the version C2S1, and $C$ is chosen to be surrounds $b_1$ and $b_4$ and leaves $b_2$ and $b_3$ outside. Then the integral is equal to $i\\alpha$, a pure imaginary number.\n",
    "\n",
    "$$\\wp$$"
   ]
  },
  {
   "cell_type": "markdown",
   "metadata": {},
   "source": [
    "Claim. A meromorphic function cannot have more than two independent periods."
   ]
  }
 ],
 "metadata": {
  "kernelspec": {
   "display_name": "Python 3",
   "language": "python",
   "name": "python3"
  },
  "language_info": {
   "codemirror_mode": {
    "name": "ipython",
    "version": 3
   },
   "file_extension": ".py",
   "mimetype": "text/x-python",
   "name": "python",
   "nbconvert_exporter": "python",
   "pygments_lexer": "ipython3",
   "version": "3.6.1"
  }
 },
 "nbformat": 4,
 "nbformat_minor": 2
}
