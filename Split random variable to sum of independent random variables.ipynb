{
 "cells": [
  {
   "cell_type": "code",
   "execution_count": 1,
   "metadata": {},
   "outputs": [
    {
     "data": {
      "text/html": [
       "<style>.container { width:50% !important; }</style>"
      ],
      "text/plain": [
       "<IPython.core.display.HTML object>"
      ]
     },
     "metadata": {},
     "output_type": "display_data"
    }
   ],
   "source": [
    "from IPython.core.display import display, HTML\n",
    "display(HTML(\"<style>.container { width:50% !important; }</style>\"))"
   ]
  },
  {
   "cell_type": "markdown",
   "metadata": {},
   "source": [
    "Let $X_1,X_2$ be two random variables, independent of each other. Let $Y=(X_1+X_2)^2$. Can $Y$ be expressed as the sum of two independent random variables, that is, $Y=Y_1+Y_2$? We exclude the trivial case where one of the random variables is a constant."
   ]
  },
  {
   "cell_type": "markdown",
   "metadata": {},
   "source": [
    "Suppose $X_1,X_2$ take nonnegative real values. Suppose the probability space can be expressed as a product probability space $P_1\\times P_2$ such that $X_i$ is on $P_i$. Suppose we can subdivide the value space, $\\mathbb{R}_{\\ge0}\\times\\mathbb{R}_{\\ge0}$, into squares so small such that $X_1$ and $X_2$ are roughly constant on each square. Label the squares by $S_{ij}$ where $i,j\\ge0$. Let $N_{ij}$ be the inverse image of $S_{ij}$ in the product probability space. It is necessarily a product space $N_{ij}=N_i\\times N_j$. We see that all $N_{ij}$ are disjoint."
   ]
  },
  {
   "cell_type": "markdown",
   "metadata": {},
   "source": [
    "We are trying to define $Y_1,Y_2$ such that $Y_i$ is on $P_i$ so they are automatically independent of each other, and such that $Y_1+Y_2=(X_1+X_2)^2$."
   ]
  },
  {
   "cell_type": "markdown",
   "metadata": {},
   "source": [
    "Choose a value for $Y_1$ on $N_{11}$ (skipping $N_{00},N_{10},N_{01}$). Then\n",
    "* the value of $Y_1$ on all $N_{1j}$ is fixed, all the same. \n",
    "* the value of $Y_2$ on $N_{11}$ is fixed, by the relation $Y_1+Y_2=(X_1+X_2)^2$.\n",
    "* the value of $Y_2$ on all $N_{i1}$ is fixed, all the same as on $N_{11}$."
   ]
  }
 ],
 "metadata": {
  "kernelspec": {
   "display_name": "Python 3",
   "language": "python",
   "name": "python3"
  },
  "language_info": {
   "codemirror_mode": {
    "name": "ipython",
    "version": 3
   },
   "file_extension": ".py",
   "mimetype": "text/x-python",
   "name": "python",
   "nbconvert_exporter": "python",
   "pygments_lexer": "ipython3",
   "version": "3.6.1"
  }
 },
 "nbformat": 4,
 "nbformat_minor": 2
}
