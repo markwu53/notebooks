{
 "cells": [
  {
   "cell_type": "markdown",
   "metadata": {},
   "source": [
    "### Euler's Equation\n",
    "\n",
    "$$\n",
    "\\dot{u} + (u \\cdot \\nabla) u = - \\kappa \\nabla p\n",
    "$$\n",
    "where $u$ is the fluid velocity vector, $p$ is the fluid pressure, $\\kappa$ is the fluid density reciprocal, and $\\nabla$ is the gradient operator."
   ]
  },
  {
   "cell_type": "markdown",
   "metadata": {},
   "source": [
    "### Navier-Stokes Equation\n",
    "\n",
    "$$\n",
    "\\dot{u} + (u \\cdot \\nabla) u = - \\kappa \\nabla p + v \\Delta u + g\n",
    "$$\n",
    "where $v$ is the kinematic viscosity, $g$ is the external force, and $\\Delta$ is the Laplacian operator."
   ]
  },
  {
   "cell_type": "markdown",
   "metadata": {},
   "source": [
    "### Navier-Stokes Equation Scalar Form\n",
    "\n",
    "$$\n",
    "a_t + aa_x+ba_y+ca_z = -\\kappa p_x + v(a_{xx}+a_{yy}+a_{zz}) + g_1\n",
    "$$\n",
    "$$\n",
    "b_t + ab_x+bb_y+cb_z = -\\kappa p_y + v(b_{xx}+b_{yy}+b_{zz}) + g_2\n",
    "$$\n",
    "$$\n",
    "c_t + ac_x+bc_y+cc_z = -\\kappa p_z + v(c_{xx}+c_{yy}+c_{zz}) + g_3\n",
    "$$\n",
    "where $a$, $b$, $c$ are three components of $u$. $g_1$, $g_2$, $g_3$ are three components of $g$. $f_t$, $f_x$, $f_y$, $f_z$ are notations of partial derivatives."
   ]
  }
 ],
 "metadata": {
  "kernelspec": {
   "display_name": "Python 3",
   "language": "python",
   "name": "python3"
  },
  "language_info": {
   "codemirror_mode": {
    "name": "ipython",
    "version": 3
   },
   "file_extension": ".py",
   "mimetype": "text/x-python",
   "name": "python",
   "nbconvert_exporter": "python",
   "pygments_lexer": "ipython3",
   "version": "3.6.5"
  }
 },
 "nbformat": 4,
 "nbformat_minor": 2
}
