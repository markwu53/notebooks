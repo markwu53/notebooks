{
 "cells": [
  {
   "cell_type": "markdown",
   "metadata": {},
   "source": [
    "### Gamma Function\n",
    "\n",
    "$$\n",
    "\\Gamma(s) = \\int_0^\\infty e^{-x}x^{s-1}dx\n",
    "$$\n",
    "\n",
    "Gamma function has the following properties:\n",
    "* Can be extended to a complex analytic/meromorphic function on the whole complex plane.\n",
    "* $\\Gamma(1)=1$\n",
    "* *functional equation*: $\\Gamma(s+1)=s\\Gamma(s)$\n",
    "* *reflection formula*: $\\Gamma(s)\\Gamma(1-s)=\\frac{\\pi}{\\sin(s\\pi)}$\n",
    "* $\\Gamma(n+1)=n!$, for all $n=1,2,3,...$\n",
    "* From the functional equation, $\\lim_{s\\to0}s\\Gamma(s)=\\Gamma(1)=1$, so $\\Gamma(0)$ is a simple pole. Similarly, $\\Gamma(s)$ are all simple pole for $s$ being negative integer.\n",
    "* From the definition, Gamma function are positive for all real positive $s$. From the functional equation, Gamma function is alternating on the negative real line. There is no zero on the real line.\n"
   ]
  },
  {
   "cell_type": "markdown",
   "metadata": {},
   "source": [
    "### Riemann Zeta Function\n",
    "\n",
    "The series\n",
    "$$\n",
    "\\zeta(s) = \\sum_{n=1}^\\infty n^{-s} = \\frac{1}{1^s} + \\frac{1}{2^s} + \\frac{1}{3^s} + ...\n",
    "$$\n",
    "is easy to be seen to be convergent for any real $s>1$ and complex $s$ such that $Re(s)>1$. So this defines a complex function on the domain $Re(s)>1$. It's also easy to see the derivative (with respect to $s$) series is also convergent on the domain $Re(s)>1$. There for the series defines an analytic function on the domain $Re(s)>1$, and can be extended to an analytic/meromorphic function on the whole complex plane. This function is called *Riemann Zeta Function*.\n"
   ]
  },
  {
   "cell_type": "markdown",
   "metadata": {},
   "source": [
    "### Zeta Function Properties\n",
    "\n",
    "* \n",
    "* $ \\zeta(s) = 2^s \\pi^{s-1} \\sin(\\frac{\\pi s}{2})\\Gamma(1-s)\\zeta(1-s) $\n",
    "\n"
   ]
  },
  {
   "cell_type": "markdown",
   "metadata": {},
   "source": [
    "### Reflection Formula\n",
    "\n",
    "$$\n",
    "\\Gamma(s)\\Gamma(1-s)=\\frac{\\pi}{\\sin(s\\pi)}\n",
    "$$\n",
    "\n",
    "Let $s=0.5+bi$ where $b$ is a real number.\n",
    "$$\n",
    "\\Gamma(s)=\\int_0^\\infty e^{-x}x^{-0.5+bi} dx,\n",
    "\\Gamma(1-s)=\\int_0^\\infty e^{-x}x^{-0.5-bi} dx\n",
    "$$\n",
    "$$\n",
    "\\Gamma(s)\\Gamma(1-s)=\\int\\int e^{-(x+y)}x^{-0.5}x^{bi}y^{-0.5}y^{-bi} dxdy\n",
    "$$\n",
    "Let $x=u^2$, $y=v^2$, $r^2=u^2+v^2$, $\\cot\\theta=u/v$,\n",
    "$$\n",
    "\\Gamma(s)\\Gamma(1-s)=\\int\\int e^{-r^2}4 u^{2bi}v^{-2bi} dudv\n",
    "=4\\int_0^\\infty e^{-r^2}rdr \\int_0^{\\frac{\\pi}{2}} (\\cot\\theta)^{2bi} d\\theta\n",
    "=2\\int_0^{\\frac{\\pi}{2}} (\\cot\\theta)^{2bi} d\\theta\n",
    "$$\n",
    "If $b=0$, then $s=1-s=0.5$, we have $\\Gamma(0.5)=\\sqrt{\\pi}$.\n"
   ]
  },
  {
   "cell_type": "markdown",
   "metadata": {},
   "source": [
    "### Alpha function, Gamma function, and Zeta function\n",
    "\n",
    "Define\n",
    "$$\n",
    "\\alpha(z)=\\int_0^\\infty \\frac{x^{z-1}}{e^x-1} dx\n",
    "$$\n",
    "\n",
    "Define\n",
    "$$\n",
    "\\beta(z,x)=\\sum_{n=1}^\\infty n^{-z}x^n\n",
    "$$\n",
    "Then we have\n",
    "$$\n",
    "\\zeta(z)=\\int_0^1 \\frac{\\beta(z-1,x)}{x} dx=\\int_0^1 \\sum_{n=1}^\\infty \\frac{x^{n-1}}{n^{z-1}} dx\n",
    "$$\n",
    "\n",
    "We are going to prove\n",
    "$$\n",
    "\\zeta(z)=\\frac{\\alpha(z)}{\\Gamma(z)}\n",
    "$$"
   ]
  },
  {
   "cell_type": "markdown",
   "metadata": {},
   "source": [
    "### Proof\n",
    "\n",
    "We are going to show $\\zeta(z+1)\\Gamma(z+1)=\\alpha(z+1)$.\n",
    "Do a change of variable, $x=e^{-y}$,\n",
    "$$\n",
    "\\zeta(z+1)=\\int_0^\\infty \\sum_{n=1} \\frac{1}{n^z e^{nx}} dx\n",
    "$$\n",
    "\n",
    "$$\n",
    "\\zeta(z+1)\\Gamma(z+1)=\\int_0^\\infty \\int_0^\\infty \\sum_{n=1}\n",
    "\\frac{1}{n^z e^{nx}} \\frac{y^z}{e^y} dxdy\n",
    "$$\n",
    "\n",
    "Do a series of change of variables, target at polar coordinate system,\n",
    "$$\n",
    "y=nu,\n",
    "u=a^2, x=b^2,\n",
    "a=r\\cos(\\theta), b=r\\sin(\\theta)\n",
    "$$\n",
    "We can separate the integration into $\\theta$ part and $r$ part.\n",
    "$\\theta$ part has\n",
    "$$\n",
    "\\int_0^{\\pi/2} 2\\cos(\\theta)^{2z+1} \\sin(\\theta) d\\theta=\\frac{1}{z+1}\n",
    "$$\n",
    "$r$ part has\n",
    "$$\n",
    "\\int_0^\\infty \\sum_{n=1} \\frac{n r^{2z+2}}{e^{nr^2}} 2rdr\n",
    "$$\n",
    "Do a change of variable $x=r^2$, and use the identity (for $a>1$),\n",
    "$$\n",
    "\\sum_{n=1}\\frac{n}{a^n}=\\frac{a}{(a-1)^2}\n",
    "$$\n",
    "$r$ part becomes\n",
    "$$\n",
    "\\frac{1}{z+1}\\int_0^\\infty x^{z+1}\\frac{e^x}{(e^x-1)^2} dx\n",
    "$$\n",
    "On the other hand, for $\\alpha(z+1)$, if we use integration by parts with\n",
    "$$\n",
    "u=\\frac{1}{e^x-1}, dv=x^{z}dx,\n",
    "$$\n",
    "we get exactly the same thing.\n",
    "///"
   ]
  },
  {
   "cell_type": "markdown",
   "metadata": {},
   "source": [
    "### Proof of an idendity\n",
    "\n",
    "For $a>1$,\n",
    "$$\n",
    "\\sum_{n=1}\\frac{n}{a^n}=\\frac{a}{(a-1)^2}\n",
    "$$\n",
    "It's easy to prove\n",
    "$$\n",
    "(a-1)\\sum_{n=1}\\frac{n}{a^n}=\\frac{a}{a-1}\n",
    "$$\n",
    "just expand the left hand side, and notice the right hand side is equal to\n",
    "$$\n",
    "\\frac{1}{1-1/a}=1+\\sum_{n=1}\\frac{1}{a^n}\n",
    "$$\n",
    "///"
   ]
  }
 ],
 "metadata": {
  "kernelspec": {
   "display_name": "Python 3",
   "language": "python",
   "name": "python3"
  },
  "language_info": {
   "codemirror_mode": {
    "name": "ipython",
    "version": 3
   },
   "file_extension": ".py",
   "mimetype": "text/x-python",
   "name": "python",
   "nbconvert_exporter": "python",
   "pygments_lexer": "ipython3",
   "version": "3.6.1"
  }
 },
 "nbformat": 4,
 "nbformat_minor": 2
}
