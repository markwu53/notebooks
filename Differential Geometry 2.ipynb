{
 "cells": [
  {
   "cell_type": "markdown",
   "metadata": {},
   "source": [
    "Definition.\n",
    "* Let $X$ be a set. A topology on $X$ is ...\n",
    "* mapping between topological spaces\n",
    "* A covering of $X$ is ..."
   ]
  },
  {
   "cell_type": "markdown",
   "metadata": {},
   "source": [
    "Definition.\n",
    "* A manifold $M$ of dimension $n$ is...\n",
    "* mapping between manifolds is mapping between topological spaces."
   ]
  },
  {
   "cell_type": "markdown",
   "metadata": {},
   "source": [
    "Definition.\n",
    "* A differentiable manifold $M$ of dimension $n$ is ...\n",
    "* mapping between differentiable manifolds is ..."
   ]
  },
  {
   "cell_type": "markdown",
   "metadata": {},
   "source": [
    "Remark.\n",
    "* Two manifolds are isomorphic if they are isomorphic as topological spaces. This means we the class of manifold as a subclass of the class of topological space, although it's a very small subclass, a very special subclass. A manifold has much more structure than a topological space, but we didn't use it for identification. This is kind of strange.\n",
    "* A differentiable manifold is not far from a plain manifold. Or, a diffeomorphism is not far from a homeomorphism. Because differentiable is a local property. You can always wiggle a little bit locally to make a homeomorphism a diffeomorphism, and once a homeomorphism is locally a diffeomorphism everywhere, it is a diffeomorphism globally."
   ]
  },
  {
   "cell_type": "markdown",
   "metadata": {},
   "source": [
    "### Construction of a fiber bundle\n",
    "\n",
    "A fiber bundle is bunch of fibers arranged or parametrized by a manifold (base manifold). Each fiber is isomorphic to a standard fiber. The standard fiber is a manifold that usually has extra structure. The structure is expressed as a Lie group that acts on the fiber. If the fiber is just a manifold without extra structure, then the Lie group is the group of diffeomorphisms. More structure we impose on the fiber, the smaller Lie group we have. For example, if the fiber is a Euclidean space without extra structure, then the Lie group is the group if diffeomorphisms of the Euclidean space. If we consider the Euclidean space to have a vector space structure, then the Lie group is $GL(\\mathbb{R}^n)$, the group of linear transformation diffeomorphisms.\n",
    "\n",
    "The Lie group on the fiber is used when we assemble the bundle. A bundle is locally trivial as $E_U=U\\times F$ where $U$ is a open set of the base manifold that has a chart on it, and $F$ is the standard fiber. Two pieces $E_U$ and $E_V$ are glued together on top of $U\\cap V$ and a fiber in $E_U$ is glued with a fiber in $E_V$ are glued/identified according to an element in the Lie group. That is, $E_U$ and $E_V$ are glued according to a \"smooth\" choice of a function $U\\cap V\\to G$."
   ]
  },
  {
   "cell_type": "markdown",
   "metadata": {},
   "source": [
    "Defintion. A $\\textbf{fiber bundle}$ is a tuple $(E,M,F)$ of differentiable manifolds where $E$ is the total space, $(M,\\mathcal{C}_M)$ is the base manifold with differentiable structure, $(F,G)$ is the $\\textbf{standard fiber}$ with a Lie group of diffeomorphisms called $\\textbf{structure group}$, such that\n",
    "* There is a projection $\\pi:E\\to M$ such that $\\pi^{-1}(U)\\cong U\\times F$ for $U\\in\\mathcal{C}_M$.\n",
    "* For $U,V\\in\\mathcal{C}_M$ and $x\\in U\\cap V$, there exists a $g\\in G$ such that the map $U\\times F\\to V\\times F$ via $\\pi^{-1}(U)$ when restricted to $x$ induces a map $F\\to F$ that is equal to $v\\mapsto g.v$."
   ]
  },
  {
   "cell_type": "markdown",
   "metadata": {},
   "source": [
    "Remark.\n",
    "* Usually we simply define a fiber bundle as a manifold over a base with local triviality, without mentioning the structure group and the second requirement in above definition. This means we consider the structure group to be the group of diffeomorphisms of the standard fiber.\n",
    "* For two local trivializations, there is a diffeomorphism in the intersection area. This is implicit in the requirement that the total fiber bundle is a differentiable manifold. The second requirement says this diffeomorphism is not a general diffeomorphism, it must be a diffeomorphism from the structure group."
   ]
  },
  {
   "cell_type": "markdown",
   "metadata": {},
   "source": [
    "Remark. Fiber bundle is a way to study the base manifold. There are two ways to view a fiber bundle:\n",
    "* Think of it as a bunch of fibers, arranged according to some smooth configuration. This way is related to phisical process, and is more natural. To study such an arrangement, we need to *find* the base manifold. After we find the base manifold, we need to understand the base manifold to understand the arrangement.\n",
    "* Think of it as an assemblement. Given a base manifold, and a standard fiber, how many options do we have to assemble fibers according to the base manifold. The question is again to understand the base manifold."
   ]
  },
  {
   "cell_type": "markdown",
   "metadata": {},
   "source": [
    "Remark. We can broaden the idea of fiber bundle by considering fibers not being the same and base not a manifold. Or, consider any surjective map, and think of the quotient space as base and the quotient fiber as fiber. To put this broadened view back in the framework of fiber bundle, we can\n",
    "* Think of the quotient space as a subset of some regular manifold.\n",
    "* Think of the quotient fiber as a subset of some standard fiber. Take the power set of the standard fiber, give it some topology, and consider the power set fiber bundle. Then the quotient bundle is a section of this new bundle."
   ]
  },
  {
   "cell_type": "markdown",
   "metadata": {},
   "source": [
    "Definition.\n",
    "* A $\\textbf{section}$ of a fiber bundle is a function $s:M\\to E$ such that $\\pi\\circ s$ is the identity map on $M$.\n",
    "* The space of sections of a fiber bundle is denoted $\\Gamma(E)$."
   ]
  },
  {
   "cell_type": "markdown",
   "metadata": {},
   "source": [
    "Remark. Bundle map must happen between bundles with similar structure in the fiber. This means the two bundles must have a common structure group. Bundle map must be compatible with base manifold and fibers."
   ]
  },
  {
   "cell_type": "markdown",
   "metadata": {},
   "source": [
    "Defintion. A $\\textbf{bundle map}$ between $(E,M)$ and $(E',M')$ that has the same structure group $G$ is a pair of maps between differentiable manifolds $(f,g)$ where $f:E\\to E'$ and $g:M\\to M'$ such that $\\pi\\circ f=g\\circ\\pi$ and $f$ is equivariant, that is, $f(s.x)=s.f(x)$ for $s\\in G$ and $x\\in E$."
   ]
  },
  {
   "cell_type": "markdown",
   "metadata": {},
   "source": [
    "Remark.\n",
    "* A bundle is locally trivial. We can distort a local trivialization, and it's still a local trivialization. The distortion can only be seen when we embed the local trivialization in a Euclidean space, or equivalently, choose a mapping with the standard fiber. In the instrinsic definition, we don't even see this distortion. The distortion is only realized when glue two pieces. The way of gluing two pieces, or the transition function in the common area, must be in the structure group. Two ways of gluing is considered to be the same is there is a path between two elements in the structure group, which represent the two ways of gluing.\n",
    "* Consider mobius strip, which is a line bundle over a circle. Consider the line fiber being a line segment, or an open line segment, to be able to think of it inside Euclidean space. A local trivialization is a strip. Even distorted, it's still just a strip. The distortion is realized when gluing. One way to think of mobius strip being different from a trivial bundle is that, there is no path of way of gluing that can connect the trivial gluing and the opposite gluing. When think of it in ambient space, any way of gluing that is away from trivial gluing is not in the 2-d dimension that the base line and the fiber line lie in, except the opposite gluing. In terms of structure group, it is $GL(\\mathbb{R}^1)$ which has two connected components. There is no path between components. The gluing ways of trivial line bundle and the mobius strip are in different components.\n",
    "* So the number of different types of bundle depends on the number of disconnected components of the structure group, and the minimal number of gluing needed for the base manifold.\n",
    "* The requirement of equivariant does not pose much obstruction for a bundle being trivial."
   ]
  },
  {
   "cell_type": "markdown",
   "metadata": {},
   "source": [
    "Definition.\n",
    "* A $\\textbf{vector bundle}$ of $\\textbf{rank}$ $k$ is a fiber bundle with $(\\mathbb{R}^k,GL(\\mathbb{R}^k))$ as fiber."
   ]
  },
  {
   "cell_type": "markdown",
   "metadata": {},
   "source": [
    "Remark.\n",
    "* Any vector bundle has a dual bundle, because a vector space is isomorphic to the dual vector space. So the structure group is also isomorphic to the structure group of the dual.\n",
    "* Any two vector bundle over the same base can do direct sum, tensor product on fibers. The local trivialization, structure group, the gluing method can be carried in a compatible way.\n",
    "* The tensor algebra, exterior algebra of vector space can be carried over to vector bundle."
   ]
  },
  {
   "cell_type": "markdown",
   "metadata": {},
   "source": [
    "Definition.\n",
    "* Let $E$ be a vector bundle, define $E^*$ to be dule bundle.\n",
    "* Let $A$ and $B$ be vector bundles over the same base manifold, define $A\\oplus B$ to be the direct sum bundle, define $A\\otimes B$ to be tensor product bundle.\n",
    "* Let $E$ be a vector bundle, define $\\bigwedge E$ to be the exterior bundle."
   ]
  },
  {
   "cell_type": "markdown",
   "metadata": {},
   "source": [
    "### On tangent bundle\n",
    "\n",
    "Let $(M,\\mathcal{T}_M,\\mathcal{C}_M,\\mathcal{\\Phi}_M)$ be a differentiable manifold. Let's assemble the tangent bundle over $M$.\n",
    "\n",
    "For $U\\in\\mathcal{C}_M$, let $\\phi_U=\\mathcal{\\Phi}_M(U)$ be the homeomorphism $\\phi_U:U\\to\\mathbb{R}^n$. For $U,V\\in\\mathcal{C}_M$ such that $U\\cap V$ is not empty, denote $\\phi_{UV}$ to be the transition map on $\\phi_U(U\\cap V)$ such that $\\phi_{UV}:\\phi_U(x)\\mapsto \\phi_V(x)$ for $x\\in U\\cap V$. Given $(x,v)$ in $\\phi_U(U\\cap V)\\times \\mathbb{R}^n$, the differential of the transition map $\\phi_{UV}$ sends $(x,v)$ to $(y,w)$ where $y=\\phi_{UV}(x)$ and $w=d\\phi_{UV}(x)(v)$. The map $(x,v)\\mapsto(y,w)$, denoted $\\psi_{UV}$, is differentiable -- $x\\mapsto y$ is differentiable by $M$, $v\\mapsto w$ is linear and therefore differentiable -- the combination is differentiable.\n",
    "\n",
    "Now We are going to assemble the tangent bundle. Take the collection of $\\mathcal{P}=\\mathcal{C}_M\\times\\{\\mathbb{R}^n\\times\\mathbb{R}^n\\}=\\{E_U=(U,\\mathbb{R}^n\\times\\mathbb{R}^n):U\\in\\mathcal{C}_M\\}$. For $U,V\\in\\mathcal{C}_M$, identify the subset $P_{UV}=\\phi_U(U\\cap V)\\times\\mathbb{R}^n\\subseteq E_U$ with $Q_{UV}=\\psi_{UV}(P_{UV})\\subseteq E_V$. The resulting manifold, denoted $TM$ is differentiable. The projection $\\pi:TM\\to M$ is a submersion. Each fiber is a vector space. So $TM$ is a vector bundle over $M$.\n",
    "\n",
    "Another way. Take the collection of $\\mathcal{P}=\\{E_U=U\\times\\mathbb{R}^n: U\\in\\mathcal{C}_M\\}$. Each $U\\times\\mathbb{R}^n$ has a hemeomorphism to $\\mathbb{R}^n\\times\\mathbb{R}^n$ by extending $\\phi_U$ trivially. For $U,V\\in\\mathcal{C}_M$, consider the disjoint union of $E_U$ and $E_V$. Identify the copy of $U\\cap V\\times\\mathbb{R}^n$ in $E_U$ with the copy of $U\\cap V\\times\\mathbb{R}^n$ in $E_V$ by $\\psi_{UV}$ in the corresponding charts."
   ]
  },
  {
   "cell_type": "markdown",
   "metadata": {},
   "source": [
    "Definition. The dule bundle of the tangent bundle is called the $\\textbf{cotangent bundle}$."
   ]
  },
  {
   "cell_type": "markdown",
   "metadata": {},
   "source": [
    "Remark. \n",
    "* The cotangent bundle is isomorphic to tangent bundle, that is, there exists an bundle isomorphism between the two.\n",
    "* Let $f:M\\to N$ be a map between manifolds. Then $df:TM\\to TN$ is a bundle map.\n",
    "* $df$ pulls back a bundle over $M$."
   ]
  },
  {
   "cell_type": "markdown",
   "metadata": {},
   "source": [
    "Definition. Let $V$ be a vector space of dimension $n$. Let $TV=\\bigoplus_{i=0}^\\infty T^iV$ be the tensor algebra of $V$. Let $I$ be the ideal of $TV$ generated by elements of the form $v\\otimes v$ for $v\\in V$. Define the $\\textbf{exterior algebra}$ of $V$ to be $TV/I$. We use $\\wedge$ for the multiplication in the exterior algebra."
   ]
  },
  {
   "cell_type": "markdown",
   "metadata": {},
   "source": [
    "Remark. The exterior algebra is a finite dimensional vector space. It is graded. It is equal to the direct sum of all grades. The grades is from $0$ to $n$."
   ]
  },
  {
   "cell_type": "markdown",
   "metadata": {},
   "source": [
    "Defintion. The bundle of exterior algebra of the cotangent space over manifold $M$ is called the $\\textbf{exterior algebra bundle}$ of $M$, denoted $EM$. The space of $\\textbf{differential forms}$ on $M$ is $\\Gamma(EM)$, denoted $\\Omega^*M$. A section with grade $p$ at each point is called a $\\textbf{differential}$ $p$-$\\textbf{form}$. The space of differential $p$-form is denoted $\\Omega^pM$."
   ]
  },
  {
   "cell_type": "markdown",
   "metadata": {},
   "source": [
    "Remark.\n",
    "$\\Omega^*M$ is also an exterior algebra, over the $R$-module of differential $1$-form, where $R$ is the ring of differentiable functions on $M$. $\\Omega^*M=\\oplus_{i=0}^n\\Omega^iM$. $\\Omega^0M$ is the ring of differentiable functions on $M$."
   ]
  },
  {
   "cell_type": "markdown",
   "metadata": {},
   "source": [
    "Definition. Define a $\\mathbb{R}$-linear function $D:\\Omega^*M\\to\\Omega^*M$ such that $D\\circ D=0$, $Df=df$ for $f\\in \\Omega^0M$, and $D(a\\wedge b)=D(a)\\wedge b+(-1)^pa\\wedge D(b)$ for a differential $p$-form $a$. We will called it $d$ since it's an extension of $d$."
   ]
  },
  {
   "cell_type": "markdown",
   "metadata": {},
   "source": [
    "Defintion. Let $R$ be a communtative ring. Let $A$ be an $R$-algebra. \n",
    "* A $\\textbf{derivation}$ of $A$ is an $R$-linear function $D:A\\to A$ such that $D(ab)=aD(b)+D(a)b$.\n",
    "* Let $M,N$ be $A$-modules. Let $d$ be a derivation of $A$. An $N$-valued $\\textbf{derivation}$ of $M$ is an $R$-linear function $D:M\\to N$ such that for $f\\in A$ and $m\\in M$, $D(fm)=df.m+f.D(m)$.\n",
    "* For two derivations $d_1,d_2$ in an $A$-module, $d_1\\circ d_2-d_2\\circ d_1$ is also a derivation, denoted $[d_1,d_2]$."
   ]
  },
  {
   "cell_type": "markdown",
   "metadata": {},
   "source": [
    "Remark.\n",
    "* A tangent vector field $X$ on $M$ can be regarded as a derivation on $\\Omega^0M$, the ring of differentiable functions on $M$, as $X.f=df(X)$.\n",
    "* The mapping from $\\Gamma(TM)$ to the space of derivations on $\\Omega^0M$ is injective.\n",
    "* The derivation $XY-YX$ can be given by a vector field, denoted by $[X,Y]$, which can be computed using local coordinate charts."
   ]
  },
  {
   "cell_type": "markdown",
   "metadata": {},
   "source": [
    "Definition.\n",
    "* A $\\textbf{connection}$ of a vector bundle $E$ over $M$ is a $\\mathbb{R}$-bilinear function $D:\\Gamma(E)\\times \\Gamma(TM)\\to \\Gamma(E)$ such that $D$ is $\\Omega^0M$-linear in the second variable, and is a derivation in the first variable, which is a $\\Omega^0M$-module, that is, for $\\sigma\\in\\Gamma(E)$, $X\\in\\Gamma(TM)$, and $f\\in\\Omega^0M$, $D(f\\sigma,X)=df(X)+fD(\\sigma,X)$.\n",
    "* A $\\textbf{connection}$ of a vector bundle $E$ over $M$ is a $\\mathbb{R}$-bilinear function $D:\\Gamma(E)\\times TM\\to E$ such that $D$ is a derivation in the first variable, that is, for $\\sigma\\in\\Gamma(E)$, $v\\in TM$, and $f\\in\\Omega^0M$, $D(f\\sigma,v)=df(v)+f(\\pi(v))D(\\sigma,v)$.\n",
    "* A $\\textbf{connection}$ of a vector bundle $E$ over $M$ is a $\\mathbb{R}$-linear function $D:\\Gamma(E)\\to \\Gamma(E\\otimes T^*M)$ which is also a derivation of $\\Omega^0M$-module, that is, for $\\sigma\\in\\Gamma(E)$ and $f\\in\\Omega^0M$, $D(f\\sigma)=\\sigma\\otimes df+fD(\\sigma)$.\n",
    "* A $\\textbf{connection}$ of a vector bundle $E$ over $M$ is a $\\Gamma(E\\otimes T^*M)$-valued derivation of the $\\Omega^0M$-module $\\Gamma(E)$.\n",
    "* A connection is also called a $\\textbf{covariant derivative}$.\n",
    "* A connection in the tangent bundle is called an $\\textbf{affine connection}$.\n",
    "* The connection defines an action of the tangent vector field $X$ on a section $\\sigma\\in\\Gamma(E)$, denoted $X.\\sigma$.\n",
    "* The section $\\sigma:M\\to E$ such that $D(X,d\\sigma(Y))=0$ for every tangent vector fields $X$ and $Y$ is called the $\\textbf{parallel section}$ with respect to the connection.\n",
    "* Let $c$ be a curve in $M$. $\\sigma(c)$ is called a $\\textbf{parallel transport}$ of $c$.\n",
    "* An affine connection on $M$ extends to tensor tangent bundles on $M$."
   ]
  },
  {
   "cell_type": "markdown",
   "metadata": {},
   "source": [
    "Remark.\n",
    "Let $\\pi:E\\to M$ be a vector bundle. Consider a section $s:M\\to E$ and its differential $ds:TM\\to TE$. For $x\\in M$, let the fiber over $x$ be denoted by $E_x$. $E_x$ is a submanifold of $E$, so the tangent space $T_{s(x)}E_x$ is a subspace of $T_{s(x)}E$, but there is no canonical projection from the vector space to its subspace. If we have a smooth choice of such projection for every point in $E$, or a section $\\alpha$ of the projection bundle over $E$, then for $v\\in TM$, we can define $D(s,v)=\\alpha(s(x))(ds(v))\\in T_{s(x)}E_x=E_x$, that is, we have a connection."
   ]
  },
  {
   "cell_type": "markdown",
   "metadata": {},
   "source": [
    "Remark.\n",
    "* Let $\\pi:E\\to M$ be a fiber bundle. Call $TE$ bundle tangent bundle. Each fiber is a submanifold of the bundle, so the fiber tangent space is a subspace of the tangent space of the bundle at each point. This gives a fiber tangent bundle, denoted $TFE$. This is intuitively a clear construction, but we lack a condition for product differentiable condition. Both $TE$ and $TFE$ are over $E$, and at each point $TFE$ is a subspace of $TE$. We want to have a projection at each point. This is a section of $T^*E\\otimes TFE$.\n",
    "* If $E$ is a vector bundle, the fiber tangent space at a point is identified (canonically) with fiber itself (which is a vector space). If we have a connection $D$, for $w\\in E$ over $x\\in M$, choose a section $s:M\\to E$ that passes $w$. For any $v\\in T_xM$, define $p:ds(v)\\mapsto D(s,v)$. This extends to a projection from $T_wE$ to $TFE$ at $w$. So a connection determines a section of $T^*E\\otimes TFE$."
   ]
  },
  {
   "cell_type": "markdown",
   "metadata": {},
   "source": [
    "Remark.\n",
    "* Given a connection $D$ on a vector bundle $\\pi:E\\to M$, a tangent vector field $X$ on $M$ is regarded as a derivation on the $\\Omega^0M$-module $\\Gamma(E)$."
   ]
  },
  {
   "cell_type": "markdown",
   "metadata": {},
   "source": [
    "Definition. Let $\\pi:E\\to M$ be a vector bundle. Let $D$ be a connection on $E$. For two vector fields $X,Y$ on M, let $[X,Y]_D=X.Y.-Y.X.$ be the derivation induced by $X$ and $Y$. Let $[X,Y]$ be the Lie bracket vector field. The $\\textbf{curvature}$ of the connection is a function $C:\\Gamma(TM)\\times \\Gamma(TM)\\to (\\Gamma(E)\\to \\Gamma(E))$ defined by $C(X,Y)=[X,Y]_D-[X,Y]$, that is, for a $\\sigma\\in\\Gamma(E)$, $C(X,Y)\\sigma=X.Y.\\sigma-Y.X.\\sigma-[X,Y].\\sigma$."
   ]
  },
  {
   "cell_type": "markdown",
   "metadata": {},
   "source": [
    "Remark. $C\\in\\Gamma(\\bigwedge^2M\\otimes E^*\\otimes E)$. Let $D$ be a connection on $M$, that is, a connection on $TM$. Then $C\\in\\Gamma(\\bigwedge^2M\\otimes T^*M\\otimes TM)$."
   ]
  },
  {
   "cell_type": "markdown",
   "metadata": {},
   "source": [
    "Definition. Let $M$ be a manifold. Let $D$ be a connection on $M$. For two tangent vector fields $X$ and $Y$, define $T(X,Y)=X.Y-Y.X-[X,Y]$. $T\\in\\Gamma(\\bigwedge^2M\\otimes TM)$ is called the $\\textbf{torsion}$ of the connection."
   ]
  },
  {
   "cell_type": "markdown",
   "metadata": {},
   "source": [
    "Definition. Let $M$ be a maninfold. A $\\textbf{Riemannian metric}$ $g$ is a section in $T^*M\\otimes T^*M$. $(M,g)$ is a $\\textbf{Riemannian manifold}$."
   ]
  },
  {
   "cell_type": "markdown",
   "metadata": {},
   "source": [
    "Remark. A Riemannian metric gives an isomorphism between the tangent space and the cotangent space at each point. Therefore, an affine connection on a Riemannian manifold extends to the cotangent bundle and tensor product of cotangent bundles."
   ]
  },
  {
   "cell_type": "markdown",
   "metadata": {},
   "source": [
    "Definition. Let $(M,g)$ be a Riemannian manifold. The $\\textbf{levi-civita connection}$ is a torsion free connection under which $g$ is a parallel section of the tensor product of the cotangent bundle."
   ]
  },
  {
   "cell_type": "markdown",
   "metadata": {},
   "source": [
    "Remark. The levi-civita connection is the unique affine connection that is torsion free such that $g$ is parallel."
   ]
  },
  {
   "cell_type": "markdown",
   "metadata": {},
   "source": [
    "Definition. Let $M$ be a differentiable manifold.\n",
    "* Define the action of a tangent vector field $X$ on a differentiable function $f$ by $X.f=df(X)$. Also denoted by $L_X(f)=X.f$ called the $\\textbf{Lie derivative}$ on functions.\n",
    "* Let $X$ and $Y$ be tangent vector fields on $M$. Denote the unique vector field $Z$ such that $Z.f=X.Y.f-Y.X.f$ for all $f\\in\\Omega^0M$ to be $[X,Y]$, called the $\\textbf{Lie bracket}$.\n",
    "* Let $X$ be a tangent vector field on $M$. Define a function $L_X:\\Gamma(TM)\\to \\Gamma(TM)$ by $L_X(Y)=[X,Y]$. $L_X$ is called the $\\textbf{Lie derivative}$ on tangent vector fields.\n",
    "* For a cotangent vector field $Y^*$ on $M$, define $L_XY^*$ to be the unique cotangent vector field such that $L_XY^*(L_XZ)=L_X(Y^*(Z))$ for all tangent vector field $Z$. $L_X$ is called the $\\textbf{Lie derivative}$ on cotangent vector fields.\n",
    "* The $\\textbf{Lie derivative}$ can be extended on all tensor fields."
   ]
  },
  {
   "cell_type": "markdown",
   "metadata": {},
   "source": [
    "Remark.\n",
    "* Lie bracket existence can be seen from taking directional derivative in a local chart.\n",
    "* Lie bracket is anti-symmetric.\n",
    "* Lie bracket is a tensor, that is, $[\\cdot,\\cdot]\\in\\Gamma(\\bigwedge^2M\\otimes TM)$.\n",
    "* Lie bracket is not associative. It satisfies the $\\textbf{Jocobi Idenitity}$.\n",
    "* Lie derivative is a derivation.\n",
    "* Lie derivative is an affine connection. The fact that Lie derivative has zero torsion is exactly the definition of the Lie derivative and the Lie bracket. The fact that Lie derivative has zero curvature is exactly the Jacobi Identity.\n",
    "* Connection or covariant derivative is an extension of the idea of Lie derivative.\n",
    "* Another way to define Lie derivative is via flow of a tangent vector fields."
   ]
  },
  {
   "cell_type": "markdown",
   "metadata": {},
   "source": [
    "Definition. A $\\textbf{Lie algebra}$ is a vector space equipped with an antisymmetic binary operation $[\\cdot,\\cdot]$ that satisfies the Jocobi Identity."
   ]
  },
  {
   "cell_type": "markdown",
   "metadata": {},
   "source": [
    "Remark. The space of tangent vector fields of a differentiable manifold is a Lie algebra."
   ]
  },
  {
   "cell_type": "markdown",
   "metadata": {},
   "source": [
    "Definition. Let $G$ be a Lie group. Let $e$ be the idendity element of $G$. $\\mathfrak{g}=T_eG$, the tangent space of $G$ at $e$, equipped with the Lie bracket is called the $\\textbf{Lie algebra}$ of the Lie group $G$."
   ]
  },
  {
   "cell_type": "markdown",
   "metadata": {},
   "source": [
    "Definition. Define a group action $Ad_g(X)=g.X=dg^{-1}(dg(X))$ and a Lie algebra action $ad_X(Y)=X.Y=[X,Y]$ for $g\\in G$ and $X,Y\\in\\mathfrak{g}$. Both are called the $\\textbf{adjoint representation}$."
   ]
  },
  {
   "cell_type": "markdown",
   "metadata": {},
   "source": [
    "Remark.\n",
    "* Connection is a $1$-form with value in endomorphism space or Lie algebra. Curvature is a $2$-form.\n",
    "* Lie derivative is a special connection.\n",
    "* It's like a Taylor approximation of something. Lie derivative is the first order approximation, or the coefficient of the first order approximation. Connection is the first order term - first order approximation plus the correction term, together gives the exact measurement. Curvature is the second order term - the distance between the Lie derivative to the connection - divided by the delta.\n",
    "* Torsion free means the connection differ from Lie derivative only by order 2 terms - in the first order, it's equal to the Lie derivative. Torsion not free means the approximation does not use Lie derivative as first order term."
   ]
  },
  {
   "cell_type": "markdown",
   "metadata": {},
   "source": [
    "Definition. \n",
    "* Let $G$ be a Lie group. A $\\textbf{principal}$ $G$-$\\textbf{bundle}$ $P$ over $M$ is a fiber bundle with $G$ as fiber and $G$ as structure group.\n",
    "* A $\\textbf{principal}$ $G$-$\\textbf{bundle}$ is a topological space $P$ with a free and transitive action by $G$.\n",
    "* A $\\textbf{vector bundle}$ with fiber $V$ and structure group $G$ is the space $E=P\\times_G V=((P\\times V)\\,\\, / \\sim)$ where $(p,v)\\sim(gp,gv)$."
   ]
  },
  {
   "cell_type": "markdown",
   "metadata": {},
   "source": [
    "Remark.\n",
    "* Fix a point $p\\in P$. Let $\\Gamma_p(P)$ be the space of sections that passes $p$. The mapping $\\Gamma_p(P)\\times V\\to \\Gamma(E)$ such that $(s,v)\\mapsto t$ where $t:x\\mapsto (s(x),v)$ where $x\\in M$ is a bijection."
   ]
  },
  {
   "cell_type": "markdown",
   "metadata": {},
   "source": [
    "Definition. Let $M$ be a differentiable manifold. A $\\textbf{flow}$ of a neighborhood $U$ at a point $x\\in M$ is a differentiable function $\\phi:U\\times (-\\delta,\\delta)\\to M$ where $\\delta\\in\\mathbb{R}_+$ such that for each $t\\in(-\\delta,\\delta)$, $\\phi_t:U\\to M$ is a diffeomorphism of $U$ into $M$ and $\\phi_0(U)=U$."
   ]
  },
  {
   "cell_type": "markdown",
   "metadata": {},
   "source": [
    "Remark.\n",
    "* Since flow is defined in a neighborhood of a point, we can consider the entire flow in a local coordinate chart. It makes sense to define the derivative of the flow with respect to the variable $t$ at $0$, and it is a tangent vector at point in the neighborhood. This gives a vector field in the neighborhood. Conversely, a vector field in a neighborhood of a point, when consider a even smaller neighborhood, consider it as a constant vector field with respect to an extra variable $t$, trace out a flow, by solving a differential equation in Euclidean space, since we are in the local coordinate char.\n",
    "* The tangent space has one to one correspondence with the *flow germ* at a point.\n",
    "* In a principal $G$-bundle $P$, $G$ acts on $P$ freely and transitively. A flow in a neighborhood of $e\\in G$ give rise to a flow near any point $p\\in P$, and the flow in $P$ is along the orbit of $p$. This gives an isomorphism between the Lie algebra $\\mathfrak{g}=T_eG$ and the *vertical* tangent space of $p\\in P$."
   ]
  },
  {
   "cell_type": "markdown",
   "metadata": {},
   "source": [
    "Definition. Let $P$ be a principal $G$-bundle over $M$. Let $V_pP$ be the vertical tangent space at $p\\in P$. Let $\\Phi_p:\\mathfrak{g}\\to V_pP$ denote the canonical isomorphism, that is, $\\Phi:P\\times\\mathfrak{g}\\to VP$."
   ]
  },
  {
   "cell_type": "markdown",
   "metadata": {},
   "source": [
    "Remark.\n",
    "* Lie derivative is a canonical covariant derivative on the tangent bundle of a manifold, or affine connection of a manifold. What is the correponding Ehressman connection?\n",
    "* A connection on a vector bundle $\\pi:E\\to M$ is equivalent to the Ehressman connection of choosing a horizontal subspace of the tangent bundle of $E$, or choosing a projection from each tangent space to the vertical tangent space. If $G$ is the structure gruop of $E$ and $P$ is the principal $G$-bundle such that $E$ is the associated vector bundle, then the Ehressman connection is also equivalent to choose a projection on each tangent space of $P$ to the vertical tangent space. Therefore, the Ehressman connection is a $\\mathfrak{g}$-valued differential $1$-form on $P$."
   ]
  },
  {
   "cell_type": "markdown",
   "metadata": {},
   "source": [
    "Definition. Let $E$ be a vector bundle over $M$ with structure group $G$. Let $P$ be the principal $G$-bundle over $M$ such that $E$ is the associated vector bundle. Let $D$ be a connection on $E$. Denote $\\omega\\in\\Omega^1(P,\\mathfrak{g})$ to be the $\\mathfrak{g}$-valued differential $1$-form on $P$ of the corresponding Ehressman connection on $P$, called the $\\textbf{connection form}$."
   ]
  },
  {
   "cell_type": "markdown",
   "metadata": {},
   "source": [
    "Remark.\n",
    "* What is the connection form for the Lie derivative on a manifold $M$?\n",
    "* Let $M$ be a differentiable manifold. Let $V\\cong T_xM$ be a standard fiber of the tangent bundle which is a vector space isomorphic to the tangent space at any point $x\\in M$. Let $G=GL(V)$ the structure group of the tangent bundle. Let $P$ be the principal $G$-bundle such that $TM$ is the associated the vector bundle. Let $TP$ and $VP$ be the tangent bundle and the vertical tangent bundle over $P$. Let $TTM$ and $VTM$ be the tangent bundle and the vertical tangent bundle over $TM$. We have the following mappings:\n",
    "* $VP\\hookrightarrow TP\\to TM$ over $P\\cong P\\to M$.\n",
    "* $VTM\\hookrightarrow TTM\\to TM$ over $TM\\cong TM\\to M$.\n",
    "* Fixing a $v\\in V$, we have a bundle map $\\phi_v:P\\to TM\\cong P\\times_G V$ by $\\phi_v(p)=(p,v)$.\n",
    "* An Ehressman connection is an inverse map $TP\\to VP$ and $TTM\\to VTM$. They are Ehressman connections on the principal bundle and tangent bundle. By the commutivity of the diagram, they are in one to one correspondence. The Lie derivative, as a connection, is a special Ehressman connection."
   ]
  },
  {
   "cell_type": "markdown",
   "metadata": {},
   "source": []
  }
 ],
 "metadata": {
  "kernelspec": {
   "display_name": "Python 3",
   "language": "python",
   "name": "python3"
  },
  "language_info": {
   "codemirror_mode": {
    "name": "ipython",
    "version": 3
   },
   "file_extension": ".py",
   "mimetype": "text/x-python",
   "name": "python",
   "nbconvert_exporter": "python",
   "pygments_lexer": "ipython3",
   "version": "3.6.1"
  }
 },
 "nbformat": 4,
 "nbformat_minor": 2
}
