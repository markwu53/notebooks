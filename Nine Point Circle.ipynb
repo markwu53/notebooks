{
 "cells": [
  {
   "cell_type": "code",
   "execution_count": 2,
   "metadata": {},
   "outputs": [
    {
     "data": {
      "image/png": "[encoded data removed]",
      "text/plain": [
       "<IPython.core.display.Image object>"
      ]
     },
     "execution_count": 2,
     "metadata": {},
     "output_type": "execute_result"
    }
   ],
   "source": [
    "from IPython.display import Image\n",
    "Image(filename=r\"Nine Point Circle 4.png\")"
   ]
  },
  {
   "cell_type": "markdown",
   "metadata": {},
   "source": [
    "$\\textbf{Feuerbach Theorem}$. The nine-point-circle is tangent to the out-circle."
   ]
  },
  {
   "cell_type": "markdown",
   "metadata": {},
   "source": [
    "Put $\\Delta ABC$ in a coordinate system, so that $A$ is at the origin, $B$ is on $x$-coordinate. Set $AB=1$. Let $O$ be the center of the out-ciricle, which is the intersection of the bisection lines of angle $A$ and the complement of angle $B$. Let $N$ be the center of the nine-point-circle."
   ]
  },
  {
   "cell_type": "markdown",
   "metadata": {},
   "source": [
    "From $x_O\\tan(A/2)=(x_O-1)\\tan((\\pi-B)/2)$, we get\n",
    "$$x_O=\\frac{1}{1-\\tan\\frac{A}{2}\\tan\\frac{B}{2}}, y_O=x_O \\tan\\frac{A}{2}, r_O=y_O$$"
   ]
  },
  {
   "cell_type": "markdown",
   "metadata": {},
   "source": [
    "From $x_C\\tan A=(1-x_C)\\tan B$, we get\n",
    "$$x_C=\\frac{\\tan B}{\\tan A+\\tan B}, y_C=x_C \\tan A$$"
   ]
  },
  {
   "cell_type": "markdown",
   "metadata": {},
   "source": [
    "In the picture, the green triangle is the triangle connecting from the center of the circumcirle to $A$ and the center of $AB$. The position of the center $N$ of the nine-point-circle relative to the *half triangle* is the same as the position of the center of the circumcirle relative to the triangle $\\Delta ABC$. So we have\n",
    "$$x_N=\\frac{1}{4}+\\frac{1}{2}x_C, y_N=\\frac{1}{2}y_C-\\frac{1}{4}\\tan t, r_N=\\frac{1}{4}\\frac{1}{\\cos t}=\\frac{1}{4}\\sqrt{1+\\tan^2t}$$\n",
    "where $t$ is the angle shown in the picture and can be calculated as follow:\n",
    "$$\\frac{x_C}{2}\\frac{1}{\\cos A}\\frac{1}{\\cos(A-t)}=\\frac{1}{2}\\frac{1}{\\cos t}$$\n",
    "We get\n",
    "$$\\tan t=\\frac{x_C-\\cos^2A}{\\sin A \\cos A}$$"
   ]
  },
  {
   "cell_type": "markdown",
   "metadata": {},
   "source": [
    "Our goal is to show\n",
    "$$\\textrm{distance}^2=(x_O-x_N)^2+(y_O-y_N)^2=(r_O+r_N)^2$$\n",
    "Notice that all of the expressions are in terms of $\\tan(A/2)$ and $\\tan(B/2)$. So we let\n",
    "$$x=\\tan\\frac{A}{2}, y=\\tan\\frac{B}{2}$$\n",
    "and hope to express all expressions as rational functions, that is, polynomial over polynomial, and from there we can use computer algebra to prove polynomial identities. It's easy to see that\n",
    "$$\\sin\\frac{A}{2}=\\frac{x}{\\sqrt{1+x^2}},\\cos\\frac{A}{2}=\\frac{1}{\\sqrt{1+x^2}},\n",
    "\\sin A=\\frac{2x}{1+x^2},\\cos A=\\frac{1-x^2}{1+x^2},\\tan A=\\frac{2x}{1-x^2}$$\n",
    "The trignometic functions of $B$ and $B/2$ are similar. Notice that with these formula, $x_O,y_O,r_O,x_N,y_N$ are indeed rational functions in $x$ and $y$. The only obstacle is the expression of $r_N$. But, with a little help of computer algebra, we can show that\n",
    "$$\\sqrt{1+\\tan^2t}=\\frac{(1+x^2)(1+y^2)}{2x(1-y^2)+2y(1-x^2)}$$"
   ]
  },
  {
   "cell_type": "markdown",
   "metadata": {},
   "source": [
    "The following Python Sympy program shows that the theorem holds."
   ]
  },
  {
   "cell_type": "code",
   "execution_count": 1,
   "metadata": {
    "scrolled": true
   },
   "outputs": [
    {
     "name": "stdout",
     "output_type": "stream",
     "text": [
      "178.793854903564\n",
      "178.793854903564\n",
      "True\n",
      "1024*x**26*y**16 + 18432*x**26*y**14 + 82944*x**26*y**12 + 6144*x**25*y**17 + 114688*x**25*y**15 + 423936*x**25*y**13 - 995328*x**25*y**11 + 15360*x**24*y**18 + 303104*x**24*y**16 + 758784*x**24*y**14 - 6506496*x**24*y**12 + 5474304*x**24*y**10 + 20480*x**23*y**19 + 442368*x**23*y**17 + 286720*x**23*y**15 - 18296832*x**23*y**13 + 38301696*x**23*y**11 - 18247680*x**23*y**9 + 15360*x**22*y**20 + 389120*x**22*y**18 - 923648*x**22*y**16 - 28942336*x**22*y**14 + 117233664*x**22*y**12 - 131586048*x**22*y**10 + 41057280*x**22*y**8 + 6144*x**21*y**21 + 212992*x**21*y**19 - 1585152*x**21*y**17 - 28385280*x**21*y**15 + 206233600*x**21*y**13 - 416870400*x**21*y**11 + 300681216*x**21*y**9 - 65691648*x**21*y**7 + 1024*x**20*y**22 + 73728*x**20*y**20 - 1153024*x**20*y**18 - 18149376*x**20*y**16 + 230694912*x**20*y**14 - 762241024*x**20*y**12 + 968895488*x**20*y**10 - 484780032*x**20*y**8 + 76640256*x**20*y**6 + 16384*x**19*y**21 - 434176*x**19*y**19 - 7970816*x**19*y**17 + 171859968*x**19*y**15 - 889004032*x**19*y**13 + 1804312576*x**19*y**11 - 1575067648*x**19*y**9 + 566894592*x**19*y**7 - 65691648*x**19*y**5 + 2048*x**18*y**22 - 76800*x**18*y**20 - 2629632*x**18*y**18 + 87105536*x**18*y**16 - 690278400*x**18*y**14 + 2144507904*x**18*y**12 - 2958827520*x**18*y**10 + 1846462464*x**18*y**8 - 484780032*x**18*y**6 + 41057280*x**18*y**4 - 2048*x**17*y**21 - 700416*x**17*y**19 + 30203904*x**17*y**17 - 361668608*x**17*y**15 + 1695232000*x**17*y**13 - 3547889664*x**17*y**11 + 3477737472*x**17*y**9 - 1575067648*x**17*y**7 + 300681216*x**17*y**5 - 18247680*x**17*y**3 + 1024*x**16*y**22 - 133120*x**16*y**20 + 7034880*x**16*y**18 - 126771200*x**16*y**16 + 900601856*x**16*y**14 - 2827759616*x**16*y**12 + 4181084160*x**16*y**10 - 2958827520*x**16*y**8 + 968895488*x**16*y**6 - 131586048*x**16*y**4 + 5474304*x**16*y**2 - 12288*x**15*y**21 + 1011712*x**15*y**19 - 28667904*x**15*y**17 + 317104128*x**15*y**15 - 1511718912*x**15*y**13 + 3340541952*x**15*y**11 - 3547889664*x**15*y**9 + 1804312576*x**15*y**7 - 416870400*x**15*y**5 + 38301696*x**15*y**3 - 995328*x**15*y + 67584*x**14*y**20 - 3807232*x**14*y**18 + 70839296*x**14*y**16 - 533372928*x**14*y**14 + 1789151232*x**14*y**12 - 2827759616*x**14*y**10 + 2144507904*x**14*y**8 - 762241024*x**14*y**6 + 117233664*x**14*y**4 - 6506496*x**14*y**2 + 82944*x**14 - 225280*x**13*y**19 + 9078784*x**13*y**17 - 118497280*x**13*y**15 + 631640064*x**13*y**13 - 1511718912*x**13*y**11 + 1695232000*x**13*y**9 - 889004032*x**13*y**7 + 206233600*x**13*y**5 - 18296832*x**13*y**3 + 423936*x**13*y + 506880*x**12*y**18 - 14936064*x**12*y**16 + 140101632*x**12*y**14 - 533372928*x**12*y**12 + 900601856*x**12*y**10 - 690278400*x**12*y**8 + 230694912*x**12*y**6 - 28942336*x**12*y**4 + 758784*x**12*y**2 + 18432*x**12 - 811008*x**11*y**17 + 17571840*x**11*y**15 - 118497280*x**11*y**13 + 317104128*x**11*y**11 - 361668608*x**11*y**9 + 171859968*x**11*y**7 - 28385280*x**11*y**5 + 286720*x**11*y**3 + 114688*x**11*y + 946176*x**10*y**16 - 14936064*x**10*y**14 + 70839296*x**10*y**12 - 126771200*x**10*y**10 + 87105536*x**10*y**8 - 18149376*x**10*y**6 - 923648*x**10*y**4 + 303104*x**10*y**2 + 1024*x**10 - 811008*x**9*y**15 + 9078784*x**9*y**13 - 28667904*x**9*y**11 + 30203904*x**9*y**9 - 7970816*x**9*y**7 - 1585152*x**9*y**5 + 442368*x**9*y**3 + 6144*x**9*y + 506880*x**8*y**14 - 3807232*x**8*y**12 + 7034880*x**8*y**10 - 2629632*x**8*y**8 - 1153024*x**8*y**6 + 389120*x**8*y**4 + 15360*x**8*y**2 - 225280*x**7*y**13 + 1011712*x**7*y**11 - 700416*x**7*y**9 - 434176*x**7*y**7 + 212992*x**7*y**5 + 20480*x**7*y**3 + 67584*x**6*y**12 - 133120*x**6*y**10 - 76800*x**6*y**8 + 73728*x**6*y**6 + 15360*x**6*y**4 - 12288*x**5*y**11 - 2048*x**5*y**9 + 16384*x**5*y**7 + 6144*x**5*y**5 + 1024*x**4*y**10 + 2048*x**4*y**8 + 1024*x**4*y**6\n"
     ]
    }
   ],
   "source": [
    "from sympy import *\n",
    "import math\n",
    "\n",
    "x, y= symbols(\"x y\")\n",
    "xc1=y*(1-x**2)\n",
    "xc2=x*(1-y**2)+y*(1-x**2)\n",
    "xc=xc1/xc2\n",
    "yc1=2*x*y\n",
    "yc2=xc2\n",
    "yc=yc1/yc2\n",
    "xo1=1\n",
    "xo2=1-x*y\n",
    "xo=xo1/xo2\n",
    "yo1=x\n",
    "yo2=xo2\n",
    "yo=yo1/yo2\n",
    "ro=yo\n",
    "\n",
    "tn1=y*(1+x**2)**2-(1-x**2)*(x*(1-y**2)+y*(1-x**2))\n",
    "tn2=2*x**2*(1-y**2)+2*x*y*(1-x**2)\n",
    "#tann=xc*(1+x**2)**2/2/x/(1-x**2)-(1-x**2)/2/x\n",
    "tn=tn1/tn2\n",
    "#xn=1/4+xc/2\n",
    "xn1=xc2+2*xc1\n",
    "xn2=4*xc2\n",
    "xn=xn1/xn2\n",
    "#yn=yc/2-tn/4\n",
    "yn1=2*yc1*tn2-yc2*tn1\n",
    "yn2=4*yc2*tn2\n",
    "yn=yn1/yn2\n",
    "#rn=sqrt(1+tn**2)/4\n",
    "rn1=x*(1+x**2)*(1+y**2)\n",
    "rn2=4*tn2\n",
    "rn=rn1/rn2\n",
    "#lhs=(xo-xn)**2+(yo-yn)**2\n",
    "#rhs=(ro+rn)**2\n",
    "lhs1=(xo1*xn2-xo2*xn1)**2*(yo2*yn2)**2\n",
    "lhs2=(yo1*yn2-yo2*yn1)**2*(xo2*xn2)**2\n",
    "lhs3=(yo2*rn2)**2\n",
    "lhs=(lhs1+lhs2)*lhs3\n",
    "rhs1=(yo1*rn2+yo2*rn1)**2\n",
    "rhs2=(xo2*xn2*yo2*yn2)**2\n",
    "rhs=rhs1*rhs2\n",
    "\n",
    "subs={x:math.tan(math.pi*35/180), y:math.tan(math.pi*30/180)}\n",
    "print(lhs.evalf(subs=subs))\n",
    "print(rhs.evalf(subs=subs))\n",
    "print(expand(lhs)==expand(rhs))\n",
    "print(expand(lhs))\n"
   ]
  },
  {
   "cell_type": "code",
   "execution_count": null,
   "metadata": {
    "collapsed": true
   },
   "outputs": [],
   "source": []
  }
 ],
 "metadata": {
  "kernelspec": {
   "display_name": "Python 3",
   "language": "python",
   "name": "python3"
  },
  "language_info": {
   "codemirror_mode": {
    "name": "ipython",
    "version": 3
   },
   "file_extension": ".py",
   "mimetype": "text/x-python",
   "name": "python",
   "nbconvert_exporter": "python",
   "pygments_lexer": "ipython3",
   "version": "3.6.1"
  }
 },
 "nbformat": 4,
 "nbformat_minor": 2
}
