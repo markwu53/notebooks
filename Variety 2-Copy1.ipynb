{
 "cells": [
  {
   "cell_type": "markdown",
   "metadata": {},
   "source": [
    "Let $X$ be a set. $P(X)$ is the power set of $X$. $P$ is a contravariant endo-functor on the category $Set$: if $f:X\\to Y$ is a morphisim, $P(f)$ is a morphism from $P(Y)$ to $P(X)$ such that $P(f)(U)=f^{-1}(U)$ where $U$ is an element of $P(Y)$ or a subset of $Y$, and $f^{-1}(U)$ is the inverse image of $U$, which is a subset of $X$, or an element of $P(X)$. A power set is a poset with inclusion as the order relation. $f^{-1}$ is an order preserving function. If we view $P(X)$ and $P(Y)$ as categories, then $f^{-1}$ is a functor."
   ]
  },
  {
   "cell_type": "markdown",
   "metadata": {},
   "source": [
    "Let $(X,\\mathcal{T}_X)$ be a topological space with $\\mathcal{T}_X$ the topology of $X$ which is the set of open subsets of $X$. A continuous map from $(X,\\mathcal{T}_X)$ to $(Y,\\mathcal{T}_Y)$ is a mapping $f:X\\to Y$ such that $\\iota_X\\circ f^{-1}=f^{-1}\\circ\\iota_Y$ where $\\iota$ is the inclusion map from topology to power set and $f^{-1}$ is the mapping of taking inverse image."
   ]
  },
  {
   "cell_type": "markdown",
   "metadata": {},
   "source": [
    "A presheaf of ring $(X,\\mathcal{T}_X,\\mathcal{O}_X)$ is a topological space with a functor $\\mathcal{O}_X:\\mathcal{T}_X\\to Ring$ where $\\mathcal{T}_X$ is viewed as a category with inclusion map as morphism. The collection of presheaf of ring is a category. A morphism from $(X,\\mathcal{T}_X,\\mathcal{O}_X)$ to $(Y,\\mathcal{T}_Y,\\mathcal{O}_Y)$ is a continuous map $\\phi:X\\to Y$ with a natural transformatoin $\\alpha:\\mathcal{O}_Y\\to\\mathcal{O}_X\\circ\\phi^{-1}$ where $\\phi^{-1}:\\mathcal{T}_Y\\to\\mathcal{T}_X$ is the map of taking inverse image."
   ]
  },
  {
   "cell_type": "markdown",
   "metadata": {},
   "source": [
    "Given a radical ideal $I$ and the corresponding algebraic set $V$ and the coordinate ring $R/I$, denoted $k[V]$. A radical ideal $J$ such that $I\\subseteq J$ defines an algebraic subset $\\bar{U}$ of $V$ which is a closed subset of $V$, the complement $U$ in $V$ is an open set in the subspace topology. On the other hand, $J$ also determine a subring and $R$-subalgebra $L(J)$, modulo by $I$, become a subring and $k[V]$-subalgebra. The mapping from the open set $U$ to this subalgebra is denoted $\\mathcal{O}_V$. $(V,\\mathcal{T}_V,\\mathcal{O}_V)$ is a presheaf on $V$. An element in $R$ naturally defines a function on $k^n$ by evaluating. "
   ]
  },
  {
   "cell_type": "markdown",
   "metadata": {},
   "source": [
    "We need to show that an element in $\\mathcal{O}_V(U)$ has a representation $r/s$ such that $s(x)\\neq0$ for all $x\\in U$. This is not difficult when $R$ is notherian and ufd, which is true since $R$ is a polynomial ring."
   ]
  },
  {
   "cell_type": "markdown",
   "metadata": {},
   "source": [
    "In the case where $\\mathcal{O}_X(U)$ is the ring of functions $f:U\\to k$ for an open subset $U$ of $X$, the natural transformation $\\alpha$ is required to be $\\alpha_U(f)=f\\circ\\phi$."
   ]
  },
  {
   "cell_type": "markdown",
   "metadata": {},
   "source": [
    "A continuous map $\\phi:V\\to W$ between two algebraic sets is $\\textbf{regular}$ if $f\\circ\\phi\\in\\mathcal{O}_V(\\phi^{-1}(U))$ for any $f\\in\\mathcal{O}_W(U)$ for any open subset $U$ of $W$."
   ]
  }
 ],
 "metadata": {
  "kernelspec": {
   "display_name": "Python 3",
   "language": "python",
   "name": "python3"
  },
  "language_info": {
   "codemirror_mode": {
    "name": "ipython",
    "version": 3
   },
   "file_extension": ".py",
   "mimetype": "text/x-python",
   "name": "python",
   "nbconvert_exporter": "python",
   "pygments_lexer": "ipython3",
   "version": "3.6.1"
  }
 },
 "nbformat": 4,
 "nbformat_minor": 2
}
