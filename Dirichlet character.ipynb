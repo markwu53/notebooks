{
 "cells": [
  {
   "cell_type": "code",
   "execution_count": 2,
   "metadata": {},
   "outputs": [
    {
     "data": {
      "text/html": [
       "<style>.container { width:50% !important; }</style>"
      ],
      "text/plain": [
       "<IPython.core.display.HTML object>"
      ]
     },
     "metadata": {},
     "output_type": "display_data"
    }
   ],
   "source": [
    "from IPython.core.display import display, HTML\n",
    "display(HTML(\"<style>.container { width:50% !important; }</style>\"))"
   ]
  },
  {
   "cell_type": "markdown",
   "metadata": {},
   "source": [
    "## Dirichlet Character"
   ]
  },
  {
   "cell_type": "markdown",
   "metadata": {},
   "source": [
    "Let $a>1$ be an integer. Let $\\Phi(a)$ be the set of positive intergers less than $a$ and coprime with $a$. Let $\\phi(a)=|\\Phi(a)|$, the cardinality of $\\Phi(a)$. $\\Phi(a)$ is an abelian group under multiplication modulo $a$, with unit $1$.\n",
    "\n",
    "Let $H(a)$ be the set of homomorphism from $\\Phi(a)$ to $\\mathbb{Z}_a$. For each $h\\in H(a)$, define $\\chi:\\Phi(a)\\to\\mathbb{C}$ by\n",
    "$$\n",
    "\\chi(n)=e^{2\\pi i h(n)/\\phi(a)}\n",
    "$$\n",
    "Extend the function to all integers by setting it to zero if not coprime with $a$. This is a Dirichlet character of period $a$. Let $X(a)$ be the set of Dirichlet character of period $a$.\n",
    "\n",
    "We have\n",
    "* $|X(a)|=\\phi(a)$\n",
    "* The Dirichlet character $\\chi$ such that $\\chi(n)=1$ for all $n\\in\\Phi(a)$ is called the *principal character*.\n",
    "* If $\\chi$ is not the principal character, then $\\sum_{n\\in\\Phi(a)}\\chi(n)=0$.\n",
    "* If $n\\in\\Phi(a)$ and $n\\neq 1$, then $\\sum_{\\chi\\in X(a)} \\chi(n)=0$.\n",
    "* Define $f(n)=\\frac{1}{\\phi(a)}\\sum_{\\chi\\in X(a)}\\chi(nb^{-1})$. Then $f(n)=1$ for $n$ of form $ak+b$, zero otherwise. "
   ]
  },
  {
   "cell_type": "markdown",
   "metadata": {},
   "source": [
    "For $s>1$ and $\\chi\\in X(a)$, define\n",
    "$$\n",
    "L(s,\\chi)=\\sum_{n=1}^\\infty \\frac{\\chi(n)}{n^s}\n",
    "$$\n",
    "Then,\n",
    "$$\n",
    "L(s,\\chi)=\n",
    "(1-\\frac{\\chi(2)}{2^s})^{-1}\n",
    "(1-\\frac{\\chi(3)}{3^s})^{-1}\n",
    "(1-\\frac{\\chi(5)}{5^s})^{-1}\n",
    "\\cdots\n",
    "$$\n",
    "$$\n",
    "\\ln L(s,\\chi)=\n",
    "-\\ln(1-\\frac{\\chi(2)}{2^s})\n",
    "-\\ln(1-\\frac{\\chi(3)}{3^s})\n",
    "-\\ln(1-\\frac{\\chi(5)}{5^s})\n",
    "-\\cdots\n",
    "$$\n",
    "$$\n",
    "=\\frac{\\chi(2)}{2^s}\n",
    "+\\frac{\\chi(2^2)}{2\\cdot2^{2s}}\n",
    "+\\frac{\\chi(2^3)}{3\\cdot2^{3s}}\n",
    "+\\frac{\\chi(2^4)}{4\\cdot2^{4s}}\n",
    "+\\cdots\n",
    "$$\n",
    "$$\n",
    "+\\frac{\\chi(3)}{3^s}\n",
    "+\\frac{\\chi(3^2)}{2\\cdot3^{2s}}\n",
    "+\\frac{\\chi(3^3)}{3\\cdot3^{3s}}\n",
    "+\\frac{\\chi(3^4)}{4\\cdot3^{4s}}\n",
    "+\\cdots\n",
    "$$\n",
    "$$\n",
    "+\\frac{\\chi(5)}{5^s}\n",
    "+\\frac{\\chi(5^2)}{2\\cdot5^{2s}}\n",
    "+\\frac{\\chi(5^3)}{3\\cdot5^{3s}}\n",
    "+\\frac{\\chi(5^4)}{4\\cdot5^{4s}}\n",
    "+\\cdots\n",
    "$$\n",
    "$$\n",
    "+\\frac{\\chi(7)}{7^s}\n",
    "+\\frac{\\chi(7^2)}{2\\cdot7^{2s}}\n",
    "+\\frac{\\chi(7^3)}{3\\cdot7^{3s}}\n",
    "+\\frac{\\chi(7^4)}{4\\cdot7^{4s}}\n",
    "+\\cdots\n",
    "$$\n"
   ]
  },
  {
   "cell_type": "markdown",
   "metadata": {},
   "source": [
    "We want to produce the function $f$ that is only nonzero at $ak+b$. Weighted by $\\chi(b^{-1})$, and sum over all $\\chi\\in X(a)$. On the left hand side, if $\\chi$ is the principal character, $L(s,\\chi)\\to\\infty$ as $s\\to1$. If $\\chi$ is not the principal character, then $L(1,\\chi)$ is finite. Therefore,\n",
    "$$\n",
    "\\sum_{\\chi\\in X(a)} \\chi(b^{-1})\\ln L(s,\\chi) \\to \\infty\n",
    "$$\n",
    "On the right hand side, from the second column to the right, the sum is absolutely convergent. The sum of the first column over all $\\chi\\in X(a)$ as $s\\to1$ is\n",
    "$$\n",
    "\\sum_{\\chi\\in X(a)} \\frac{\\chi(b^{-1})\\chi(2)}{2}\n",
    "+\\sum_{\\chi\\in X(a)} \\frac{\\chi(b^{-1})\\chi(3)}{3}\n",
    "+\\sum_{\\chi\\in X(a)} \\frac{\\chi(b^{-1})\\chi(5)}{5}\n",
    "+\\sum_{\\chi\\in X(a)} \\frac{\\chi(b^{-1})\\chi(7)}{7}\n",
    "+\\cdots\n",
    "=\\infty\n",
    "$$\n",
    "which is exactly the prime number terms that has the form of $ak+b$. Therefore, there are infinitely many prime numbers that have the form $ak+b$.\n"
   ]
  },
  {
   "cell_type": "code",
   "execution_count": null,
   "metadata": {
    "collapsed": true
   },
   "outputs": [],
   "source": []
  }
 ],
 "metadata": {
  "kernelspec": {
   "display_name": "Python 3",
   "language": "python",
   "name": "python3"
  },
  "language_info": {
   "codemirror_mode": {
    "name": "ipython",
    "version": 3
   },
   "file_extension": ".py",
   "mimetype": "text/x-python",
   "name": "python",
   "nbconvert_exporter": "python",
   "pygments_lexer": "ipython3",
   "version": "3.6.1"
  }
 },
 "nbformat": 4,
 "nbformat_minor": 2
}
