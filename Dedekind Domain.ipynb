{
 "cells": [
  {
   "cell_type": "code",
   "execution_count": 3,
   "metadata": {},
   "outputs": [
    {
     "data": {
      "text/html": [
       "<style>.container { width:50% !important; }</style>"
      ],
      "text/plain": [
       "<IPython.core.display.HTML object>"
      ]
     },
     "metadata": {},
     "output_type": "display_data"
    }
   ],
   "source": [
    "from IPython.core.display import display, HTML\n",
    "display(HTML(\"<style>.container { width:50% !important; }</style>\"))"
   ]
  },
  {
   "cell_type": "markdown",
   "metadata": {},
   "source": [
    "**Definition.** If $K$ is a subfield of $L$, then $L$ is an *field extension* of $K$. It's a fact that $L$ is an $K$ vector space. The dimension of $L$ as a $K$ vector space is the *degree of the field extension* of $L$ over $K$. An element $\\alpha$ in $L$ is *algebraic* over $K$ if it is the root of an nonzero polynomial with coefficients in $K$. The field extension $L$ over $K$ is *algebraic* if every element of $L$ is algebraic over $K$. It's a fact that a finite degree field extension is an algebraic field extension. A finite degree field extension over the field of rational numbers $\\mathbb{Q}$ is called an *algebraic number field*.\n",
    "\n",
    "**Definition.** Given a field extension of $L$ over $K$, the *algebraic closure* of $K$ in $L$ is the set of elements in $L$ that are algebraic over $K$. It's a fact that the algebraic closure of $K$ in $L$ is itself a field. A field $K$ is called *algebraiclly closed* if for every field extension $L$ over $K$ the algebraic closure of $K$ in $L$ is equal to $K$. By axiom of choice, every field has an field extension that is algebraiclly closed.\n",
    "\n",
    "**Definition.** Let $A$ be an integral domain. There is a unique field $L$ containing $A$, called *field of fraction* of $A$, such that every $\\alpha$ in $L$ is equal to $ab^{-1}$ for some $a$ and $b$ in $A$. A *multiplicative subset* of $A$ is a subset of $A$ without zero that is closed under multiplication.\n",
    "\n",
    "**Definition.** Let $A$ be an integral domain. Let $L$ be a field containing $A$. An element $\\alpha$ in $L$ is said to be *integral* over $A$ if it is a root of a *monic* polynomial with coefficients in $A$. The set of elements in $L$ that are integral over $A$ is the *integral closure* of $A$ in $L$. $A$ is said to be *integrally closed* if it is its own integral closure in its field of fraction. It's a fact that the integral closure of $A$ in $L$ is a ring. The integral clousre of $\\mathbb{Z}$ in an algebraic field $L$ is called the *ring of integer* $O_L$ in $L$. It's a fact that $L$ is the field of fraction of $O_L$.\n",
    "\n",
    "**Definition.** A ring is *Noetherian* if every ideal is finitely generated. A module is *Noetherian* if every submodule is finitely generated. A *Dedekind* domain is an integral domain such that it's Noetherian, integrally closed, and every nonzero prime ideal is maximal.\n",
    "\n",
    "**Definition.** Local ring. Unique factorization domain. Principal ideal domain.\n",
    "\n",
    "Dedekind domain has the property of \"unique factorization of ideals\". \"unique factorization of ideals\" is not the same as \"unique factorization of elements\". The measure of how far away between the two is by the \"class group\".\n"
   ]
  }
 ],
 "metadata": {
  "kernelspec": {
   "display_name": "Python 3",
   "language": "python",
   "name": "python3"
  },
  "language_info": {
   "codemirror_mode": {
    "name": "ipython",
    "version": 3
   },
   "file_extension": ".py",
   "mimetype": "text/x-python",
   "name": "python",
   "nbconvert_exporter": "python",
   "pygments_lexer": "ipython3",
   "version": "3.6.1"
  }
 },
 "nbformat": 4,
 "nbformat_minor": 2
}
