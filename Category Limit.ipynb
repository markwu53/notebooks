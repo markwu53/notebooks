{
 "cells": [
  {
   "cell_type": "markdown",
   "metadata": {},
   "source": [
    "Definition. Given a set $S$, a *binary relation* or just *relation* is a subset $R$ of the cartesian product $S\\times S$. Given $x,y\\in S$. If $(x,y)\\in R$ we say $x$ and $y$ has the relation $R$, denoted $xRy$ or $x\\le y$. A set with a binary relation is denoted $(S,R)$ or $(S,\\le)$."
   ]
  },
  {
   "cell_type": "markdown",
   "metadata": {},
   "source": [
    "Definition. Given a set with a binary relation $(S,\\le)$. If for all $x\\in S$ we have $x\\le x$, then the relation is *reflexive*. If for all $x,y,z\\in S$, $x\\le y$ and $y\\le z$ implies $x\\le z$, then the relation is *transitive*. If for all $x,y\\in S$, $x\\le y$ and $y\\le x$ implies $x=y$, then the relation is *antisymmetric*."
   ]
  },
  {
   "cell_type": "markdown",
   "metadata": {},
   "source": [
    "Definition. A *preordered set* is a set with a reflexive and transitive relation. A *partially ordered set* or a *poset* is a preordered set such that the relation is antisymmetric. A *directed set* is a partially ordered set such that every pair has an upper bound, that is, for any $x,y \\in S$, there exists $u\\in S$ such that $x\\le u$ and $y\\le u$."
   ]
  },
  {
   "cell_type": "markdown",
   "metadata": {},
   "source": [
    "Definition. An *inverse system* is a functor on a directed set (viewed as a category)."
   ]
  },
  {
   "cell_type": "markdown",
   "metadata": {},
   "source": [
    "Remark. We aim at the image of the functor in the target category. But the image may not faithfully reflect what we want, for example, if we want a few copies of the same object. So the proper defition of an inverse system has to be a functor."
   ]
  },
  {
   "cell_type": "markdown",
   "metadata": {},
   "source": [
    "Definition. Given an inverse system, which is a functor on a directed set, the limit of the functor is called the *inverse limit* or *projective limit* of the inverse system. The colimit of the functor is called the *direct limit* of the inverse system."
   ]
  },
  {
   "cell_type": "markdown",
   "metadata": {},
   "source": [
    "Remark. In the special case that the directed set has no relation at all, and it's just a set, the inverse limit or projective limit is the product or direct product, and the direct limit is the direct sum."
   ]
  },
  {
   "cell_type": "markdown",
   "metadata": {},
   "source": [
    "Definition. A contravariant functor from a directed set (viewed as a category) to $Set$ is a *presheaf*."
   ]
  },
  {
   "cell_type": "markdown",
   "metadata": {},
   "source": [
    "Definition. Given a functor from a set (viewed as a discrete category) to $Set$. The limit of the functor, or the product, is a *bundle*. Each component map, or each component, is a *fiber*. An element of the product is a *section*."
   ]
  }
 ],
 "metadata": {
  "kernelspec": {
   "display_name": "Python 3",
   "language": "python",
   "name": "python3"
  },
  "language_info": {
   "codemirror_mode": {
    "name": "ipython",
    "version": 3
   },
   "file_extension": ".py",
   "mimetype": "text/x-python",
   "name": "python",
   "nbconvert_exporter": "python",
   "pygments_lexer": "ipython3",
   "version": "3.6.1"
  }
 },
 "nbformat": 4,
 "nbformat_minor": 2
}
