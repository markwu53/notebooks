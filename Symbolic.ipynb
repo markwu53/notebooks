{
 "cells": [
  {
   "cell_type": "markdown",
   "metadata": {},
   "source": [
    "$$\n",
    "3 + 16/(3*(-1/2 + sqrt(3)*I/2)*(32/3 + 32*sqrt(3)*I/9)**(1/3)) + (-1/2 + sqrt(3)*I/2)*(32/3 + 32*sqrt(3)*I/9)**(1/3)\n",
    "$$\n"
   ]
  },
  {
   "cell_type": "markdown",
   "metadata": {},
   "source": [
    "$$\n",
    "3+\\frac{16}{3(-\\frac{1}{2}+\\frac{\\sqrt{3}i}{2})(\\frac{32}{3}+\\frac{32\\sqrt{3}i}{9})^{1/3}}\n",
    "+(-\\frac{1}{2}+\\frac{\\sqrt{3}i}{2})(\\frac{32}{3}+\\frac{32\\sqrt{3}i}{9})^{1/3}\n",
    "$$"
   ]
  }
 ],
 "metadata": {
  "kernelspec": {
   "display_name": "Python 3",
   "language": "python",
   "name": "python3"
  },
  "language_info": {
   "codemirror_mode": {
    "name": "ipython",
    "version": 3
   },
   "file_extension": ".py",
   "mimetype": "text/x-python",
   "name": "python",
   "nbconvert_exporter": "python",
   "pygments_lexer": "ipython3",
   "version": "3.6.1"
  }
 },
 "nbformat": 4,
 "nbformat_minor": 2
}
