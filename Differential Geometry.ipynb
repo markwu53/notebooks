{
 "cells": [
  {
   "cell_type": "markdown",
   "metadata": {},
   "source": [
    "Definition.\n",
    "* A $\\textbf{topology}$ on a set $X$ is a set $\\mathcal{T}_X$ of subsets of $X$ such that $\\mathcal{T}_X$ is closed under binary operation of intersection and arbitrary union, also $\\mathcal{T}_X$ contains the empty set and the total set as elements. Elements in $\\mathcal{T}_X$ are called $\\textbf{open}$ sets.\n",
    "* A $\\textbf{topological space}$ is a set equipped with a topology, denoted $(X,\\mathcal{T}_X)$.\n",
    "* A $\\textbf{continuous function}$ from $(X,\\mathcal{T}_X)$ to $(Y,\\mathcal{T}_Y)$ is a function $f:X\\to Y$ such that it induces a function $T_f:\\mathcal{T}_Y\\to \\mathcal{T}_X$ by taking inverse image.\n",
    "* A $\\textbf{homeomorphism}$ from $(X,\\mathcal{T}_X)$ to $(Y,\\mathcal{T}_Y)$ is a continuous function $f:X\\to Y$ such that both $f$ and $T_f$ are bijections."
   ]
  },
  {
   "cell_type": "markdown",
   "metadata": {},
   "source": [
    "Remark. Homeomorphism has different equivalent definitions:\n",
    "* A continuous bijection such that the inverse function is also continuous.\n",
    "* There exist another function $g:Y\\to X$ such that $f\\circ g$ and $g\\circ f$ are identity functions on $Y$ and $X$."
   ]
  },
  {
   "cell_type": "markdown",
   "metadata": {},
   "source": [
    "Definition.\n",
    "* An (open) $\\textbf{covering}$ of a topological space $(X,\\mathcal{T}_X)$ is a subset $\\mathcal{C}_X$ of the topology $\\mathcal{T}_X$ such that $X\\subseteq \\cup \\mathcal{C}$.\n",
    "* An (open) $\\textbf{covering}$ of a subset $S\\subseteq X$ is defined similarly."
   ]
  },
  {
   "cell_type": "markdown",
   "metadata": {},
   "source": [
    "Remark. A topological space has a lot of open coverings. The set of all open coverings is a subset of the power set of the topology. Usually we don't need to distinguish coverings. We just choose one."
   ]
  },
  {
   "cell_type": "markdown",
   "metadata": {},
   "source": [
    "Definition. There are two defintions for a manifold:\n",
    "* A $\\textbf{manifold}$ of $\\textbf{dimension}$ $n$ is a topological space $(M,\\mathcal{T}_M)$ together with a covering $\\mathcal{C}_M$ and a collection $\\mathcal{\\Phi}_M$ of homeomorphisms $\\phi_U:U\\to\\mathbb{R}^n$ for each $U\\in\\mathcal{C}_M$.\n",
    "* A $\\textbf{manifold}$ of $\\textbf{dimension}$ $n$ is a topological space $(M,\\mathcal{T}_M)$ such that there exist a covering $\\mathcal{C}_M$ and a collection $\\mathcal{\\Phi}_M$ of homeomorphisms $\\phi_U:U\\to\\mathbb{R}^n$ for each $U\\in\\mathcal{C}_M$.\n",
    "* The pair $(\\mathcal{C}_M,\\mathcal{\\Phi}_M)$ is called a $\\textbf{manifold structure}$.\n",
    "* For $U,V\\in\\mathcal{C}_M$ the map $\\phi_{UV}:\\phi_U(U\\cap V)\\to \\phi_V(U\\cap V)$ is called a $\\textbf{transition function}$.\n",
    "* A $\\textbf{manifold mapping}$ between two manifolds is just a mapping between underlying topological spaces, or a continuous function."
   ]
  },
  {
   "cell_type": "markdown",
   "metadata": {},
   "source": [
    "Remark.\n",
    "* The two definitions have subtle differences. The first definition requires the manifold structure to be part of the definition. So a manifold is really a tuple of $(M,\\mathcal{T}_M,\\mathcal{C}_M,\\mathcal{\\Phi}_M)$. So a manifold with different manifold structures may or may not be the same manifold. Or, two manifolds that are homeomorphic as topological spaces but have different manifold structures, may or may not be the same manifold. While in the second definition, two manifolds are the same if they are homeomorphic as topological spaces.\n",
    "* Which one is correct depends on the definition of mappings, or homomorphisms, or morphisms, between manifolds. A homomorphism between mathematical objects of the same type is supposed to repect the mathematical structure of the objects. Two way homomorphisms can determine if two objects are the same. So homomorphisms identify objects.\n",
    "* From the definition of a manifold mapping, or manidfold homomorphism, we see the second defintion is correct. This means that we treat a manifold's identity as a topological space. The class of manifolds is a subclass of the class of topological spaces. We use the same method, homeomorphism, that identifies two topological spaces to identity two manifolds.\n",
    "* There are a lot of choices of coverings, and for each covering, and for each single open set in a covering, there are a lot of choices of homeomorphisms to the Euclidean space. To make things less variable, we define a canonical covering."
   ]
  },
  {
   "cell_type": "markdown",
   "metadata": {},
   "source": [
    "Definition. Let $n$ be a positive integer. Let $\\mathcal{C}^{*}_M$ be the set of open sets of a topological space $(M,\\mathcal{T}_M)$, such that each open set is homeomorphic to $\\mathbb{R}^n$.\n",
    "* $M$ is a $\\textbf{manifold}$ if $\\mathcal{C}^{*}_M$ is a covering. In this case, $\\mathcal{C}^{*}_M$ is called the $\\textbf{canonical manifold covering}$, or the $\\textbf{maximal manifold covering}$.\n",
    "* A subset $\\mathcal{C}_M$ of $\\mathcal{C}^*_M$ is called a $\\textbf{manifold covering}$ if it's a covering.\n",
    "* For an open set $U\\in\\mathcal{C}^*_M$, let $H_U$ be the set of homeomorphisms from $U$ to $\\mathbb{R}^n$. For a manifold covering $\\mathcal{C}_M$, let $E=\\{(U,H_U):U\\in\\mathcal{C}_M\\}$ be a bundle over $\\mathcal{C}_M$. A section of the bundle is called a $\\textbf{manifold structure}$, denoted $(\\mathcal{C}_M,\\mathcal{\\Phi}_M)$.\n",
    "* Given a manifold structure $(\\mathcal{C}_M,\\mathcal{\\Phi}_M)$, for $U,V\\in\\mathcal{C}_M$, let $\\phi_U,\\phi_V$ be homeomorphisms over $U$ and $V$ to $\\mathbb{R}^n$, that is, $\\phi_U=\\mathcal{\\Phi}_M(U)$ and $\\phi_V=\\mathcal{\\Phi}_M(V)$, the induced function $\\phi_{UV}:\\phi_U(U\\cap V)\\to \\phi_V(U\\cap V)$ is called a $\\textbf{transition function}$."
   ]
  },
  {
   "cell_type": "markdown",
   "metadata": {},
   "source": [
    "Remark.\n",
    "* $H_U$ is isomorphic to the space $Aut(\\mathbb{R}^n)$ of auto-homeomorphisms of $\\mathbb{R}^n$.\n",
    "* An element in $\\mathcal{C}^*_M$ is necessarily simply connected.\n",
    "* A manifold structure over the canonical manifold covering $(\\mathcal{C}^*_M,\\mathcal{\\Phi}^*_M)$ restricts to a manifold structure $(\\mathcal{C}_M,\\mathcal{\\Phi}_M)$ for any manifold covering $\\mathcal{C}_M$.\n",
    "* Any manifold structure $(\\mathcal{C}_M,\\mathcal{\\Phi}_M)$ extends uniquely to a manifold structure over the canonical manifold covering $(\\mathcal{C}^*_M,\\mathcal{\\Phi}^*_M)$."
   ]
  },
  {
   "cell_type": "markdown",
   "metadata": {},
   "source": [
    "Definition.\n",
    "* A $\\textbf{differentiable manifold}$ is a manifold $(M,\\mathcal{T}_M)$ together with a $\\textbf{differentiable structure}$, which is a manifold structure $(\\mathcal{C}_M,\\mathcal{\\Phi}_M)$ such that the transition functions are differentiable.\n",
    "* Given two differentiable manifolds $(M,\\mathcal{T}_M,\\mathcal{C}_M,\\mathcal{\\Phi}_M)$ and $(N,\\mathcal{T}_N,\\mathcal{C}_N,\\mathcal{\\Phi}_N)$, a mapping from $M$ to $N$, $f:M\\to N$, is a mapping between manifolds such that for $V\\in\\mathcal{C}_N$ and $U\\in\\mathcal{C}_M$, $\\phi_V\\circ f\\circ \\phi_U^{-1}$ is differentiable, where $\\phi_U=\\mathcal{\\Phi}_M(U)$ and $\\phi_V=\\mathcal{\\Phi}_N(V)$. We also say the mapping is $\\textbf{differentiable}$.\n",
    "* A $\\textbf{diffeomorphism}$ is a differentiable homeomorphism such that the inverse is also differentiable.\n",
    "* A $\\textbf{differentiable function}$ on a differentiable manifold is a differentiable mapping from the manifold to $\\mathbb{R}$."
   ]
  },
  {
   "cell_type": "markdown",
   "metadata": {},
   "source": [
    "Remark.\n",
    "* The mapping between two differentiable manifolds requires we fix differentiable structures on both manifolds. Therefore the definition of differentiable manifold requires the differentiable structure to be given.\n",
    "* The mapping between differentiable manifolds respect a little more structure of objects. This means two differentiable manifolds can be isomorphic as manifolds but not isomorphic as differentiable manifolds. Can that happen? I think that can happen.\n",
    "* Conjecture: Every manifold can be given a differentiable structure.\n",
    "* A Euclidean space itself is a differentiable manifold."
   ]
  },
  {
   "cell_type": "markdown",
   "metadata": {},
   "source": [
    "Remark.\n",
    "* There are variations of immersion, injective differentiable, submanifold concepts. Basically an immersion is that the $df$ is injective. Injective differentiable implies immersion. Submanifold is a subset which is itself a differentiable manifold and the inclusion map is differentiable. Submanifold is the strongest."
   ]
  },
  {
   "cell_type": "markdown",
   "metadata": {},
   "source": [
    "Definition.\n",
    "* A $\\textbf{fiber bundle}$ is a tuple $(E,M,\\pi,F)$, where $E$ is the ${bundle}$ manifold, $M$ is the $\\textbf{base}$ manifold, $F$ is the modeling $\\textbf{fiber}$ manifold, all of them are differentiable manifold. $\\pi:E\\to M$ is a surjective differentiable map, called the $\\textbf{projection}$. $E$ as a set is $M\\times F$ and has the glue topology and differentiable structure induced by $M$ and $F$.\n",
    "* A fiber bundle such that the fibers are all isomorphic to $\\mathbb{R}^n$ as vector space is called a $\\textbf{vector bundle}$.\n",
    "* A $\\textbf{section}$ of a fiber bundle $\\pi:E\\to M$ is a differentiable map $s:M\\to E$ such that $\\pi\\circ s$ is the identity map on $M$. The space of sections is denoted $\\Gamma(E)$.\n",
    "* A bundle map between bundles $(E,M,\\pi)$ and $(F,N,\\pi)$ is a pair $(f,g)$ of differentiable map $f:E\\to F$ and $g:M\\to N$ such that $\\pi\\circ f=g\\circ\\pi$."
   ]
  },
  {
   "cell_type": "markdown",
   "metadata": {},
   "source": [
    "Remark.\n",
    "* Let $(E,M,\\pi)$ be a fiber bundle. The space of bundle automorphism is generated by the group $G_M$ of auto-diffeomorphisms of $M$, the group $G_F$ of auto-diffeomorphisms of a fiber. For identity map on $M$, it's the space of sections of $G_F$-bundle over $M$. Then the group $G_M$ acts on this space.\n",
    "* Two bundles are isomorphic if the base manifolds are diffeomorphic and any pair of fibers from each bundle has an isomorphism.\n",
    "* Let $(F,N,\\pi)$ be a bundle. Let $g:M\\to N$ be a differentiable map. There exists a bundle $(E,M,\\pi)$ and a map $f:E\\to F$ such that $(f,g)$ is a bundle map. It can be constructed by gluing. But not necessarily unique, even up to bundle isomorphism."
   ]
  },
  {
   "cell_type": "markdown",
   "metadata": {},
   "source": [
    "Remark.\n",
    "* A differentiable manifold does not yet have a metric structure, so we cannot talk about length, shape, etc.\n",
    "* Every differentible manifold has an embedding into a Euclidean space (with higher dimension).\n",
    "* If we think about local embedding into Euclidean spaces, it's actually trivial, because every point has an open neighborhood homeomorphic to the Euclidean space, this homeomorphism is already an embedding. This doesn't look intuitive because we usually implicitly think of a differentialbe as having a shape or bending like a surface, but it really doesn't have that shape, because shape only come after we give it a metric structure.\n",
    "* Without a bending shape, how can we imagine tangent spaces? How do we define them? Actually, the name *tagent space* doesn't make sense at this point. But something in the usual tangent space does make sense already. If we think of local embedding, then the tangent space is just the Euclidean space itself. But each point on a manifold can be covered by more than one open set in the covering. To make the tangent unique we either need to fix an open set over a point, or we consider the collection of open sets that cover a point as a whole. Let's explore them both.\n",
    "* To fix an open set over a point, we can choose a function $\\eta:M\\to\\mathcal{C}_M$ such that $\\eta(x)$ is an open set that cover $x$. Maybe we can define some kind of topology on $\\mathcal{C}_M$ and require $\\eta$ to be continuous. This may give the covering choice function $\\eta$ some regularity. Tagent space is at a point, so we have to mark the point in the Euclidean space - a *marked Euclidean space*. Another way to think of it, tagent spaces are a bunch of Euclidean spaces, each of which is attached to a point on the manifold at $0$.\n",
    "* Let's explore the second way. A point on the manifold can have multiple open neighborhoods in the covering. Each of them has a homeomorphism. There is no canonical way to choose one. But any two of them when restrict to a common neighborhood, has a differentiable bijection between subsets of Euclidean spaces. The shapes are different for the subsets in different copies of Euclidean spaces. But if we look at the limit, or look at the equivalence class of line segments passing through the corresponding points, where line segments are related with each other by the differerntiable bijection. The collection of such equivalence classes is not a Euclidean space again. It's a vector space. We can define this vector space to be the tangent space at a point.\n",
    "* Comparing the two method, the covering choice function method is more specific, or require more to be fixed. It is like choosing a metric on the tangent space. With the second method, we only get a vector space for the tangent space, no metric."
   ]
  },
  {
   "cell_type": "markdown",
   "metadata": {},
   "source": [
    "Definition.\n",
    "Let $(M,\\mathcal{T}_M,\\mathcal{C}_M,\\mathcal{\\phi}_M)$ be a differentiable manifold. Let $x\\in M$ be a point. Let $I_x=\\{U\\in\\mathcal{C}_M: x\\in U\\}$. Given $(U,u)$ and $(V,v)$ in $I_x\\times\\mathbb{R}^n$, define an equivalence relation $(U,u)\\sim(V,v)$ if $v=df_p(u)$ where $f=\\phi_{UV}$ is the transition function, $df$ is the differential, $p$ is $\\phi_U(x)$,  $df_p$ is the differential at $p$, which is a linear transformation between vector spaces $\\mathbb{R}^n$.\n",
    "* Define $I_x\\times\\mathbb{R}^n/\\sim$ to be the $\\textbf{tangent space}$ of $M$ at $x$, denoted $T_xM$.\n",
    "* The set $\\{(x,T_xM):x\\in M\\}$, after given a topology and a differentiable structure, is called the $\\textbf{tangent bundle}$, denoted $TM$."
   ]
  },
  {
   "cell_type": "markdown",
   "metadata": {},
   "source": [
    "Remark.\n",
    "* The tangent space is a vector space isomorphic to $\\mathbb{R}^n$ with no canonical isomorphism.\n",
    "* Without a topology, the tangent bundle $TM$ is just a set which is isomorphic (as a set) to $M\\times\\mathbb{R}^n$.\n",
    "* The topology on the set of $TM$ should respect the topology of the manifold $M$. On each open set $U$ in $\\mathcal{C}_M$, we define the bundle over $U$ to have product topology, that is, homeomorphic to $U\\times\\mathbb{R}^n$. Then we piece up the blocks together."
   ]
  },
  {
   "cell_type": "markdown",
   "metadata": {},
   "source": [
    "Definition. Let $(X,\\mathcal{T}_X)$ and $(Y,\\mathcal{T}_Y)$ be topological spaces. Let $U\\subseteq X$ and $V\\subseteq Y$ be open sets. Let $\\phi:U\\to V$ be a homeomorphism. Let $Z=(X\\sqcup Y)/\\sim$, where $x\\sim\\phi(x)$ for $x\\in U$. Let $P_Z=(\\mathcal{T}_X\\sqcup\\mathcal{T}_Y)/\\sim$, where $\\sim$ is equivalence relation induced by $\\phi$ on open sets. Let $\\mathcal{T}_Z$ be the topology on $Z$ generated by $P_Z$. We call it the $\\textbf{glue topology}$."
   ]
  },
  {
   "cell_type": "markdown",
   "metadata": {},
   "source": [
    "Definition. Let $(M,\\mathcal{T}_M,\\mathcal{C}_M,\\mathcal{\\Phi}_M)$ be a differentiable manifold. Fix an isomorphism $\\psi_x:T_xM\\to\\mathbb{R}^n$ for each $x\\in M$. For each $U\\in\\mathcal{C}_M$, let $T_UM=\\{(x,v):x\\in U, v\\in T_xM\\}$, and define $\\phi_{TU}:T_UM\\to\\mathbb{R}^{2n}=\\mathbb{R}^n\\times\\mathbb{R}^n$ such that $\\phi_{TU}(x,v)=(\\phi_U(x),\\psi_x(v))$ where $\\phi_U=\\mathcal{\\Phi}_M(U)$. Give $T_UM$ the topology so that $\\phi_{TU}$ is a homeomorphism. View $TM$ as the gluing of $T_UM$ for $U\\in\\mathcal{C}_M$, and give it the glue topology. With this topology, $TM$ is a $2n$-manifold. The transition function $\\phi_{TUTV}$ is differentiable as it's an extension of $\\phi_{UV}$ with the component in the tangent space fixed by $\\psi_x$. Let $\\mathcal{C}_{TM}=\\{T_UM: U\\in\\mathcal{C}_M\\}$, and $\\mathcal{\\Phi}_{TM}:T_UM\\mapsto\\phi_{TU}$. $TM$ is a differentiable manifold of dimension $2n$ with the differentiable structure $(\\mathcal{C}_{TM},\\mathcal{\\Phi}_{TM})$. $TM$ is called the $\\textbf{tangent bundle}$."
   ]
  },
  {
   "cell_type": "markdown",
   "metadata": {},
   "source": [
    "Remark. The tangent bundle is a vector bundle with a differentiable projection map $\\pi:TM\\to M$ such that $\\pi(v)=x$ for $v\\in T_xM$."
   ]
  },
  {
   "cell_type": "markdown",
   "metadata": {},
   "source": [
    "Definition. Let $f:U\\subseteq\\mathbb{R}^m\\to V\\subseteq\\mathbb{R}^n$ be a differentiable map. $df_x$ is the differential at $x\\in U$, which is a linear transformation from $\\mathbb{R}^m$ to $\\mathbb{R}^n$."
   ]
  },
  {
   "cell_type": "markdown",
   "metadata": {},
   "source": [
    "Definition.\n",
    "Let $f:M\\to N$ be a mapping between differentiable manifolds. $f$ induces a mapping $df:TM\\to TN$, called the $\\textbf{differential}$, such that for each $(x,v)\\in TM$, we take a representation of it in the Euclidean space, and map it a representation of the target tangent vector by taking the differential of the induced map between Euclidean spaces. Let $df_x:T_xM\\to T_{f(x)}N$ be the differential at $x\\in M$."
   ]
  },
  {
   "cell_type": "markdown",
   "metadata": {},
   "source": [
    "Remark.\n",
    "* $\\pi\\circ df=f\\circ\\pi$.\n",
    "* The differential can also be viewed as a transformation-valued function on $M$, or a $T_{f(x)}N\\otimes T^*_xM$ valued function for each $x$. We tempt to say it's a section in the bundle $TN\\otimes T^*M$, but it doesn't make sense, even we pull back the bundle to over $M$.\n",
    "* The differential not always push forward a vector field on $M$ to a vector field on $N$, because the mapping $f$ may fold."
   ]
  },
  {
   "cell_type": "markdown",
   "metadata": {},
   "source": [
    "Definition. The $\\textbf{cotangent bundle}$ $T^*M=\\sqcup_{x\\in M}T^*_xM$, where $T_x^*M$ is the dual space of $T_xM$. The cotangent bundle has the topology and differentiable structure similar defined as tangent bundle."
   ]
  },
  {
   "cell_type": "markdown",
   "metadata": {},
   "source": [
    "Definition. A global section of the cotangent bundle is called a $\\textbf{differential}$ $1$-$\\textbf{form}$."
   ]
  },
  {
   "cell_type": "markdown",
   "metadata": {},
   "source": [
    "Definition. For two $\\mathbb{R}$-vector spaces $U$ and $V$, let $U\\otimes V$ be the commutative tensor product."
   ]
  },
  {
   "cell_type": "markdown",
   "metadata": {},
   "source": [
    "Remark.\n",
    "* $V\\otimes\\mathbb{R}\\cong V$ canonically.\n",
    "* The space of linear transformations $f:V\\to\\mathbb{R}$ is identified with $V^*$ by definition.\n",
    "* The space of linear transformations $f:\\mathbb{R}\\to V$ is identified with $V$.\n",
    "* The space of linear transformations $U\\otimes V\\to W$ is identified with $U\\to W\\otimes V^*$.\n",
    "* The space of linear transformations between any tensor product spaces can be identified with the canonical form $U_1\\otimes\\cdots\\otimes U_n\\otimes V_1^*\\otimes\\cdots\\otimes V_m^*$."
   ]
  },
  {
   "cell_type": "markdown",
   "metadata": {},
   "source": [
    "Remark.\n",
    "* There is a (non-canonical) diffeomorphism from the modeling fiber $F$ to each fiber, making each fiber a submanifold of the bundle. Or, there is a differentiable injective map from $F$ to the bundle $E$ that is onto a fiber at a given $x\\in M$ and the inverse is also differentiable. This is the condition of a submanifold.\n",
    "* Note that there is no canonical inclusion map from the base manifold $M$ to the bundle manifold $E$. Every section can be such an embedding. So don't think of the base manifold $M$ as a submanifold of the bundle manifold $E$.\n",
    "* If $M$ is a submanifold of $N$, then $T_xM$ is a subspace of $T_xN$ for $x\\in M$.\n",
    "* The differential of a section $ds:TM\\to TE$, if viewed as a transformation-valued function on $M$, at $x\\in M$, it's a linear transformation $T_xM\\to T_{s(x)}E$. Let $E_x$ be the fiber over $x\\in M$, that is $E_x=\\pi^{-1}(x)$. $s(x)\\in E_x$. Since $E_x$ is a submanifold of $E$. We have $T_{s(x)}E_x$ is a subspace of $T_{s(x)}E$. There is no canonical projection from $T_{s(x)}E$ to its subspace $T_{s(x)}E_x$, but we can choose such a projection for each $x\\in M$.\n",
    "* We can pull back a bundle from $TE$ to over $M$ so that it becomes a vector bundle over $M$ such that the fiber has dimension the same as the dimenion of a tangent space on $E$. Denote this pullback bundle by $T_sE$. Then the differential $ds$ becomes a section of $T_sE\\otimes T^*M$."
   ]
  },
  {
   "cell_type": "markdown",
   "metadata": {},
   "source": [
    "Definition.\n",
    "* A $\\textbf{vector bundle}$ $E$ over a differentiable manifold $M$ is a differentiable manifold $E$ with a differentiable $\\textbf{project map}$ $\\pi:E\\to M$ such that each $\\textbf{fiber}$ $\\pi^{-1}(x)$ over $x\\in M$ is isomorphic to $\\mathbb{R}^m$, and $E$ has the glue topology and differentiable structure induced by the differentiable structure on $M$.\n",
    "* A (differentiable) $\\textbf{section}$ or a $\\textbf{vector field}$ on a vector bundle $\\pi:E\\to M$ is a differentiable map $s:M\\to E$ such that $\\pi(s(x))=x$ for $x\\in M$. The space of sections on $E$ is denoted $\\Gamma(E)$.\n",
    "* A vector field on the tangent vector bundle $TM$ is a $\\textbf{tangent vector field}$.\n",
    "* A vector field on the cotangent vector bundle $T^*M$ is a $\\textbf{cotangent vector field}$.\n",
    "* Let $E$ and $F$ be vector bundles over $M$. Define $E\\otimes F$ to be the vector bundle such that a fiber on $E\\otimes F$ is the tensor product of a fiber on $E$ and a fiber on $F$."
   ]
  },
  {
   "cell_type": "markdown",
   "metadata": {},
   "source": [
    "Remark.\n",
    "* $\\Gamma(E)$ is a vector space over $\\mathbb{R}$.\n",
    "* $\\Gamma(E)$ is a finitely generated module over the ring $R$ of differentiable functions on $M$. The number of generators is the same as the dimension of the fiber dimension.\n",
    "* $\\Gamma(E\\otimes F) \\cong \\Gamma(E) \\otimes_R \\Gamma(F)$."
   ]
  },
  {
   "cell_type": "markdown",
   "metadata": {},
   "source": [
    "Defintion.\n",
    "Given a differentiable function $f$ on a differentiable manifold $M$, which is a differentiable function from $M$ to the differentiable manifold $\\mathbb{R}$. We can take the $\\textbf{directional derivative}$ of $f$ along a vector field $X$, which is a differentiable section of the tangent bundle, $X\\in\\Gamma(TM)$. The result is a differentiable function on $M$, $df(X)$, or written $X(f)$."
   ]
  },
  {
   "cell_type": "markdown",
   "metadata": {},
   "source": [
    "Remark.\n",
    "* If $f:M\\to N$, then $df$ not always takes a tangent vector field on $M$ to a tangent vector field on $N$, for example, when the mapping fold. So it's wrong to think of $df:\\Gamma(TM)\\to\\Gamma(TN)$. Instead, $df$ is everywhere a transformation from the tangent space $T_xM$ to the tangent space $T_{f(x)}N$, so it's a transformation-valued function on $M$. We tempt to say it's a section in the bundle $TN\\otimes T^*M$, but it's not, because $TN$ and $T^*M$ are not on the same base manifold, because we cannot pull back a tangent vector field on $N$ to a tangent vector field on $M$.\n",
    "* We cannot push forward or pull back a tangent vector field. We cannot push forward a cotangent vector field. But we can pull back a contangent vector field.\n",
    "* The result of $df$ acting on a tangent vector field is really a tangent vector on the target manifold. If the target manifold is $\\mathbb{R}^n$, the tangent spaces have canonical identification with $\\mathbb{R}^n$, so the value become $\\mathbb{R}^n$ valued.\n",
    "* Now we consider the differential of a section, which is a differentiable map from the base manifold to the vector bundle manifold, $s:M\\to E$. We think of $s$ as a bundle valued function on the manifold $M$. We want $ds$ acting on a tangent vector field to result in another bundle valued function, or another section on the vector bundle, to mimic the directional derivative we defined when the target space is a Euclidean space."
   ]
  },
  {
   "cell_type": "markdown",
   "metadata": {},
   "source": [
    "Definition.\n",
    "Let $\\pi:E\\to M$ be a vector bundle over $M$. Let $R$ be the ring of differentiable functions on $M$. A $\\textbf{connection}$ on $E$ is a map $\\nabla:\\Gamma(E)\\to\\Gamma(E\\otimes T^*M)$ satisfying the Leibniz derivative rule: $\\nabla(fs)=f\\nabla(s)+df\\otimes s$ for $f\\in R$, $s\\in\\Gamma(E)$."
   ]
  },
  {
   "cell_type": "markdown",
   "metadata": {},
   "source": [
    "Definition.\n",
    "An $\\textbf{exterior algebra}$ generated by an $R$-module is the tensor algebra of $V$ modulo the ideal generated by $v\\otimes v$ for all $v\\in V$. The multiplication is denoted by $\\wedge$."
   ]
  },
  {
   "cell_type": "markdown",
   "metadata": {},
   "source": [
    "Remark.\n",
    "* If $V$ is of finite rank, the exterior algebra is also of finite rank as an $R$-module.\n",
    "* The exterior algebra is a direct sum, $\\bigoplus_{i=0}^n T_iV$. It's a graded algebra with a degree function.\n",
    "* The exterior algebra contains $R$ as $T_0V$."
   ]
  },
  {
   "cell_type": "markdown",
   "metadata": {},
   "source": [
    "Defintion. Let $M$ be a differentiable manifold. Let $R$ be the ring of differentiable functions on $M$.\n",
    "* The exterior algebra generated by the $R$-module $\\Gamma(T^*M)$ is called the $\\textbf{exterior algebra of differential forms}$ over $M$, denoted $\\Omega^*M$.\n",
    "* Each element of $\\Omega^*M$ is called a $\\textbf{differential form}$. The $R$-module of degree $p$ elements is denoted $\\Omega^pM$. Each element of $\\Omega^pM$ is called a $\\textbf{differential}$ $p$-$\\textbf{form}$."
   ]
  },
  {
   "cell_type": "markdown",
   "metadata": {},
   "source": [
    "Definition.\n",
    "* The $\\textbf{exterior derivative}$ $D$ is a $\\mathbb{R}$-linear function $D:\\Omega^*M\\to\\Omega^*M$ such that $Df=df$ for $f\\in\\Omega^0M$ and $D\\circ D=0$ and $D(\\alpha\\wedge\\beta)=D(\\alpha)\\wedge\\beta+(-1)^p\\alpha\\wedge D(\\beta)$ for a differential $p$-form $\\alpha$."
   ]
  }
 ],
 "metadata": {
  "kernelspec": {
   "display_name": "Python 3",
   "language": "python",
   "name": "python3"
  },
  "language_info": {
   "codemirror_mode": {
    "name": "ipython",
    "version": 3
   },
   "file_extension": ".py",
   "mimetype": "text/x-python",
   "name": "python",
   "nbconvert_exporter": "python",
   "pygments_lexer": "ipython3",
   "version": "3.6.1"
  }
 },
 "nbformat": 4,
 "nbformat_minor": 2
}
