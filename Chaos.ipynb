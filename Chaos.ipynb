{
 "cells": [
  {
   "cell_type": "markdown",
   "metadata": {},
   "source": [
    "### Driven, damped, harmonic oscillator\n",
    "\n",
    "$$\n",
    "\\dot{\\omega} = -\\kappa\\omega - \\sin\\theta + g\\cos\\phi\n",
    "$$\n",
    "where $\\theta$ is the oscillator angle, $\\omega$ is the angle speed, $\\phi$ is the phase of the driving force, and $\\kappa$ and $g$ are constants.\n",
    "\n",
    "We choose $\\kappa=.5$ and let the amplitude $g$ of the forcing function play the role of what is called a *control parameter*. Such a parameter is an index that delineates region of normal and chaotic behavior. We show $\\omega$-$\\theta$ Poincaré section for the control parameter $g=1.15$.\n",
    "\n",
    "If we examine how the frequency of oscillation, $\\omega$, depends upon this forcing function amplitude $g$ for a fixed choice of phase, $\\phi$, we find that the system undergoes a number of *bifurcations* in the measured frequency of the oscillator."
   ]
  },
  {
   "cell_type": "markdown",
   "metadata": {},
   "source": [
    "### The logistic equation\n",
    "\n",
    "$$\n",
    "x_{n+1} = ax_n(1-x_n)\n",
    "$$\n",
    "where $a\\ge1$ is the control parameter, with the variable $x$ is restricted to the domain $0\\le x\\le1$. Successive iterations of this equation are expected to bring $x_{n+1}$ closer and closer to a limiting value, $x_\\infty$, so that further iterations produce no additional change in $x_n$."
   ]
  }
 ],
 "metadata": {
  "kernelspec": {
   "display_name": "Python 3",
   "language": "python",
   "name": "python3"
  },
  "language_info": {
   "codemirror_mode": {
    "name": "ipython",
    "version": 3
   },
   "file_extension": ".py",
   "mimetype": "text/x-python",
   "name": "python",
   "nbconvert_exporter": "python",
   "pygments_lexer": "ipython3",
   "version": "3.6.5"
  }
 },
 "nbformat": 4,
 "nbformat_minor": 2
}
