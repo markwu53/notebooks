{
 "cells": [
  {
   "cell_type": "code",
   "execution_count": 2,
   "metadata": {},
   "outputs": [
    {
     "data": {
      "text/html": [
       "<style>.container { width:50% !important; }</style>"
      ],
      "text/plain": [
       "<IPython.core.display.HTML object>"
      ]
     },
     "metadata": {},
     "output_type": "display_data"
    }
   ],
   "source": [
    "from IPython.core.display import display, HTML\n",
    "display(HTML(\"<style>.container { width:50% !important; }</style>\"))"
   ]
  },
  {
   "cell_type": "markdown",
   "metadata": {},
   "source": [
    "Given a field over an integral domain $L/R$, an element $\\alpha$ in $L$ is said to be *integral* over $R$ if there is a monic poliynomial in $R[x]$ such that $\\alpha$ is a root of it. The set of elements that are integral over $R$ is called the *integral closure* of $R$ in $L$. If the integral closure of $R$ is itself, then it's *integrally closed* in $L$. If $L$ is the field of fraction of $R$, then $R$ is called *integrally closed* domain.\n",
    "\n",
    "Consider\n",
    "$$\n",
    "\\mathbb{Z}\\subseteq\\mathbb{Z}[\\sqrt{3}]\\subseteq\\mathbb{Q}[\\sqrt{3}]=\\mathbb{Q}(\\sqrt{3})\n",
    "$$\n",
    "We want to prove that,\n",
    "* The integral closure of $\\mathbb{Z}$ is equal to the integeral closure of $\\mathbb{Z}[\\sqrt{3}]$ in $\\mathbb{Q}(\\sqrt{3})$.\n",
    "* The integral closure of $\\mathbb{Z}$ in $\\mathbb{Q}(\\sqrt{3})$ is $\\mathbb{Z}[\\sqrt{3}]$.\n",
    "\n",
    "Therefore, the integral closure of $\\mathbb{Z}[\\sqrt{3}]$ in $\\mathbb{Q}(\\sqrt{3})$ is itself, and it's integrally closed (since $\\mathbb{Q}(\\sqrt{3})$ is the field of fraction of $\\mathbb{Z}[\\sqrt{3}]$)."
   ]
  },
  {
   "cell_type": "markdown",
   "metadata": {},
   "source": [
    "The first one is easy to prove. Suppose an element $\\alpha$ is integral over $\\mathbb{Z}[\\sqrt{3}]$. Then there is a monic polynomial in $\\mathbb{Z}[\\sqrt{3}][x]$. Write each coefficient in $a+b\\sqrt{3}$ form. Group by $\\sqrt{3}$ terms. Separate and square two groups. Then we obtain a monic polynomial in $\\mathbb{Z}[x]$ that $\\alpha$ must satisfy. So $\\alpha$ must be integral over $\\mathbb{Z}$."
   ]
  },
  {
   "cell_type": "markdown",
   "metadata": {},
   "source": [
    "Let's try to prove the second one:\n",
    "The integral closure of $\\mathbb{Z}$ in $\\mathbb{Q}(\\sqrt{3})$ is $\\mathbb{Z}[\\sqrt{3}]$.\n",
    "\n",
    "Let \n",
    "$$\\alpha=\\frac{a}{b}+\\frac{c}{d}\\sqrt{3}$$ \n",
    "be an element in $\\mathbb{Q}(\\sqrt{3})$ where $a, b, c, d\\in\\mathbb{Z}$, $a,b$ are coprime and $c,d$ are coprime. Suppose $\\alpha$ is integral over $\\mathbb{Z}$. So there is a monic polynomial $r(x)$ in $\\mathbb{Z}[x]$ such that $r(\\alpha)=0$. Let $r(x)$ denote the least degree of such polynomials. It's easy to see that the degree must be greater or equal to $2$.\n",
    "\n",
    "On the other hand, $\\alpha$ satisfies a degree $2$ monic polynomial $q(x)$ in $\\mathbb{Q}[x]$:\n",
    "$$\n",
    "q(x)=x^2+\\frac{-2a}{b}x+(\\frac{a^2}{b^2}-\\frac{3c^2}{d^2})\n",
    "$$\n"
   ]
  },
  {
   "cell_type": "markdown",
   "metadata": {
    "collapsed": true
   },
   "source": [
    "A polynomial in $\\mathbb{Z}[x]$ is called *primitive* if the greatest common divisor of the coefficients is $1$.\n",
    "\n",
    "Gauss Lemma (primitivity). If $r_1$, $r_2$ be two primitive polynomials in $\\mathbb{Z}[x]$, then $r_1*r_2$ is also primitive.\n",
    "\n",
    "Proof. We will prove the contrapositive statement: if $r_1*r_2$ is not primitive then at least one of $r_1$ and $r_2$ is not primitive. Suppose $r_1*r_2$ has a prime divisor $p$ for all coefficients. Let\n",
    "$$r_1(x)=a_0+a_1x+a_2x^2+\\cdots+a_mx^m$$\n",
    "$$r_2(x)=b_0+b_1x+b_2x^2+\\cdots+b_nx^n$$\n",
    "\n",
    "Write coefficients of all terms in $r_1*r_2$ in a matrix. This will be a $m\\times n$ matrix. The $(i,j)$ entry of this matrix is $a_ib_j$. The $x^k$ term in $r_1*r_2$ has coefficient $$\\sum_{i+j=k} a_ib_j$$, that is, the sum of the all entries in the line $i+j=k$. By assumption, this sum has a divsor of $p$. We will show that all entries in this matrix have a divisor of $p$. This is a quite supprising result. But working out a few level lines from the cornor $(0,0)$, this fact becomes apparent. We will use induction to prove this fact.\n",
    "\n",
    "Suppose all entries such that $i+j\\le k$ have divisor of $p$. We claim that there is at most one entry in the line $i+j=k+1$ may not have divisor of $p$. We prove this by contradiction. Suppose there are two entries in the line $i+j=k+1$ that don't have divisor $p$. Suppose they are $(i_1,j_1)$ and $(i_2,j_2)$ entries. Suppose $i_1<i_2$ and $j_2<j_1$. Consider the $(i_1,j_2)$ entry. From assumption this entry cannot have divisor $p$. But from the induction assumption, this entry has divisor $p$. Contradiction.\n",
    "\n",
    "Lastly, we show that either the sequence $(a_0, a_1, \\cdots, a_m)$ or the sequence $(b_0, b_1, \\cdots, b_n)$ has a common divisor $p$. Suppose not. Then at least one entry from each sequence does not have divisor $p$. Say, it's $a_i$ and $b_j$. Then the entry $(i,j)$ in the matrix will not have divisor $p$. Contradiction. ///\n"
   ]
  },
  {
   "cell_type": "markdown",
   "metadata": {},
   "source": [
    "We want to show that the $r(x)=q(x)$. So that $q(x)$ is actually in $\\mathbb{Z}[x]$. If $r(x)$ has degree $2$, then it's easy to see that $r(x)=q(x)$. If $r(x)$ has degree greater than $2$, then $r(x)=q(x)g(x)$ for some $g(x)$ in $\\mathbb{Q}[x]$. The leading coefficient of $g(x)$ is $1$. If either $q(x)$ or $g(x)$ does not belong to $\\mathbb{Z}[x]$ then we can choose an integer for each polynomial ($m_q, m_g$) such that $m_qq(x)m_gg(x)$ is in $\\mathbb{Z}[x]$ and primitive. But on the other hand, $m_qm_gr(x)$ is not primitive any more. This is a contradiction to Gauss Lemma."
   ]
  },
  {
   "cell_type": "markdown",
   "metadata": {},
   "source": [
    "Therefore, $q(x)$ is in $\\mathbb{Z}[x]$. So\n",
    "$$\n",
    "\\frac{2a}{b}, \\frac{a^2}{b^2}-\\frac{3c^2}{d^2}\n",
    "$$\n",
    "are both integers. $2a/b$ is integer, so $b=1$ or $b=2$. The case $b=1$ implies $d=1$ also, therefore $\\alpha$ is in $\\mathbb{Z}[\\sqrt{3}]$. For the case $b=2$, we can argue that it cannot happen. Overall, it shows that if $\\alpha$ is integral over $\\mathbb{Z}$ in $\\mathbb{Q}(\\sqrt{3})$ then it must be in $\\mathbb{Z}[\\sqrt{3}]$. Therefore, the integral closure of $\\mathbb{Z}$ in $\\mathbb{Q}[\\sqrt{3}]$ is $\\mathbb{Z}[\\sqrt{3}]$."
   ]
  }
 ],
 "metadata": {
  "kernelspec": {
   "display_name": "Python 3",
   "language": "python",
   "name": "python3"
  },
  "language_info": {
   "codemirror_mode": {
    "name": "ipython",
    "version": 3
   },
   "file_extension": ".py",
   "mimetype": "text/x-python",
   "name": "python",
   "nbconvert_exporter": "python",
   "pygments_lexer": "ipython3",
   "version": "3.6.1"
  }
 },
 "nbformat": 4,
 "nbformat_minor": 2
}
