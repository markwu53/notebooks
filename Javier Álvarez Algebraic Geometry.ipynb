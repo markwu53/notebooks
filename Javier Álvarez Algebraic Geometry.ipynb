{
 "cells": [
  {
   "cell_type": "markdown",
   "metadata": {},
   "source": [
    "Now, Algebraic Geometry is one of the oldest, deepest, broadest and most active subjects in Mathematics with connections to almost all other branches in either a very direct or subtle way. The main motivation started with Pierre de Fermat and René Descartes who realized that to study geometry one could work with algebraic equations instead of drawings and pictures (which is now fundamental to work with higher dimensional objects, since intuition fails there). The most basic equations one could imagine to start studying were polynomials on the coordinates of your plane or space, or in a number field in general, as they are the most basic constructions from the elementary arithmetic operations. Equations of first order, i.e. linear polynomials, are the straight lines, planes, linear subspaces and hyperplanes. Equations of second order turned out to comprise all the classical conic sections; in fact the conics classification in the affine, Euclidean and projective cases (over the real and complex numbers) is the first actual algebraic geometry problem that every student is introduced to: the classification of all possible canonical forms of polynomials of degree 2 (either under affine transformations or isometries in variables (x,y), or projective transformations in homogeneous variables [x:y:z]). Thus the basic plane curves over the real numbers can be studied by the algebraic properties of polynomials. Working over the complex numbers is actually more natural, as it is the algebraic closure of the reals and so it simplifies a lot the study tying together the whole subject, thanks to elementary things like the fundamental theorem of algebra and the Hilbert Nullstellensatz. Besides, working within projective varieties, enlarging our ambient space with the points at infinity, also helps since then we are dealing with topologically compact objects and pathological results disappear, e.g. all curves intersect at least at a point, giving the beautiful Bézout's theorem."
   ]
  },
  {
   "cell_type": "markdown",
   "metadata": {},
   "source": [
    "From a purely practical point of view, one has to realize that all other analytic non-polynomial functions can be approximated by polynomials (e.g. by truncating the series), which is actually what calculators and computers do when computing trigonometric functions for example. So when any software plots a transcendental surface (or manifold), it is actually displaying a polynomial approximation (an algebraic variety). So the study of algebraic geometry in the applied and computational sense is fundamental for the rest of geometry."
   ]
  },
  {
   "cell_type": "markdown",
   "metadata": {},
   "source": [
    "From a pure mathematics perspective, the case of projective complex algebraic geometry is of central importance. This is because of several results, like $\\textbf{Lefschetz's principle}$ by which doing (algebraic) geometry over an algebraically closed field of characteristic 0 is essentially equivalent to doing it over the complex numbers; furthermore, $\\textbf{Chow's theorem}$ guarantees that all projective complex manifolds are actually algebraic, meaning that differential geometry deals with the same objects as algebraic geometry in that case, i.e. complex projective manifolds are given by the zero locus of a finite number of homogeneous polynomials! This was strengthened by Jean-Pierre Serre's $\\textbf{GAGA theorems}$, which unified and equated the study of analytic geometry with algebraic geometry in a very general setting."
   ]
  },
  {
   "cell_type": "markdown",
   "metadata": {},
   "source": [
    "Besides, in the case of projective complex algebraic curves one is actually working with compact orientable real surfaces (since these always admit a holomorphic structure), therefore unifying the theory of compact Riemann surfaces of complex analysis with the differential geometry of real surfaces, the algebraic topology of 2-manifolds and the algebraic geometry of algebraic curves! Here one finds wonderful relations and deep results like all the consequences of the concept of degree, index and curvature, linking together the milestone theorems of $\\textbf{Gauß-Bonnet}$, $\\textbf{Poincaré-Hopf}$ and $\\textbf{Riemann-Roch}$ theorem! In fact the principal classification of algebraic curves is given in terms of their genus which is an invariant proved to be the same in the different perspectives: the topological genus of number of doughnut holes, the arithmetic genus of the Hilbert polynomial of the algebraic curve and the geometric genus as the number of independent holomorphic differential 2-forms over the Riemann surface. "
   ]
  },
  {
   "cell_type": "markdown",
   "metadata": {},
   "source": [
    "Analogously, the study of real 4-manifolds in differential geometry and differential topology is of central importance in mathematics per se but also in theoretical and mathematical physics, for example in gauge theory, so the study of complex algebraic surfaces gives results and provides tools. The full birational classification of algebraic surfaces was worked out decades ago in the $\\textbf{Kodaira-Enriques theorem}$ and served as a starting point to $\\textbf{Mori's minimal model program}$ to birationally classify all higher-dimensional (projective) complex algebraic varieties. A fundamental difference with other types of geometry is the presence of singularities, which play a very important role in algebraic geometry as many of the obstacles are due to them, but the fundamental $\\textbf{Hironaka's resolution theorem}$ guarantees that, at least in characteristic zero, varieties always have a smooth birational model."
   ]
  },
  {
   "cell_type": "markdown",
   "metadata": {},
   "source": [
    "Also the construction and study of moduli spaces of types of geometric objects is a very important topic (e.g. $\\textbf{Deligne-Mumford construction}$), since the space of all such objects is often an algebraic-geometric object itself. There are also many interesting problems and results in $\\textbf{enumerative geometry}$ and $\\textbf{intersection theory}$, starting from the classic and amazing $\\textbf{Cayley-Salmon theorem}$ that all smooth cubic surfaces defined over an algebraic closed field contain exactly 27 straight lines, the $\\textbf{Thom-Porteus formula}$ for degeneracy loci, $\\textbf{Schubert calculus}$ up to modern quantum cohomology with $\\textbf{Kontsevich's and ELSV formulas}$; $\\textbf{Torelli's theorem}$ on the reconstruction of algebraic curves from their $\\textbf{Jacobian variety}$, and finally the cornerstone $\\textbf{(Grothendieck)-Hirzebruch-Riemann-Roch theorem}$ computing the number of independent global sections of vector bundles, actually their Euler-Poincaré characteristics, by the intersection numbers of generic zero loci of characteristic classes over the variety."
   ]
  },
  {
   "cell_type": "markdown",
   "metadata": {},
   "source": [
    "Besides all this, since the foundational immense work of Alexandre Grothendieck, the subject has got very solid and abstract foundations so powerful to fuse algebraic geometry with number theory, as many were hoping before. Thus, the abstract algebraic geometry of sheaves and schemes plays nowadays a fundamental role in algebraic number theory disguised as arithmetic geometry. Wondeful results in Diophantine geometry like Faltings theorem and Mordell-Weil theorem made use of all these advances, along with the famous proof of Wiles of Fermat's last theorem. The development of abstract algebraic geometry was more or less motivated to solve the remarkable Weil conjectures relating the number of solutions of polynomials over finite number fields to the geometry of the complex variety defined by the same polynomials. For this, tremendous machinery was worked out, like étale cohomology. Also, trying to apply complex geometry constructions to arithmetic has led to Arakelov geometry and the arithmetic Grothendieck-Riemann-Roch among other results."
   ]
  },
  {
   "cell_type": "markdown",
   "metadata": {},
   "source": [
    "Related to arithmetic geometry, thanks to schemes, there has emerged a new subject of arithmetic topology, where properties of the prime numbers and algebraic number theory have relationships and dualities with the theory of knots, links and 3-dimensional manifolds! This is a very mysterious and interesting new topic, since knots and links also appear in theoretical physics (e.g. topological quantum field theories). Also, anabelian geometry interestingly has led the way to studies on the relationships between the topological fundamental group of algebraic varieties and the Galois groups of arithmetic number field extensions."
   ]
  },
  {
   "cell_type": "markdown",
   "metadata": {},
   "source": [
    "So, mathematicians study algebraic geometry because it is at the core of many subjects, serving as a bridge between seemingly different disciplines: from geometry and topology to complex analysis and number theory. Since in the end, any mathematical subject works within specified algebras, studying the geometry those algebras define is a useful tool and interesting endeavor in itself. In fact, the requirement of being commutative algebras has been dropped since the work of Alain Connes and the whole 'new' subject of noncommmutative geometry has flourished, in analytic and algebraic styles, to try to complete the geometrization of mathematics. On the other hand it attempts to give a quantum counterpart to classical geometries, something of extreme interest in fundamental physics (complex algebraic geometry and noncommutative geometry appear almost necessarily in one way or another in any attempt to unify the fundamental forces with gravity, i.e. quantum field theory with general relativity; even abstract and categorical algebraic geometry play a role in topics like homological mirror symmetry and quantum cohomology, which originated in physics)."
   ]
  },
  {
   "cell_type": "markdown",
   "metadata": {},
   "source": [
    "Therefore, the kind of problems mathematicians try to solve in algebraic geometry are related to much of everything else, mostly: anything related to the classification (as fine as possible) of algebraic varieties (and schemes, maybe someday), their invariants, singularities, deformations and moduli spaces, intersections, their topology and differential geometry, and framing arithmetic problems in terms of geometry. There are many interesting open problems:"
   ]
  },
  {
   "cell_type": "markdown",
   "metadata": {},
   "source": [
    "* Birational minimal model program for all varieties,\n",
    "* Hodge conjecture,\n",
    "* Jacobian conjecture,\n",
    "* Hartshorne's conjecture,\n",
    "* General Griffiths conjecture,\n",
    "* Fujita's conjecture,\n",
    "* Linearization and cancelation conjectures,\n",
    "* Coolidge-Nagata conjecture,\n",
    "* Resolution of singularities in nonzero characteristic,\n",
    "* Grothendieck's standard conjectures on algebraic cycles,\n",
    "* Grothendieck's anabelian section conjecture,\n",
    "* Classification of vector bundles over projective spaces,\n",
    "* Unirationality of moduli spaces of curves,\n",
    "* Unirationality of rationally connected varieties,\n",
    "* Full rigorous formalization of mirror symmetry and quantum cohomology,\n",
    "* Full theory of a universal cohomology and mixed motives (e.g. Voevodsky vanishing conjecture)."
   ]
  }
 ],
 "metadata": {
  "kernelspec": {
   "display_name": "Python 3",
   "language": "python",
   "name": "python3"
  },
  "language_info": {
   "codemirror_mode": {
    "name": "ipython",
    "version": 3
   },
   "file_extension": ".py",
   "mimetype": "text/x-python",
   "name": "python",
   "nbconvert_exporter": "python",
   "pygments_lexer": "ipython3",
   "version": "3.6.1"
  }
 },
 "nbformat": 4,
 "nbformat_minor": 2
}
