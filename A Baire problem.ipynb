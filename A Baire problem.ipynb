{
 "cells": [
  {
   "cell_type": "markdown",
   "metadata": {},
   "source": [
    "Statement.\n",
    "Let $f:[0,\\infty)\\to\\mathbb{R}$ be a continuous function. If the sequence $f(na), n\\in\\mathbb{N}$ goes to $0$ as $n\\to\\infty$ for any $a\\in(0,\\infty)$, then $f(x)\\to 0$ as $x\\to\\infty$."
   ]
  },
  {
   "cell_type": "markdown",
   "metadata": {},
   "source": [
    "Proof.\n",
    "\n",
    "Consider the set $D$ of positive $2$-adic numbers. For a $k\\in\\mathbb{N}$, let $D_k\\subseteq D$ be subset of elements that are multiple of $2^{-k}$. We have $D_1\\subseteq D_2\\subseteq \\cdots$, and $\\cup_k D_k=D$. For a number $x\\in D$, if $x\\in D_k$ and $x\\notin D_{k-1}$ then we say $x$ is of $2$-adic degree $k$.\n",
    "\n",
    "Claim. If the statement is not true, then there exists an $\\epsilon>0$ and a sequence $\\{d_n\\}\\subseteq D$ such that the sequence is increasing to infinity in value, and increasing in $2$-adic degree, and $f(d_n)>\\epsilon$ for all $n$."
   ]
  }
 ],
 "metadata": {
  "kernelspec": {
   "display_name": "Python 3",
   "language": "python",
   "name": "python3"
  },
  "language_info": {
   "codemirror_mode": {
    "name": "ipython",
    "version": 3
   },
   "file_extension": ".py",
   "mimetype": "text/x-python",
   "name": "python",
   "nbconvert_exporter": "python",
   "pygments_lexer": "ipython3",
   "version": "3.6.1"
  }
 },
 "nbformat": 4,
 "nbformat_minor": 2
}
