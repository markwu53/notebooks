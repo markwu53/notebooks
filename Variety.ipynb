{
 "cells": [
  {
   "cell_type": "markdown",
   "metadata": {},
   "source": [
    "Hilbert Basis Theorem. If $R$ be a ring. If $R$ is noetherian then $R[x]$ is also noetherian. Or if every ideal in $R$ is finitely generated then every ideal in $R[x]$ is also finitely generated."
   ]
  },
  {
   "cell_type": "markdown",
   "metadata": {},
   "source": [
    "Recall that we have: If $R$ is a unique factorization domain, then $R[x]$ is also an unique factorization domain."
   ]
  },
  {
   "cell_type": "markdown",
   "metadata": {},
   "source": [
    "Let $X$ be a set. Define $P$ to be the operation of taking power set, that is $P(X)$ is the power set of $X$ (the set of subsets of $X$)."
   ]
  },
  {
   "cell_type": "markdown",
   "metadata": {},
   "source": [
    "Let $X,Y,Z$ be sets. Let $B:X\\times Y\\to Z$ be a function. For $x$ in $X$, let $B_X(x)$ be a function from $Y$ to $Z$ such that $B_X(x)(y)=B(x,y)$ for any $y$ in $Y$. Similarly define $B_Y$."
   ]
  },
  {
   "cell_type": "markdown",
   "metadata": {},
   "source": [
    "Fix a subset $Z_0$ in $P(Z)$. Define a function $V_X:X\\to P(Y)$ such that $V_X(x)$ is the inverse image of $Z_0$ under the mapping $B_X(x)$. Define a function $V_B:P(X)\\to P(Y)$ such that $V_B(S)=\\cap_{x\\in S}V_X(x)$. Similarly we can define $U_B:P(Y)\\to P(X)$. We abbreviate the two operations to be $V$ and $U$."
   ]
  },
  {
   "cell_type": "markdown",
   "metadata": {},
   "source": [
    "Let $k$ be an algebraiclly closed field. Let $k[x]$ be the polynomial ring of $n$ variables where $x=(x_1,x_2,\\cdots\\,x_n)$. Evaluation operation $E$ is a function $E:k[x]\\times k^n\\to k$. Following the development in the previous paragraph, letting $Z_0=\\{0\\}$ be the subset in $k$, we can define $V:P(k[x])\\to P(k^n)$ and $U:P(k^n)\\to P(k[x])$."
   ]
  },
  {
   "cell_type": "markdown",
   "metadata": {},
   "source": [
    "Let $R$ be an integral domain. Let $I$ be an ideal. Define the radical closure of $I$, denoted $R(I)$, to be all elements $a$ in $R$ such that $a^r$ in $I$ for some natural number $r$. It's easy to see that $R(I)$ is an ideal, $I\\subseteq R(I)$, and $R(R(I))=R(I)$. If $I=R(I)$ then we say $I$ is radically closed, or $I$ is a radical ideal, or in short, a radical."
   ]
  },
  {
   "cell_type": "markdown",
   "metadata": {},
   "source": [
    "There are the following facts regarding $U,V$ and $R$:\n",
    "* $U(S)$ is an ideal, in fact, a radical, for any subset $S$ in $k^n$.\n",
    "* $V(I)=V(R(I))$\n",
    "* $R(I)\\subseteq U(V(I))$, or $UV\\ge R\\ge 1$."
   ]
  },
  {
   "cell_type": "markdown",
   "metadata": {},
   "source": [
    "Hilbert Nullstellensatz. $U(V(I))=R(I)$. Or $UV=R$."
   ]
  },
  {
   "cell_type": "markdown",
   "metadata": {},
   "source": [
    "Let $R$ be a ring. $R[x,y]=R[x][y]=R[y][x]$. The evaluation map $E_{x_0}:R[x]\\to R$ such that $f\\mapsto f(x_0)$ is a ring homormorphism. Evaluation map is a surjection. "
   ]
  },
  {
   "cell_type": "markdown",
   "metadata": {},
   "source": [
    "Let $\\phi:R\\to S$ be a ring homomorphism. The inverse image of an ideal is an ideal. The inverse image of a prime ideal is a prime ideal. The inverse image of a radical is a radical. The image of an ideal is an ideal. The image of a prime ideal is not necessarily a prime ideal. The image of a radical is not necessarily a radical."
   ]
  },
  {
   "cell_type": "markdown",
   "metadata": {},
   "source": [
    "A prime ideal is a radical. In particular, a maximal ideal is a radical. Intersection of two radical ideals is radical. If two ideals $I\\subseteq J$, then $R(I)\\subseteq R(J)$. Nilradical is the radical closure of the zero ideal. Elements in a nilradical are called nilpotents."
   ]
  },
  {
   "cell_type": "markdown",
   "metadata": {},
   "source": [
    "Nilradical is the intersection of all prime ideals. \n",
    "\n",
    "Proof. Suppose $a$ is not a nilpotent in the ring $R$. Then the set $S=\\{1,a,a^2,a^3,\\cdots\\}$ is a multiplicative set. Consider the canonical homomorphism from the ring $R$ to the fraction ring $S^{-1}R$ that sends $r\\mapsto r/1$. The image of $S$ under this homomorphism are all units in $S^{-1}R$. Take a maximal ideal in $S^{-1}R$. It is also a prime ideal. The inverse image of this maximal ideal, which is a prime ideal in $R$, cannot contain elements in $S$. So we found a prime ideal in $R$ that does not contain $a$.///"
   ]
  },
  {
   "cell_type": "markdown",
   "metadata": {},
   "source": [
    "A ring is an integral domain if and only if zero is a prime ideal. Therefore, nilradical is zero in an integral domain, or the only nilpotent element in an integral domain is zero. A nilpotent is always a zero divisor, but not vice versa. In $\\mathbb{Z}_6$, $2,3,4$ are all zero divisors, but only $0$ is nilpotent. In $\\mathbb{Z}_6$ the nilradical is zero. Jacobson radical is defined to be the intersection of all maximal ideals. So it contains the nilradical. In $\\mathbb{Z}_6$, there are two maximal ideals: $\\{0,2,4\\}$ and $\\{0,3\\}$. So the Jacobson radical is zero. A ring modulo the nilradical or the Jacobson radical does not necessarily give an integral domain. The set of zero divisor is not a nilradical nor a Jacobson radical, actually it does not form an ideal."
   ]
  },
  {
   "cell_type": "markdown",
   "metadata": {},
   "source": [
    "Let $R$ be a ring. Consider $R$ as an $R$-module. An ideal is an $R$-submodule. Let $I,J$ be two ideals. Then $I+J$ is defined to be the direct sum of submodules, and $IJ$ is defined to be the tensor product of submodules. Let $a,b$ be two elements of $R$, then $(a,b)$, the ideal generated by $a$ and $b$ is $(a)+(b)$."
   ]
  },
  {
   "cell_type": "markdown",
   "metadata": {},
   "source": [
    "Let $R$ be a unique factorization domain. Let $a=p_1p_2\\cdots p_n$. Then $(a)=(p_1)(p_2)\\cdots(p_n)$. Suppose $R$ is noetherian, that is, every ideal is finitely generated. Then an ideal \n",
    "$$I=(r_1,r_2,\\cdots,r_n)\n",
    "=(r_1)+(r_2)+\\cdots+(r_n)\n",
    "=(p_{11})(p_{12})\\cdots(p_{1m_1})\n",
    "+(p_{21})(p_{22})\\cdots(p_{2m_2})\n",
    "+\\cdots$$\n",
    "$$\n",
    "=\\sum\\prod (p_{ij})\n",
    "$$\n",
    "where each $p_{ij}$ is an irreducible element so each $(p_{ij})$ is a prime ideal. If $I$ is a radical ideal, then the generators can be chosen such that there is no repeated factors."
   ]
  },
  {
   "cell_type": "markdown",
   "metadata": {},
   "source": [
    "Lemma. Let $F[x_1,x_2,\\cdots,x_n]$ be the polynomial ring of $n$ variables with $F$ a field. Let $I$ be a proper radical ideal. Let $p$ be a polynomial that is not contained in $I$. Then there exist a variable $x_i$ and a number $k$ in $F$ such that under the evaluation map $x_i=k$, the image of $p$ is not contained in the radical closure of the image of $I$.\n",
    "\n",
    "Proof. Suppose $I$ has a set of generators $(g_1,g_2,\\cdots,g_m)$ such that each $g_i$ can be uniquely factored into irreducibles without repeated factors. This can be achieved since $F[x_1,x_2,\\cdots,x_n]$ is noetherian and is a unique factorization domain and $I$ is a radical."
   ]
  },
  {
   "cell_type": "markdown",
   "metadata": {},
   "source": [
    "A simple case. Suppose $r(x,y)$ is an irreducible element in $k[x,y]$, and $p(x,y)$ does not have $r(x,y)$ as a factor. Then there is an $\\alpha\\in k$ such that either $p(\\alpha,y)$ does not have factor $r(\\alpha,y)$ or $p(x,\\alpha)$ does not have factor $r(x,\\alpha)$."
   ]
  },
  {
   "cell_type": "markdown",
   "metadata": {},
   "source": [
    "Corollary. If $I$ is a radical ideal in a polynomial ring $k[x_1,x_2,\\cdots,x_n]$, and $p$ is an element not in $I$, then there is a point in $V(I)$ which is not a zero of $p$. \n",
    "\n",
    "Proof. By the previous lemma, we can pick a sequence of evaluation $x_i=\\alpha_i$, each of which maps $I$ and $p$ into one less variable, and in each step the image of $p$ is outside of the radical closure of the image of $I$. In the last step, the radical closure of the image of $I$ is a principal ideal generated by a single one variable polynomial $f=r_1r_2,\\cdots$ with $r_i$ irreducibles in $k[x]$, and the image of $p$ is not in this ideal, so there is one factor, say $r_1$, is not a factor of the image of $p$. Since $k$ is algebraically closed, $r_1$ has a zero. But $p$ does not have this zero. By adjoining back each $\\alpha_i$ in the evalution sequence, this shows that there is a zero of $I$ that is not a zeor of $p$.///"
   ]
  },
  {
   "cell_type": "markdown",
   "metadata": {},
   "source": [
    "If $I$ is a proper ideal of $n$-variable $k[x_1,x_2,\\cdots,x_n]$ with $k$ an algebraically closed field, then $V(I)$ is nonempty.\n",
    "\n",
    "Proof. It suffices to prove for $I$ a radical ideal. Let's use induction. For $n=1$, $k[x]$ is a principle ideal domain. An ideal $I=(a)$ with a polynomial $a$ of degree greater or equal to $1$. Since $k$ is algebraically closed, $a$ has zeros, so $V(I)$ is nonempty.\n",
    "\n",
    "Suppose the statement is true for $n$. We are going to prove it for $n+1$. So suppose $I$ is a proper radical ideal in $n+1$ variable polynomial ring. By the previous lemma, there exists an $x_i, 1\\le i\\le n+1$, and a value $\\alpha\\in k$ such that under the evaluation map $\\phi$ defined by $x_i=\\alpha$, $\\phi(1)$ is not in $R(\\phi(I))$. So $R(\\phi(I))$ is a proper ideal in the $n$-variable polynomial ring, so $V(R(\\phi(I)))=V(\\phi(I))$ is nonempty. Any point in $V(\\phi(I))$ adjoint with $x_i=\\alpha$ is a zero point for $I$.///"
   ]
  },
  {
   "cell_type": "markdown",
   "metadata": {},
   "source": [
    "Hilbert Nullstellensatz. $U(V(I))=R(I)$. Or $UV=R$.\n",
    "\n",
    "Proof. We've already seen that $V(I)=V(R(I))$ and $R(I)\\subseteq U(V(I))$. Suppose $U(V(I))\\neq R(I)$. Then there is an element $p\\in U(V(I))$ and $p\\notin R(I)$. By the corollary of the lemma, there is a zeor of $I$ that is not a zero of $p$. This is a contradiction.///"
   ]
  },
  {
   "cell_type": "markdown",
   "metadata": {},
   "source": [
    "Corollary. Radical ideals and algebraic sets are in one to one correspondence."
   ]
  },
  {
   "cell_type": "markdown",
   "metadata": {},
   "source": [
    "Let $R$ be an integral domain. Let $R[x]$ be the one variable polynomial ring. Let $p(x)$ be a polynomial in $R[x]$. If $p(x)=0$ at infinitely many distinct $a\\in R$, then $p=0$ in $R[x]$.\n",
    "\n",
    "Proof. Embed $R$ first into the field of fraction $Q$ then to the algebraic closure $F$. Let $p(x)\\neq0$ be a polynomial in $R[x]$ with degree $n$. The polynomial $p(x)$ viewed as an element of $F[x]$ has $n$ roots counting multiplicity. This shows that $p(x)$ as an element of $R[x]$ has at most $n$ roots, or there are at most $n$ points in $R$ can make $p(x)=0$. So there exists an $a$ in $R$ such that $p(x)\\neq0$. ///"
   ]
  },
  {
   "cell_type": "markdown",
   "metadata": {},
   "source": [
    "Corollary. Let $R$ be an integral domain with characteristic zero. An element $p$ in $R[x]$ is zero if and only if $p(a)=0$ for all $a\\in R$."
   ]
  },
  {
   "cell_type": "markdown",
   "metadata": {},
   "source": [
    "Let $R$ be a ring. Let $P_n=R[x_1,x_2,\\cdots,x_n]$ be the polynomial ring of $n$ variables. Given an index $1<le i\\le n$ and a value $r\\in R$, define the evaluation map \n",
    "$$\\Phi:P_n\\to P_{n-1}, p(x_1,\\cdots,x_i,\\cdots,x_n)\\mapsto p(x_1,\\cdots,r,\\cdots,x_n)$$\n",
    "This is a ring homomorphism. We call it a *section* at $x_i=r$. Furthermore, for a subset of indexes $x_{i_1},x_{i_2},\\cdots,x_{i_m}$ and a point $(r_1,r_2,\\cdots,r_m)\\in R^m$ with $m<=n$, the evalution of $p$ at $x_{i_1}=r_1,x_{i_2}=r_2,\\cdots,x_{i_m}=r_m$ is called a section. The section of an ideal can be defined similarly."
   ]
  },
  {
   "cell_type": "markdown",
   "metadata": {},
   "source": [
    "Let $R$ be an integral domain with infinitely many elements (as a special case $R$ has characteristic zero). Let $P_n=R[x_1,x_2,\\cdots,x_n]$ be the polynomial ring of $n$ variables. An element $p(x)$ in $P_n$ is zero if and only if $p(a)$ is zero for all $a$ in $R^n$.\n",
    "\n",
    "Proof. Let prove by induction. We have already proved the statement for $n=1$. Suppose the statement is true for $n$. Let's prove the statement for $n+1$. So suppose $p$ is an element in $P_{n+1}$ such that $p(a)=0$ for all $a$ in $R^{n+1}$. For an arbitrary $r$ in $R$, consider a section $\\bar{p}$ of $p$ at $x_{n+1}=r$. This is an element in $P_n$. By assumption it has $\\bar{p}(b)=0$ for all $b$ in $R^n$. So we have $\\bar{p}=0$ in $P_n$. This means the polynomial $p$ viewed as an element of $P_n[x_{n+1}]$ has infinitely many zeros (for all $r\\in R\\subseteq P_n$). Therefore by the previous proposition, $p=0$ in $P_n[x_{n+1}]=P_{n+1}$. ///"
   ]
  },
  {
   "cell_type": "markdown",
   "metadata": {},
   "source": [
    "Corollary. Let $R$ be an integral domain with characteristic zero. A polynomial is zero if and only if every section of it is zero."
   ]
  },
  {
   "cell_type": "markdown",
   "metadata": {},
   "source": [
    "Theorem. Let $R$ be an integral domain with characteristic zero. Let $P_n=R[x_1,x_2,\\cdots,x_n]$ be $n$ variable polynomial ring over $R$. Let $I$ be an ideal in $P_n$. Let $p$ be a polynomial in $P_n$. Then $p$ is in $I$ if and only if $p$ in $I$ for every section."
   ]
  },
  {
   "cell_type": "markdown",
   "metadata": {},
   "source": [
    "Let $F$ be an algebraically closed field. Let $P_n=F[x_1,x_2,\\cdots,x_n]$ be the polynomial ring over $F$. Let $I$ be a principal proper ideal in $P_n$. Then there is a section of $I$ that is proper. If $n\\ge2$, and if a polynomial is not a constant, then there is a section of it that is not a constant.\n",
    "\n",
    "Now suppose $I$ is not necessarily a principal ideal. We claim there is still a section of $I$ that is proper."
   ]
  },
  {
   "cell_type": "markdown",
   "metadata": {},
   "source": [
    "Let $F$ be an algebraically closed field. Let $F[x_1,x_2,\\cdots,x_n]$ be the polynomial ring with $n$ variables. Let $g_1,g_2,\\cdots,g_m$ be elements in $F[x_1,x_2,\\cdots,x_n]$.\n",
    "\n",
    "The following two are trivial statements:\n",
    "* If $g_1,g_2,\\cdots,g_m$ has a common root, then the ideal generated by $g_1,g_2,\\cdots,g_m$ is a proper ideal.\n",
    "* If the ideal generated by $g_1,g_2,\\cdots,g_m$ is not a proper ideal, then $g_1,g_2,\\cdots,g_m$ has no common root.\n",
    "\n",
    "The following statements are not trivial:\n",
    "* If the ideal generated by $g_1,g_2,\\cdots,g_m$ is a proper ideal, then $g_1,g_2,\\cdots,g_m$ has a common root.\n",
    "* If $g_1,g_2,\\cdots,g_m$ has no common root, then the ideal generated by $g_1,g_2,\\cdots,g_m$ is not a proper ideal."
   ]
  },
  {
   "cell_type": "markdown",
   "metadata": {},
   "source": [
    "Proof. Prove the second nontrivial statement by induction. For $n=1$, $F[x]$ is a principla ideal domain. So a proper ideal is generated by a single polynomial with degree nonzero. It has root since $F$ is an algebraically closed field.\n",
    "\n",
    "Now suppose the statement is true for $n-1$ variables. We want to show it's true for $n$ variable. Suppose $g_1,g_2,\\cdots,g_m$ have no common roots. Then evaluate these generators at $x_1=0$. They become $n-1$ variable polynomials with no common roots. By assumption, they generate an ideal which is not proper, which means they generate the whole $n-1$ variable polynomial ring, or the combination of them can produce $1$.\n",
    "\n",
    "Let's write them out. We denote $x=x_1$, and write these generator polynomials as:\n",
    "$$g_1=g_{10}+g_{11}x+g_{12}x^2+\\cdots$$\n",
    "$$g_2=g_{20}+g_{21}x+g_{22}x^2+\\cdots$$\n",
    "$$\\cdots$$\n",
    "$$g_m=g_{m0}+g_{m1}x+g_{m2}x^2+\\cdots$$\n",
    "where $g_{ij}$ are polynomials in $n-1$ variables, namely, $x_2,x_3,\\cdots,x_n$. Evaluating at $x=0$, we have $g_{10},g_{20},\\cdots,g_{m0}$ have no common roots, otherwise adjoining with $x=0$, $g_1,g_2,\\cdots,g_m$ would have common roots, and this contradicts the assumption. By assumption, there are $n-1$ variable polynomials $r_{10},r_{20},\\cdots,r_{m0}$ such that\n",
    "$$r_{10}g_{10}+r_{20}g_{20}+\\cdots+r_{m0}g_{m0}=1$$\n",
    "\n",
    "From this, we want to construct polynomials in $n$ variables\n",
    "$$r_1=r_{10}+r_{11}x+r_{12}x^2+\\cdots$$\n",
    "$$r_2=r_{20}+r_{21}x+r_{22}x^2+\\cdots$$\n",
    "$$\\cdots$$\n",
    "$$r_m=r_{m0}+r_{m1}x+r_{m2}x^2+\\cdots$$\n",
    "such that\n",
    "$$r_1g_1+r_2g_2+\\cdots+r_mg_m=1$$\n",
    "We already have constant terms in $x$, that is, $r_{10},r_{20},\\cdots,r_{m0}$. We need to figure out coefficients $r_{ij}$ for term in $x,x^2,\\cdots$.\n",
    "\n",
    "We write\n",
    "$$r_1g_1+r_2g_2+\\cdots+r_mg_m=\\sum_{k=0}a_kx^k$$\n",
    "where\n",
    "$$a_k=\\sum_{s+t=k}\\sum_{i=1}^mr_{is}g_{it}$$\n",
    "We already have $a_0=1$. We wish to have $a_k=0$ for all $k>0$.\n",
    "\n",
    "Setting $a_1=0$ we have\n",
    "$$a_1=\\sum_{i=1}^mr_{i0}g_{i1}+\\sum_{i=1}^mr_{i1}g_{i0}=0$$\n",
    "Because the combination of $g_{i0}$ can produce $1$, it can produce anything element in the $n-1$ variable polynomial ring, so the above equation can be satisfied with some $r_{i1}$.\n",
    "\n",
    "Setting $a_2=0$ we have\n",
    "$$a_2=\\sum_{i=1}^mr_{i0}g_{i2}+\\sum_{i=1}^mr_{i1}g_{i1}+\\sum_{i=1}^mr_{i2}g_{i0}=0$$\n",
    "The first two terms are known. By the same argument $r_{i2}$ can be solved.\n",
    "\n",
    "In this way we can solve $r_{ij}$ for any $j$, and there are only finitely many $a_k$. So we obtain the polynomials $r_1,r_2,\\cdots,r_m$.///\n"
   ]
  },
  {
   "cell_type": "markdown",
   "metadata": {},
   "source": [
    "Let $K(n)=F[x_1,x_2,\\cdots,x_n]$. Let $G=(g_1,g_2,\\cdots,g_m)$ be an element in $K(n)^m$. We write it as\n",
    "$$G=G_0+G_1x+G_2x^2+\\cdots$$\n",
    "where $x=x_1$ and $G_i=(g_{i1},g_{i2},\\cdots,g_{im})$ is an element in $K(n-1)^m$. Suppose $G$, as a collection of polynomials, has no common roots. We want to find an element $R=(r_1,r_2,\\cdots,r_m)$ in $K(n)^m$ such that\n",
    "$$RG:=r_1g_1+r_2g_2+\\cdots+r_mg_m=1$$\n",
    "Using the rule of polynomial multiplication, we have\n",
    "$$RG=R_0G_0+(R_1G_0+R_0G_1)x+(R_2G_0+R_1G_1+R_0G_2)x^2+\\cdots$$\n",
    "By induction assumption, we can find $R_0$ such that $R_0G_0=1$. We want to find $R_k$ such that\n",
    "$$R_1G_0+R_0G_1=0$$\n",
    "$$R_2G_0+R_1G_1+R_0G_2=0$$\n",
    "$$R_3G_0+R_2G_1+R_1G_2+R_0G_3=0$$\n",
    "$$\\cdots$$\n",
    "From equation $1$:\n",
    "$$R_1=-(R_0G_1)R_0$$\n",
    "From equation $2$:\n",
    "$$R_2=-(R_1G_1+R_0G_2)R_0=-(-(R_0G_1)R_0G_1+R_0G_2)R_0=-(-(R_0G_1)^2+R_0G_2)R_0$$\n",
    "From equation $3$:\n",
    "$$R_3=-(R_2G_1+R_1G_2+R_0G_3)R_0$$"
   ]
  },
  {
   "cell_type": "markdown",
   "metadata": {},
   "source": [
    "Resultant. Let $R$ be an integral domain. Let $R[x]$ be polynomial ring of a single variable. For a positive integer $n$, let $P_n$ be the $R$-submodule of $R[x]$ with degree strictly less than $n$. Let $A$ and $B$ be two polynomials in $R[x]$. Define a linear transformation \n",
    "$$\\phi:P_{\\textrm{deg}(B)}\\oplus P_{\\textrm{deg}(A)}\\to P_{\\textrm{deg}(A)+\\textrm{deg}(B)}$$\n",
    "$$(P,Q)\\mapsto PA+QB$$\n",
    "Define the *resultant* of $A$ and $B$, denoted $\\textrm{Res}(A,B)$, to be the determinant of $\\phi$ under the basis of $\\{1,x,x^2,\\cdots\\}$."
   ]
  },
  {
   "cell_type": "markdown",
   "metadata": {},
   "source": [
    "* $A$ and $B$ have common roots if and only if $\\textrm{Res}(A,B)=0$.\n",
    "* There exist polynomials $P$ with degree less than $B$ and $Q$ with degree less than $A$ such that $\\textrm{Res}(A,B)=PA+QB$."
   ]
  },
  {
   "cell_type": "markdown",
   "metadata": {},
   "source": [
    "Proposition. Let $k$ a ring. Let $\\mathfrak{a}$ be a proper ideal in $k[x_1,x_2,\\cdots,x_n]$. Let $\\phi:k[x_1,x_2,\\cdots,x_n]\\to k$ be a $k$-algebra homomorphism such that $\\mathfrak{a}$ is contained in the kernel of $\\phi$. Then for any $a\\in\\mathfrak{a}$, $a(\\phi(x_1),\\phi(x_2),\\cdots,\\phi(x_n))=0$. Proof. We observe that $\\phi(a)=a(\\phi(x_1),\\phi(x_2),\\cdots,\\phi(x_n))$. By assumption, $\\phi(a)=0$.///"
   ]
  },
  {
   "cell_type": "markdown",
   "metadata": {},
   "source": [
    "Zaraski Lemma. Let $k\\subseteq K$ be a field extention. If $K$ as a $k$-algebra is finitely generated, then $K$ is algebraic over $k$."
   ]
  },
  {
   "cell_type": "markdown",
   "metadata": {},
   "source": [
    "Remark. If $K$ as a $k$-algebra is finitely generated, then there is a $k$-algebra homomorphism $\\phi:k[x_1,x_2,\\cdots,x_n]\\to K$ such that $\\{\\phi(x_i)\\}$ is the set of generators, and $K$ is isomorphic to $k[x_1,x_2,\\cdots,x_n]/\\mathfrak{a}$ where $\\mathfrak{a}$ is the kernel of $\\phi$. We can also write $K=k[x_1,x_2,\\cdots,x_n]$ where $x_1,x_2,\\cdots,x_n$ are generators in $K$. Zaraski Lemma says these generators are algebraic over $k$. Or if $k[x_1,x_2,\\cdots,x_n]=k(x_1,x_2,\\cdots,x_n)$, then it is algebraic over $k$."
   ]
  },
  {
   "cell_type": "markdown",
   "metadata": {},
   "source": [
    "Remark. A finite field extension is algebraic. \n",
    "Proof. Suppose $k\\subseteq K$ is a finite field extension. That is, $K$ as a $k$-vector space has finite dimension. Let's say the dimension is $n$. Let $x$ be an element in $K$. Then the sequence $\\{1,x,x^2,x^3,\\cdots,x^n\\}$ is linearly dependent, that is, there exists a set $\\{k_0,k_1,k_2,\\cdots,k_n\\}$ in $k$ such that\n",
    "$$k_0+k_1x+k_2x^2+\\cdots+k_nx^n=0$$\n",
    "Therefore, $x$ is algebraic over $k$.///"
   ]
  },
  {
   "cell_type": "markdown",
   "metadata": {},
   "source": [
    "Claim. If $k[x]=k(x)$ then it is a finite extension, and therefore algebraic. If $k[x_1,x_2,\\cdots,x_n]=k(x_1,x_2,\\cdots,x_n)$ then it is a finite extension and therefore algebraic."
   ]
  },
  {
   "cell_type": "markdown",
   "metadata": {},
   "source": [
    "Claim. Let $k\\subseteq K$ be a field extension. Let $\\alpha$ be an element in $K$ that is algebraic over $k$. Then $k[\\alpha]=k(\\alpha)$, and it is a finite extension over $k$.\n",
    "Proof. $\\alpha$ is algebraic over $k$, so there is an irreducible polynomial $p\\in k[x]$ such that $p(\\alpha)=0$. $k[x]$ is a principal ideal domain. So $(p)$ is a prime ideal, and is a maximal ideal. $k[x]/(p)$ is a field. But $x\\mapsto\\alpha$ gives an isomorphism between $k[x]/(p)\\to k[\\alpha]$. Therefore, $k[\\alpha]=k(\\alpha)$. The degree of the extension is equal to the degree of $p$.///"
   ]
  },
  {
   "cell_type": "markdown",
   "metadata": {},
   "source": [
    "Remark. Let $k\\subseteq K$ be a field extension. Let $\\alpha$ be an element in $K$. The following are equivalent:\n",
    "* $\\alpha$ is algebraic over $k$.\n",
    "* $k[\\alpha]=k(\\alpha)$.\n",
    "* $k(\\alpha)$ is a finite extension over $k$.\n",
    "\n",
    "Zaraski Lemma implies $2 \\Rightarrow 1$. And we have all others.\n",
    "\n",
    "Proof (of $2 \\Rightarrow 1$).\n",
    "The case when $\\alpha\\in k$ is trivial. Suppose $\\alpha\\notin k$.\n",
    "Define $\\phi:k[x]\\to k[\\alpha]$ by $x\\mapsto \\alpha$. By assumption $k[\\alpha]$ is a field, therefore the kernel of $\\phi$ is a maximal ideal, in particular, a proper ideal, therefore, it's generated by a single element $r\\in k[x]$ (which is in fact an irreducible element), and $r(\\alpha)=0$. So $\\alpha$ is algebraic.///"
   ]
  },
  {
   "cell_type": "markdown",
   "metadata": {},
   "source": [
    "Proof of Zaraski Lemma. We want to show $k[x_1]=k(x_1)$ in $k[x_1,x_2,\\cdots,x_n]$."
   ]
  },
  {
   "cell_type": "markdown",
   "metadata": {},
   "source": [
    "Example. $\\mathbb{Z}[\\sqrt{2}]=\\mathbb{Z}(\\sqrt{2})$."
   ]
  },
  {
   "cell_type": "markdown",
   "metadata": {},
   "source": [
    "Remark. Zaraski Lemma implies that if the field extention $K$ over $k$ has a transcendental element $x$, then $K$ cannot be finitely generated as a $k$-algebra. Does that mean there are infinitely many transcendental elements?"
   ]
  },
  {
   "cell_type": "markdown",
   "metadata": {},
   "source": [
    "Remark. Zaraski Lemma also implies $k(x)$, the field of fraction of $k[x]$, is not finitely generated as a $k$-algebra."
   ]
  },
  {
   "cell_type": "markdown",
   "metadata": {},
   "source": [
    "Remark. linearly generated $\\le$ algebraically generated $\\le$ fractionally generated"
   ]
  },
  {
   "cell_type": "markdown",
   "metadata": {},
   "source": [
    "Proposition. Let $k$ be an algebraically closed field. Let $\\mathfrak{a}$ be a proper ideal in $k[x_1,x_2,\\cdots,x_n]$. Let $\\mathfrak{m}$ be a maximal ideal that contains $\\mathfrak{a}$. Then $k[x_1,x_2,\\cdots,x_n]/\\mathfrak{m}=k$. Proof. Let $F=k[x_1,x_2,\\cdots,x_n]/\\mathfrak{m}$. $F$ is field since $\\mathfrak{m}$ is a maximal ideal. $k\\subseteq F$. $F$ as a $k$-algebra is generated by $\\{x_1,x_2,\\cdots,x_n\\}$. Therefore, by Zaraski Lemma, $F$ is algebraic over $k$. But since $k$ is algebraiclly closed, $F=k$. ///"
   ]
  },
  {
   "cell_type": "markdown",
   "metadata": {},
   "source": [
    "Theorem (Weak Nullstellensatz). Let $k$ be an algebraically closed field. Every proper ideal of $k[x_1,x_2,\\cdots,x_n]$ has a common zero. \n",
    "\n",
    "Proof. Let $\\mathfrak{a}$ be a proper ideal of $k[x_1,x_2,\\cdots,x_n]$. Let Let $\\mathfrak{m}$ be a maximal ideal that contains $\\mathfrak{a}$. By the previous proposition, $k[x_1,x_2,\\cdots,x_n]/\\mathfrak{m}=k$. Denote this quotient map by $\\phi$. Then by the next previous proposition, $(\\phi(x_1),\\phi(x_2),\\cdots,\\phi(x_n)$ is a common zero of $\\mathfrak{a}$.///"
   ]
  },
  {
   "cell_type": "markdown",
   "metadata": {},
   "source": [
    "Theorem (Strong Nullstellensatz). Let $k$ be an algebraically closed field. Let $g,g_1,g_2,\\cdots,g_m$ be elements in $k[x_1,x_2,\\cdots,x_n]$. If $g$ vanishes at all common zeros of $g_1,g_2,\\cdots,g_m$, then $g^p$ is contained in the ideal generated by $g_1,g_2,\\cdots,g_m$ for some positive integer $p$.\n",
    "\n",
    "Proof. The case when $g=0$ is trivial. Now we assume $g\\neq0$. By adding a new variable $x_0$, we can construct a set of polynomials in $k[x_0,x_1,x_2,\\cdots,x_n]$: $1-x_0g,g_1,g_2,\\cdots,g_m$. We observe that this new set of polynomials do not have a common zero. By Weak Nullstellensatz, there is a set of polynomials $r,r_1,r_2,\\cdots,r_m$ in $k[x_0,x_1,x_2,\\cdots,x_m]$ such that\n",
    "$$r(1-x_0g)+r_1g_1+r_2g_2+\\cdots+r_mg_m=1$$\n",
    "Consider this equation and all elements in $k(x_1,x_2,\\cdots,x_m)[x_0]$, that is, a polynomial ring of a single variable $x_0$ with coefficients in the field of fraction of $k[x_1,x_2,\\cdots,x_n]$. Evaluate the equation at $$x_0=g^{-1}$$.\n",
    "We have\n",
    "$$r_1(g^{-1})g_1+r_2(g^{-1})g_2+\\cdots+r_m(g^{-1})g_m=1$$\n",
    "By multiplying $g^p$ for some sufficiently large $p$, we can clear the power of $g$ in the fraction of this equation\n",
    "$$g^pr_1(g^{-1})g_1+g^pr_2(g^{-1})g_2+\\cdots+g^pr_m(g^{-1})g_m=g^p$$\n",
    "That is,\n",
    "$$g^pr_1(g^{-1}),g^pr_2(g^{-1}),\\cdots,g^pr_m(g^{-1})$$\n",
    "are polynomials in $k[x_1,x_2,\\cdots,x_m]$. Therefore, $g^p$ is in the ideal generated by $g_1,g_2,\\cdots,g_m$.///"
   ]
  }
 ],
 "metadata": {
  "kernelspec": {
   "display_name": "Python 3",
   "language": "python",
   "name": "python3"
  },
  "language_info": {
   "codemirror_mode": {
    "name": "ipython",
    "version": 3
   },
   "file_extension": ".py",
   "mimetype": "text/x-python",
   "name": "python",
   "nbconvert_exporter": "python",
   "pygments_lexer": "ipython3",
   "version": "3.6.1"
  }
 },
 "nbformat": 4,
 "nbformat_minor": 2
}
