{
 "cells": [
  {
   "cell_type": "markdown",
   "metadata": {},
   "source": [
    "Definition. A *category* $\\mathcal{C}$ is a collection of *objects* $\\mathcal{Obj}(\\mathcal{C})$, and for each pair of objects $(A,B)$ a collection of *morphisms* $\\mathcal{Hom}(A,B)$, called *Hom-set*, each of which is represented as $f:A\\to B$. Morphisms must satisfy:\n",
    "* associative composition\n",
    "* identity morphism"
   ]
  },
  {
   "cell_type": "markdown",
   "metadata": {},
   "source": [
    "Definition. Given two objects $A$ and $B$ in a category $\\mathcal{C}$ and morphisms $f:A\\to B$ and $g:B\\to A$. If $f\\circ g=1_B$ and $g\\circ f=1_A$, then $f$ and $g$ are called *isomorphisms*, and $A$ and $B$ are *isomorphic* to each other."
   ]
  },
  {
   "cell_type": "markdown",
   "metadata": {},
   "source": [
    "Definition. Let $f:A\\to B$ be a morphism in $\\mathcal{C}$. $f$ is a *monomorphism* if for any $X\\in \\mathcal{C}$ and two morphisms $g_1$ and $g_2$ from $X$ to $A$, $fg_1=fg_2$ implies $g_1=g_2$. $f$ is an *epimorphism* if for any $Y\\in\\mathcal{C}$ and two morphisms $g_1$ and $g_2$ from $B$ to $Y$, $g_1f=g_2f$ implies $g_1=g_2$."
   ]
  },
  {
   "cell_type": "markdown",
   "metadata": {},
   "source": [
    "Remark. The definition of monomorphism and epimorphism is an abstraction of the defining properties of monomorphism and epimorphism of functions on sets."
   ]
  },
  {
   "cell_type": "markdown",
   "metadata": {},
   "source": [
    "Remark. A morphism is an isomorphism if and only if it's both a monomorphism and a epimorphism."
   ]
  },
  {
   "cell_type": "markdown",
   "metadata": {},
   "source": [
    "Definition. A *functor* between two categories, denoted $F:\\mathcal{C}\\to\\mathcal{D}$, is a function $F:\\mathcal{Obj}(\\mathcal{C}) \\to \\mathcal{Obj}(\\mathcal{D})$ and for each pair of objects $(A,B)$ in $\\mathcal{C}$ a function $F:\\mathcal{Hom}(A,B)\\to \\mathcal{Hom}(F(A),F(B))$. Functors must preserve the associative composition and identity of morphisms."
   ]
  },
  {
   "cell_type": "markdown",
   "metadata": {},
   "source": [
    "Remark. A functor is like a homomorphism. It's not only a function, but has to preserve structure. A functor acts on the object set of a category just like a function, because the object set is just a set, no more structure. But a functor acts on a Hom-set not just like a function. It has to preserve the structure that a Hom-set must satisfy, namely, the requirements for morphisms."
   ]
  },
  {
   "cell_type": "markdown",
   "metadata": {},
   "source": [
    "Remark. We can have category of categories with categories being objects and functors being morphisms."
   ]
  },
  {
   "cell_type": "markdown",
   "metadata": {},
   "source": [
    "Definition. Let $F:\\mathcal{C}\\to\\mathcal{D}$ be a functor. Given a pair of objects $X,Y\\in\\mathcal{C}$, $F$ defines a function $F_{XY}:Hom(X,Y)\\to Hom(F(X),F(Y))$. $F$ is *faithful* if $F_{XY}$ is injective for all $X$ and $Y$. $F$ is *full* if $F_{XY}$ is surjective for all $X$ and $Y$."
   ]
  },
  {
   "cell_type": "markdown",
   "metadata": {},
   "source": [
    "Remark. Full and faithful only focus on the hom-set. It needs not be injective or surjective on objects."
   ]
  },
  {
   "cell_type": "markdown",
   "metadata": {},
   "source": [
    "Definition. A *natural transformation* $\\eta$ between two functors $F,G:\\mathcal{C}\\to\\mathcal{D}$, denoted $\\eta:F\\to G$, is a section in the Hom-set bundle on $\\mathcal{C}$, explicitly, for each $A$ in $\\mathcal{C}$ a morphism $\\eta_A:F(A)\\to G(A)$ in $\\mathcal{D}$ such that for any morphism $f:A\\to B$ in $\\mathcal{C}$, $G(f)\\circ\\eta_A=\\eta_B\\circ F(f)$."
   ]
  },
  {
   "cell_type": "markdown",
   "metadata": {},
   "source": [
    "Definition. Given two categories $\\mathcal{C}$ and $\\mathcal{D}$ we can have the *functor category* between $\\mathcal{C}$ and $\\mathcal{D}$, denoted $[\\mathcal{C},\\mathcal{D}]$, with natural transformations being morphisms."
   ]
  },
  {
   "cell_type": "markdown",
   "metadata": {},
   "source": [
    "Definition. A natural transformation is a *natural isomorphism* if it's an isomorphism in the functor category. If there is a natural isomorphism between two functors, we say the two functors are *naturally isomorphic* to each other."
   ]
  },
  {
   "cell_type": "markdown",
   "metadata": {},
   "source": [
    "Remark. A natural isomorphism is natural as well as isomorphism in the target category. To say a condition holds *naturally* is very strong. \"Natural\" means a condition holds for all elements and a diagram is commutative for all."
   ]
  },
  {
   "cell_type": "markdown",
   "metadata": {},
   "source": [
    "Definition. Let $F,G,H\\in[\\mathcal{C},\\mathcal{D}]$, and $\\alpha:F\\to G, \\beta:G\\to H$. Then $\\beta\\circ\\alpha$ is the *vertical composition* of natural transformations. Let $F_1,G_1\\in[\\mathcal{C},\\mathcal{D}]$ and $F_2,G_2[\\mathcal{D},\\mathcal{E}]$ and $\\alpha_1:F_1\\to G_1$ and $\\alpha_2:F_2\\to G_2$. We can compose $\\alpha_1$ and $\\alpha_2$ *horizontally* and have a natural transformation written as $\\alpha_2 * \\alpha_1: F_2\\circ F_1 \\to G_2\\circ G_1$, where for $A\\in\\mathcal{C}$, $\\alpha_2 * \\alpha_1(A)$ is a morphism from $F_2F_1A\\to G_2G_1A$, the morphism is defined to be $\\alpha_2(G_1A)\\circ F_2(\\alpha_1(A))=G_2(\\alpha_1(A))\\circ\\alpha_2(F_1A)$ by the naturality of $\\alpha_1$ and $\\alpha_2$."
   ]
  },
  {
   "cell_type": "markdown",
   "metadata": {},
   "source": [
    "Definition. Let $Set$ be the category of sets with objects being sets and morphisms being functions between sets."
   ]
  },
  {
   "cell_type": "markdown",
   "metadata": {},
   "source": [
    "Construction of $Hom$-functor. Let $\\mathcal{C}$ be category. Fix an object $A$ in $\\mathcal{C}$. We can define a functor $Hom(A,-):\\mathcal{C}\\to Set$, called $Hom$-functor, such that $X\\mapsto Hom(A,X)$ for an object $X\\in\\mathcal{C}$, and for a morphism $f:X\\to Y$, $f\\mapsto \\bar{f}$, where $\\bar{f}$ is a mapping from $Hom(A,X)$ to $Hom(A,Y)$ such that for $h:A\\to X$, $\\bar{f}(h)=f\\circ h$. Similarly, we can define $Hom(-,A)$."
   ]
  },
  {
   "cell_type": "markdown",
   "metadata": {},
   "source": [
    "Remark. To construct a functor, we not only need to specify what it does to objects, but also need to specify what it does to morphisms."
   ]
  },
  {
   "cell_type": "markdown",
   "metadata": {},
   "source": [
    "Definition. A functor $F:\\mathcal{C}\\to Set$ is *representable* if there exists an object $A$ in $\\mathcal{C}$ and a natural isomorphism $\\phi:Hom(A,-)\\to F$. In such case, $(A,\\phi)$ is called a *representation* of $F$."
   ]
  },
  {
   "cell_type": "markdown",
   "metadata": {},
   "source": [
    "Remark. Given two categories $\\mathcal{C}$ and $\\mathcal{D}$ and two functors $F:\\mathcal{C}\\to\\mathcal{D}$ and $G:\\mathcal{D}\\to\\mathcal{C}$. We can define the following $4$ functors:\n",
    "* $Hom(F(A),-):\\mathcal{D}\\to Set$\n",
    "* $Hom(A,G(-)):\\mathcal{D}\\to Set$\n",
    "* $Hom(F(-),B):\\mathcal{C}\\to Set$\n",
    "* $Hom(-,G(B)):\\mathcal{C}\\to Set$"
   ]
  },
  {
   "cell_type": "markdown",
   "metadata": {},
   "source": [
    "Definition. Given two categories $\\mathcal{C}$ and $\\mathcal{D}$ and two functors $F:\\mathcal{C}\\to\\mathcal{D}$ and $G:\\mathcal{D}\\to\\mathcal{C}$. We say $F$ and $G$ are *adjoint* to each other if there are natural isomorphisms:\n",
    "* $\\eta:Hom(F(A),-)\\to Hom(A,G(-))$\n",
    "* $\\epsilon:Hom(F(-),B)\\to Hom(-,G(B))$\n",
    "\n",
    "We also say $F$ and $G$ are in *adjunction*."
   ]
  },
  {
   "cell_type": "markdown",
   "metadata": {},
   "source": [
    "Remark. Adjunction relation has a direction, which is not easily defined in the above setting."
   ]
  },
  {
   "cell_type": "markdown",
   "metadata": {},
   "source": [
    "Remark. We can also concisely say the above condition as $Hom(F(A),B)\\cong Hom(A,G(B))$ naturally in both variables $A$ and $B$, and we understand it as in the definition."
   ]
  },
  {
   "cell_type": "markdown",
   "metadata": {},
   "source": [
    "Alternative definition of Adjoints. Given two categories $\\mathcal{C}$ and $\\mathcal{D}$ and two functors $F:\\mathcal{C}\\to\\mathcal{D}$ and $G:\\mathcal{D}\\to\\mathcal{C}$. If there is a natural transformation $\\eta:1_C\\to G\\circ F$ and a natural transformation $\\epsilon: F\\circ G\\to 1_D$, such that for any $A\\in\\mathcal{C}$ and $B\\in\\mathcal{D}$\n",
    "* for any morphism $f:A\\to G(B)$, there exists a unique $g:F(A)\\to B$ such that $f=G(g)\\circ\\eta_A$.\n",
    "* for any morphism $g:F(A)\\to B$, there exists a unique $f:A\\to G(B)$ such that $g=\\epsilon_B\\circ F(f)$.\n",
    "\n",
    "then we say $F$ and $G$ are *adjoint* to each other, and $F$ is the *left adjoint* to $G$ and $G$ is the *right adjoint* to $F$."
   ]
  },
  {
   "cell_type": "markdown",
   "metadata": {},
   "source": [
    "Remark. The above alternative definition of *adjoint* is in terms of *universal property*. The direction of the relation, i.e. left or right, is implied in the direction of the natural transformations $\\eta$ and $\\epsilon$."
   ]
  },
  {
   "cell_type": "markdown",
   "metadata": {},
   "source": [
    "Definition. Let $F:\\mathcal{I}\\to\\mathcal{C}$ be a functor, where the category $\\mathcal{I}$ is served as an indexing category. A *cone* over $F$ is a pair $(A, \\phi_A)$ where $A\\in\\mathcal{C}$ is the vertex of the cone and $\\phi_A$ is a family of morphism $\\phi_{AX}:A\\to F(X)$ for all $X\\in \\mathcal{I}$ such that for any morphism $f:X\\to Y$ in $\\mathcal{I}$, $\\phi_{AY}=F(f)\\circ\\phi_{AX}$. The *limit* of $F$ is a cone $(L,\\phi_L)$ over $F$ such that for any cone $(A,\\phi_A)$ there exists a unique morphism $\\tau_A:A\\to L$ such that $\\phi_{AX}=\\phi_{LX}\\circ\\tau_A$ for all $X\\in\\mathcal{I}$."
   ]
  },
  {
   "cell_type": "markdown",
   "metadata": {},
   "source": [
    "Remark. The limit of a functor is like the $inf$ in the collection of cones over the functor. Most of the effort is in the construction of one cone. If the collection of cones is nonempty, then it's likely that there is a limit."
   ]
  },
  {
   "cell_type": "markdown",
   "metadata": {},
   "source": [
    "Remark. If the limit exists, then it's also unique."
   ]
  },
  {
   "cell_type": "markdown",
   "metadata": {},
   "source": [
    "Remark. A cone over $F:\\mathcal{I}\\to\\mathcal{C}$ is a vertex $A\\in\\mathcal{C}$ and a section of a Hom-set bundle over $\\mathcal{I}$ with a fiber over $X\\in\\mathcal{I}$ being the Hom-set $Hom(A,F(X))$ and the section must satisfy the cone condition."
   ]
  },
  {
   "cell_type": "markdown",
   "metadata": {},
   "source": [
    "Definition. If we reverse the arrows in $\\mathcal{C}$ in the definition of limit, we get the dual of the limit, called *colimit*."
   ]
  },
  {
   "cell_type": "markdown",
   "metadata": {},
   "source": []
  }
 ],
 "metadata": {
  "kernelspec": {
   "display_name": "Python 3",
   "language": "python",
   "name": "python3"
  },
  "language_info": {
   "codemirror_mode": {
    "name": "ipython",
    "version": 3
   },
   "file_extension": ".py",
   "mimetype": "text/x-python",
   "name": "python",
   "nbconvert_exporter": "python",
   "pygments_lexer": "ipython3",
   "version": "3.6.1"
  }
 },
 "nbformat": 4,
 "nbformat_minor": 2
}
