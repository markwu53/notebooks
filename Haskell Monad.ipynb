{
 "cells": [
  {
   "cell_type": "markdown",
   "metadata": {},
   "source": [
    "Let $H$ be a category. Let $T$ be an endo-functor on $H$. Let $I_H$ be the identity functor on $H$. If there is a natural \n",
    "transformation $\\eta:I_H\\to T$ and a natural transformation $\\mu:T^2\\to T$, such that\n",
    "$$\\mu\\circ T\\eta = \\mu\\circ \\eta T = I_T$$\n",
    "and\n",
    "$$\\mu\\circ T\\mu = \\mu\\circ \\mu T$$\n",
    "then $T$ is called a *monad*."
   ]
  },
  {
   "cell_type": "markdown",
   "metadata": {},
   "source": [
    "Let $H$ be a category. Let $End(H)$ be the category of endo-functors on $H$ (where the objects of $End(H)$ are endo-functors on $H$ and morphisms of $End(H)$ are natural transformations between functors). In particular, $I_H$, the idendity functor on $H$, is an object in $End(H)$. Let $T$ be an object in $End(H)$. Then $T^2$ and $T^3$ are also objects in $End(H)$. If there is a morphism $\\eta:I_H\\to T$ and a morphism $\\mu:T^2\\to T$."
   ]
  },
  {
   "cell_type": "markdown",
   "metadata": {},
   "source": [
    "Let $H$ be a category. Let $End(H)=Hom(H,H)$ be the category of endo-functors on $H$. Let $T$ be an object in $End(H)$, then $T$ induces two functors on $End(H)$ by multiply on the left and on the right: $L_T=T*$ and $R_T=*T$ ($L_T,R_T\\in End(End(H))$). If there is a morphism $\\eta:I_H\\to T$ and a morphism $\\mu:T^2\\to T$ in $End(H)$, such that\n",
    "$$\\mu\\circ L_T(\\eta)=\\mu\\circ R_T(\\eta)=I_T$$\n",
    "and\n",
    "$$\\mu\\circ L_T(\\mu)=\\mu\\circ R_T(\\mu)$$\n",
    "then $T$ is called a *monad*."
   ]
  },
  {
   "cell_type": "markdown",
   "metadata": {},
   "source": [
    "Every object in a category has an identity morphism. Every category has an identity functor."
   ]
  },
  {
   "cell_type": "markdown",
   "metadata": {},
   "source": [
    "A *monoidal category* is a category equipped with a functorial associative multiplication $*$ and an identity element $I$. Functorial means by fixing left or right element, $*$ is a functor. A *monoidal object* in a monoidal category is an object $M$ with two morphisms $\\eta:I\\to M$ and $\\mu:M*M\\to M$, such that, $\\mu$ is associative and $\\mu M\\eta=\\mu\\eta M=1$."
   ]
  },
  {
   "cell_type": "markdown",
   "metadata": {},
   "source": [
    "Let $H$ be a category. The category $End(H)$ of endo-functors of $H$ is a monoidal category with multiplication being functor composition and identity element being the identity functor."
   ]
  }
 ],
 "metadata": {
  "kernelspec": {
   "display_name": "Python 3",
   "language": "python",
   "name": "python3"
  },
  "language_info": {
   "codemirror_mode": {
    "name": "ipython",
    "version": 3
   },
   "file_extension": ".py",
   "mimetype": "text/x-python",
   "name": "python",
   "nbconvert_exporter": "python",
   "pygments_lexer": "ipython3",
   "version": "3.6.1"
  }
 },
 "nbformat": 4,
 "nbformat_minor": 2
}
