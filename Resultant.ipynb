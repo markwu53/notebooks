{
 "cells": [
  {
   "cell_type": "code",
   "execution_count": 1,
   "metadata": {},
   "outputs": [
    {
     "data": {
      "text/html": [
       "<style>.container { width:50% !important; }</style>"
      ],
      "text/plain": [
       "<IPython.core.display.HTML object>"
      ]
     },
     "metadata": {},
     "output_type": "display_data"
    }
   ],
   "source": [
    "from IPython.core.display import display, HTML\n",
    "display(HTML(\"<style>.container { width:50% !important; }</style>\"))"
   ]
  },
  {
   "cell_type": "markdown",
   "metadata": {},
   "source": [
    "Let $R$ be an integral domain. Let $R[x]$ be the polynomial ring with a single variable $x$ and coefficients in $R$. Let $p,q$ be two elements in $R[x]$ with degree $m$ and $n$:\n",
    "$$p=a_0+a_1x+a_2x^2+\\cdots+a_mx^m$$\n",
    "$$q=b_0+b_1x+b_2x^2+\\cdots+b_nx^n$$\n",
    "For a positive integer $k$, let $P_k$ be the sub $R$-module of $R[x]$ with degree **less** than $k$. Define a linear transformation\n",
    "$$\\phi: P_n\\oplus P_m\\to P_{m+n}$$\n",
    "$$(r,s)\\mapsto rp+sq$$\n",
    "Under the basis $\\{1,x,x^2,\\cdots\\}$, $\\phi$ is a matrix, called *Sylvester matrix*, with entries in $R$. The *resultant* of $p$ and $q$, denoted $\\textrm{Res}(p,q)$, is the determinant of this matrix."
   ]
  },
  {
   "cell_type": "markdown",
   "metadata": {},
   "source": [
    "Example. Let $R=\\mathbb{Z}$. Let $p=x^2+3x+2$ and $q=x+1$. Then $m=2$ and $n=1$. The Sylvester matrix is a $3\\times3$ matrix. The basis of $P_n\\oplus P_m$ is\n",
    "$$\\{(1,0),(0,1),(0,x)\\}$$.\n",
    "$$\n",
    "\\begin{pmatrix}\n",
    "2&1&0\\\\\n",
    "3&1&1\\\\\n",
    "1&0&1\n",
    "\\end{pmatrix}\n",
    "$$"
   ]
  },
  {
   "cell_type": "markdown",
   "metadata": {},
   "source": [
    "The coefficients of a polynomial can be viewed as a function $p:\\mathbb{Z}\\to R$ that is finitely supported, meaning it is nonzero at only finitely many points, and zero at negative integers."
   ]
  },
  {
   "cell_type": "markdown",
   "metadata": {},
   "source": [
    "* $\\textrm{Res}(p,p)=0$.\n",
    "* $\\textrm{Res}(p,q)=(-1)^{\\textrm{deg}(p)\\textrm{deg}(q)}\\textrm{Res}(q,p)$.\n",
    "* $\\textrm{Res}(k,q)=k^{\\textrm{deg}(q)}.\n",
    "* $\\textrm{Res}(kp,q)=k^{\\textrm{deg}(q)}\\textrm{Res}(p,q)$.\n",
    "* $\\textrm{Res}(xp,q)=(-1)^{\\textrm{deg}(p)+\\textrm{deg}(q)+1}b_0\\textrm{Res}(p,q)$."
   ]
  },
  {
   "cell_type": "markdown",
   "metadata": {},
   "source": [
    "Let $F$ be an algebraically closed field that contains $R$. By fundamental theorem of algebra, $p$ and $q$ have $m$ and $n$ roots in $F$, counting multiplicity. Let $(\\lambda_i)_{1\\le i\\le m}$ and $(\\mu_i)_{1\\le i\\le n}$ be the roots of $p$ and $q$. Then \n",
    "$$\\textrm{Res}(p,q)=\\prod_{i,j}(\\lambda_i-\\mu_j)$$\n",
    "An easy corollary is, $p$ and $q$ has common roots if and only if the resultant is zero."
   ]
  },
  {
   "cell_type": "markdown",
   "metadata": {},
   "source": [
    "Theorem. $\\textrm{Res}(p,q)$ is in the image of $\\phi$.\n"
   ]
  },
  {
   "cell_type": "markdown",
   "metadata": {},
   "source": [
    "Given an element $g=(g_1,g_2,\\cdots,g_n)$ in $R[x]^n$, define\n",
    "$$\\phi:R[x]^n\\to R[x]$$\n",
    "$$(r_1,r_2,\\cdots,r_n)\\mapsto r_1g_1+r_2g_2+\\cdots+r_ng_n$$\n"
   ]
  }
 ],
 "metadata": {
  "kernelspec": {
   "display_name": "Python 3",
   "language": "python",
   "name": "python3"
  },
  "language_info": {
   "codemirror_mode": {
    "name": "ipython",
    "version": 3
   },
   "file_extension": ".py",
   "mimetype": "text/x-python",
   "name": "python",
   "nbconvert_exporter": "python",
   "pygments_lexer": "ipython3",
   "version": "3.6.1"
  }
 },
 "nbformat": 4,
 "nbformat_minor": 2
}
