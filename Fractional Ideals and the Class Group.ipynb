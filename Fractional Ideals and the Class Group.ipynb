{
 "cells": [
  {
   "cell_type": "code",
   "execution_count": 1,
   "metadata": {},
   "outputs": [
    {
     "data": {
      "text/html": [
       "<style>.container { width:50% !important; }</style>"
      ],
      "text/plain": [
       "<IPython.core.display.HTML object>"
      ]
     },
     "metadata": {},
     "output_type": "display_data"
    }
   ],
   "source": [
    "from IPython.core.display import display, HTML\n",
    "display(HTML(\"<style>.container { width:50% !important; }</style>\"))"
   ]
  },
  {
   "cell_type": "markdown",
   "metadata": {},
   "source": [
    "Let $A$ be an integral domain. Let $K$ be its field of fraction. Then $K$ is an $A$-module as well as an $A$-algebra. Let $M$ be the set of $A$-submodules of $K$. $M$ has two binary operations: direct sum and tensor product of two submodules. $M$ is like a ring under these two binary operations with addtion being direct sum and multiplication being tensor product: It's a monoid under both operations. The two operations satisfy distribution law. The zero submodule is the addition zero and $A$ itself is the multiplication unit. The group of units of this ring (modulo the subgroup of principal submodules) is called the **class group**."
   ]
  },
  {
   "cell_type": "markdown",
   "metadata": {
    "collapsed": true
   },
   "source": [
    "Let $A$ be an integral domain. Let $K$ be its field of fraction. Then $K$ is an $A$ module. Let $C$ be the set of submodules of $K$. An element in $C$ is called a *fractional ideal*. If the submodule is contained in $A$ itself, then it is the usual ideal of $A$, and is called an *integral ideal* in this context to distinguish from fractional ideals.\n",
    "\n",
    "$C$ can be given a ring structure. Let $I,J$ be two submodules in $C$. Define\n",
    "* $I+J=\\{ i+j \\,\\,\\,:\\,\\,\\, i\\in I, j\\in J\\}$\n",
    "* $I*J=\\{ i_1j_1+i_2j_2+i_3j_3+\\cdots \\,\\,\\,:\\,\\,\\, i_n\\in I, j_m\\in J\\}$\n",
    "\n",
    "The zero submodule is the zero in $C$. $A$ itself, as the submodule of $K$, is $1$, the multiplicative unit, in $C$. A unit in the ring $C$ is called an *invertible* ideal. The group of units in $C$ is called the *class group*."
   ]
  },
  {
   "cell_type": "markdown",
   "metadata": {},
   "source": [
    "The following development is modeled on $\\mathbb{Z}$ and $\\mathbb{Q}$. Consider $K$ as $A$-algebra. An $A$-subalgebra is a subring in $K$. Let $P$ be a prime ideal of $A$. Let $S=A\\backslash P$. $S$ is a multiplicative set. The set\n",
    "$$A/S=\\{a/s\\,\\,\\,:\\,\\,\\, a\\in A, s\\in S\\}$$\n",
    "is an $A$-subalgebra, or a subring in $K$. It's called the local ring at $P$, denoted $A_P$. There is only one prime or maximal ideal in $A_P$:\n",
    "$$P/S=\\{a/s\\,\\,\\,:\\,\\,\\, a\\in P, s\\in S\\}$$.\n",
    "\n",
    "It's easy to see that the subset $S/S$ are units in $A_P=A/S$. The mapping $f:A_P\\to A$ such that $f(a/s)=a$ is a multiplicative homomorphism, or modulo units in each set, it becomes a homomorphism of multiplicative sets (or semigroups). $P/S$ is the inverse image of $P$. So it is a prime ideal. Elements not in $P/S$ are units. So $P/S$ is maximal. It also shows that $P/S$ is the only maximal ideal in $A_P$.\n"
   ]
  },
  {
   "cell_type": "markdown",
   "metadata": {},
   "source": []
  }
 ],
 "metadata": {
  "kernelspec": {
   "display_name": "Python 3",
   "language": "python",
   "name": "python3"
  },
  "language_info": {
   "codemirror_mode": {
    "name": "ipython",
    "version": 3
   },
   "file_extension": ".py",
   "mimetype": "text/x-python",
   "name": "python",
   "nbconvert_exporter": "python",
   "pygments_lexer": "ipython3",
   "version": "3.6.1"
  }
 },
 "nbformat": 4,
 "nbformat_minor": 2
}
