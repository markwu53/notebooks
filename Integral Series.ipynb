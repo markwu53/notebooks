{
 "cells": [
  {
   "cell_type": "markdown",
   "metadata": {},
   "source": [
    "$$\n",
    "A(p)=\n",
    "\\int_0^1 x^p \\ln(1-x) dx\n",
    "$$"
   ]
  },
  {
   "cell_type": "markdown",
   "metadata": {},
   "source": [
    "$$\n",
    "u=x^p, dv=\\ln(1-x)dx\n",
    "$$\n",
    "$$\n",
    "du=px^{p-1}dx, v=(1-x)(1-\\ln(1-x))\n",
    "$$"
   ]
  },
  {
   "cell_type": "markdown",
   "metadata": {},
   "source": [
    "$$\n",
    "uv|_0^1=0,\n",
    "$$"
   ]
  },
  {
   "cell_type": "markdown",
   "metadata": {},
   "source": [
    "$$\n",
    "-\\int vdu=\\int -px^{p-1}(1-x)(1-\\ln(1-x)) dx\n",
    "$$"
   ]
  },
  {
   "cell_type": "markdown",
   "metadata": {},
   "source": [
    "$$\n",
    "\\int -px^{p-1} +px^p +px^{p-1}\\ln(1-x) -px^p\\ln(1-x) dx\n",
    "$$"
   ]
  },
  {
   "cell_type": "markdown",
   "metadata": {},
   "source": [
    "$$\n",
    "A(p)=-1+\\frac{p}{p+1}+pA(p-1)-pA(p)\n",
    "$$"
   ]
  },
  {
   "cell_type": "markdown",
   "metadata": {},
   "source": [
    "$$\n",
    "A(p)=\n",
    "\\frac{p}{p+1}A(p-1)-\\frac{1}{(p+1)^2}\n",
    "$$"
   ]
  },
  {
   "cell_type": "markdown",
   "metadata": {},
   "source": [
    "$$\n",
    "x^p\\ln(1-x)=-\\sum_{n=1}\\frac{x^{n+p}}{n}\n",
    "$$"
   ]
  },
  {
   "cell_type": "markdown",
   "metadata": {},
   "source": [
    "$$\n",
    "A(p)=-\\sum_{n=1}\\frac{1}{n(n+p+1)}\n",
    "$$"
   ]
  },
  {
   "cell_type": "markdown",
   "metadata": {},
   "source": [
    "$$\n",
    "A(p-1)=-\\sum_{n=1}\\frac{1}{n(n+p)}\n",
    "$$"
   ]
  },
  {
   "cell_type": "markdown",
   "metadata": {},
   "source": [
    "$$\n",
    "\\sum_{n=1}\\frac{1}{n(n+p+1)}\n",
    "=\n",
    "\\frac{p}{p+1}\\sum_{n=1}\\frac{1}{n(n+p)}+\\frac{1}{(p+1)^2}\n",
    "$$"
   ]
  },
  {
   "cell_type": "markdown",
   "metadata": {},
   "source": [
    "$$\n",
    "\\sum_{n=1}\\frac{p+1}{n(n+p+1)}=\\sum_{n=1}\\frac{p}{n(n+p)}+\\frac{1}{p+1}\n",
    "$$"
   ]
  },
  {
   "cell_type": "markdown",
   "metadata": {},
   "source": [
    "$$\n",
    "C(p)=\\sum_{n=1}\\frac{p}{n(n+p)}=\\sum_{n=1}\\frac{p-1}{n(n+p-1)}+\\frac{1}{p}\n",
    "$$"
   ]
  },
  {
   "cell_type": "markdown",
   "metadata": {},
   "source": [
    "$$\n",
    "C'(p)=\\sum_{n=1}\\frac{1}{(n+p)^2}\n",
    "$$"
   ]
  },
  {
   "cell_type": "markdown",
   "metadata": {},
   "source": [
    "$$\n",
    "C(p)=-\\int_0^1 p x^{p-1} \\ln(1-x) dx\n",
    "$$"
   ]
  },
  {
   "cell_type": "markdown",
   "metadata": {},
   "source": [
    "$$\n",
    "C'(p)=-\\int_0^1 (x^{p-1}+px^{p-1}\\ln x)\\ln(1-x) dx\n",
    "$$"
   ]
  },
  {
   "cell_type": "markdown",
   "metadata": {},
   "source": [
    "$$\n",
    "C'(p)=-B(p)-p\\int_0^1 x^{p-1}\\ln x\\ln(1-x) dx\n",
    "$$"
   ]
  },
  {
   "cell_type": "markdown",
   "metadata": {},
   "source": [
    "$$\n",
    "B(p)=A(p-1)\n",
    "$$"
   ]
  },
  {
   "cell_type": "markdown",
   "metadata": {},
   "source": [
    "$$\n",
    "pB(p)-(p+1)B(p+1)=\\frac{1}{p+1}\n",
    "$$"
   ]
  },
  {
   "cell_type": "markdown",
   "metadata": {},
   "source": [
    "$$\n",
    "C(p)=-pB(p)\n",
    "$$"
   ]
  },
  {
   "cell_type": "markdown",
   "metadata": {},
   "source": [
    "$$\n",
    "C(p+1)=C(p)+\\frac{1}{p+1}\n",
    "$$"
   ]
  },
  {
   "cell_type": "markdown",
   "metadata": {},
   "source": [
    "$$\n",
    "C(p)=C(p-1)+\\frac{1}{p}, C(0)=0\n",
    "$$"
   ]
  },
  {
   "cell_type": "markdown",
   "metadata": {},
   "source": [
    "$$\n",
    "D(p)=e^{C(p)}\n",
    "$$"
   ]
  },
  {
   "cell_type": "markdown",
   "metadata": {},
   "source": [
    "$$\n",
    "D(p)=D(p-1)e^{1/p}\n",
    "$$"
   ]
  },
  {
   "cell_type": "markdown",
   "metadata": {},
   "source": [
    "$$\n",
    "p=1/q, q\\in Z, q>0, x^p=y, x=y^q, dx=qy^{q-1}dy\n",
    "$$"
   ]
  },
  {
   "cell_type": "markdown",
   "metadata": {},
   "source": [
    "$$\n",
    "x^{p-1}dx=x^{1/q-1}dx=yy^{-q}qy^{q-1}dy=qdy\n",
    "$$"
   ]
  },
  {
   "cell_type": "markdown",
   "metadata": {},
   "source": [
    "$$\n",
    "A(p-1)=\\int_0^1 q\\ln(1-x^q)dx\n",
    "$$"
   ]
  },
  {
   "cell_type": "markdown",
   "metadata": {},
   "source": [
    "$$\n",
    "q[i\\pi+\\int_0^1 \\ln(x-1)+\\ln(x-\\alpha_1)+\\cdots+\\ln(x-\\alpha_{q-1})dx]\n",
    "$$\n",
    "where $\\alpha_i$ is the $q$-th root of unity."
   ]
  },
  {
   "cell_type": "markdown",
   "metadata": {},
   "source": [
    "$$\n",
    "i\\pi+\\int_0^1\\ln(x-1)dx = \\int_0^1 \\ln(1-x)dx=-1\n",
    "$$"
   ]
  },
  {
   "cell_type": "markdown",
   "metadata": {},
   "source": [
    "Let $q=3$."
   ]
  },
  {
   "cell_type": "markdown",
   "metadata": {},
   "source": [
    "$$\n",
    "3[-1+\\int_0^1\\ln(x-\\alpha_1)dx+\\int_0^1\\ln(x-\\alpha_2)dx]\n",
    "$$"
   ]
  },
  {
   "cell_type": "markdown",
   "metadata": {},
   "source": [
    "$$\n",
    "\\alpha_1=\\exp(i2/3\\pi), \\alpha_2=\\exp(-i2/3\\pi)\n",
    "$$"
   ]
  },
  {
   "cell_type": "markdown",
   "metadata": {},
   "source": [
    "$$\n",
    "\\int_0^1\\ln(x-\\alpha)dx=(1-\\alpha)\\ln(1-\\alpha)-1+\\alpha\\ln(-\\alpha)\n",
    "$$"
   ]
  },
  {
   "cell_type": "markdown",
   "metadata": {},
   "source": [
    "$$\n",
    "\\int_0^1 \\ln(x^2+x+1)dx=-2+\\frac{\\sqrt{3}}{6}\\pi +\\frac{3}{2}\\ln3\n",
    "$$"
   ]
  },
  {
   "cell_type": "markdown",
   "metadata": {},
   "source": [
    "$$\n",
    "3(-3+\\frac{\\sqrt{3}}{6}\\pi +\\frac{3}{2}\\ln3)\n",
    "$$"
   ]
  },
  {
   "cell_type": "markdown",
   "metadata": {},
   "source": [
    "$$\n",
    "-9+\\frac{\\sqrt{3}}{2}\\pi+\\frac{9}{2}\\ln3\n",
    "$$"
   ]
  },
  {
   "cell_type": "markdown",
   "metadata": {},
   "source": [
    "$$\n",
    "A(\\frac{1}{3})=\\frac{1}{4}(-9+\\frac{\\sqrt{3}}{2}\\pi+\\frac{9}{2}\\ln3)-\\frac{9}{16}\n",
    "$$"
   ]
  },
  {
   "cell_type": "markdown",
   "metadata": {},
   "source": [
    "$$\n",
    "-\\frac{45}{16}+\\frac{\\sqrt{3}}{8}\\pi+\\frac{9}{8}\\ln3\n",
    "$$"
   ]
  },
  {
   "cell_type": "markdown",
   "metadata": {},
   "source": [
    "$$\n",
    "-0.8963864136605451\n",
    "$$"
   ]
  }
 ],
 "metadata": {
  "kernelspec": {
   "display_name": "Python 3",
   "language": "python",
   "name": "python3"
  },
  "language_info": {
   "codemirror_mode": {
    "name": "ipython",
    "version": 3
   },
   "file_extension": ".py",
   "mimetype": "text/x-python",
   "name": "python",
   "nbconvert_exporter": "python",
   "pygments_lexer": "ipython3",
   "version": "3.6.1"
  }
 },
 "nbformat": 4,
 "nbformat_minor": 2
}
